{
 "cells": [
  {
   "cell_type": "code",
   "execution_count": 1,
   "metadata": {
    "collapsed": true
   },
   "outputs": [],
   "source": [
    "%matplotlib inline"
   ]
  },
  {
   "cell_type": "code",
   "execution_count": 2,
   "metadata": {
    "collapsed": true
   },
   "outputs": [],
   "source": [
    "import numpy as np\n",
    "import itertools\n",
    "import matplotlib.pyplot as plt\n",
    "from TFGDCANDECOMP import TFGDCANDECOMP\n",
    "from TFADAMCANDECOMP import TFADAMCANDECOMP\n"
   ]
  },
  {
   "cell_type": "code",
   "execution_count": 3,
   "metadata": {
    "collapsed": true
   },
   "outputs": [],
   "source": [
    "def reconstitute2(s,A,B,C):\n",
    "    return np.einsum('r,ir,jr,kr->ijk', s, A, B, C)"
   ]
  },
  {
   "cell_type": "code",
   "execution_count": 4,
   "metadata": {
    "collapsed": true
   },
   "outputs": [],
   "source": [
    "def reconstitute(A,B,C):\n",
    "    return np.einsum('ir,jr,kr->ijk', A, B, C)"
   ]
  },
  {
   "cell_type": "code",
   "execution_count": 5,
   "metadata": {
    "collapsed": true
   },
   "outputs": [],
   "source": [
    "def calc_exact_acc(A_hat,B_hat,C_hat,A,B,C):\n",
    "    M_hat = np.vstack([A_hat, B_hat, C_hat])\n",
    "    M = np.vstack([A,B,C])\n",
    "    print M_hat.shape\n",
    "    print M.shape\n",
    "    err, perm = utils.exact_factor_acc(M_hat, M)\n",
    "    return err"
   ]
  },
  {
   "cell_type": "code",
   "execution_count": 5,
   "metadata": {
    "collapsed": true
   },
   "outputs": [],
   "source": [
    "A_true = np.random.randn(30,20)\n",
    "B_true = np.random.randn(30,20)\n",
    "C_true = np.random.randn(30,20)\n",
    "X = np.einsum('ir,jr,kr->ijk', A_true, B_true, C_true)"
   ]
  },
  {
   "cell_type": "code",
   "execution_count": 304,
   "metadata": {
    "collapsed": false
   },
   "outputs": [
    {
     "data": {
      "text/plain": [
       "<module 'utils' from 'utils.py'>"
      ]
     },
     "execution_count": 304,
     "metadata": {},
     "output_type": "execute_result"
    }
   ],
   "source": [
    "import utils \n",
    "reload(utils)"
   ]
  },
  {
   "cell_type": "code",
   "execution_count": 6,
   "metadata": {
    "collapsed": true
   },
   "outputs": [],
   "source": [
    "A_true = np.random.randn(10,5)\n",
    "B_true = np.random.randn(10,5)\n",
    "C_true = np.random.randn(10,5)\n",
    "X = np.einsum('ir,jr,kr->ijk', A_true, B_true, C_true)"
   ]
  },
  {
   "cell_type": "code",
   "execution_count": 305,
   "metadata": {
    "collapsed": false
   },
   "outputs": [
    {
     "data": {
      "text/plain": [
       "<module 'NPGDCANDECOMP' from 'NPGDCANDECOMP.pyc'>"
      ]
     },
     "execution_count": 305,
     "metadata": {},
     "output_type": "execute_result"
    }
   ],
   "source": [
    "import NPGDCANDECOMP\n",
    "reload(NPGDCANDECOMP)"
   ]
  },
  {
   "cell_type": "code",
   "execution_count": 306,
   "metadata": {
    "collapsed": false
   },
   "outputs": [
    {
     "data": {
      "text/plain": [
       "<module 'NPALSCANDECOMP' from 'NPALSCANDECOMP.pyc'>"
      ]
     },
     "execution_count": 306,
     "metadata": {},
     "output_type": "execute_result"
    }
   ],
   "source": [
    "import NPALSCANDECOMP\n",
    "reload(NPALSCANDECOMP)"
   ]
  },
  {
   "cell_type": "code",
   "execution_count": 16,
   "metadata": {
    "collapsed": true
   },
   "outputs": [],
   "source": [
    "def unpack(d):\n",
    "    return d[\"s\"], d[\"A\"], d[\"B\"], d[\"C\"], d[\"error_history\"]"
   ]
  },
  {
   "cell_type": "code",
   "execution_count": 17,
   "metadata": {
    "collapsed": false
   },
   "outputs": [
    {
     "name": "stdout",
     "output_type": "stream",
     "text": [
      "Approximating rank 5 with R = 1 error: 0.497671\n",
      "Approximating rank 5 with R = 2 error: 0.246219\n",
      "Approximating rank 5 with R = 3 error: 0.179116\n",
      "Approximating rank 5 with R = 4 error: 0.0928023\n",
      "Approximating rank 5 with R = 5 error: 6.45667e-09\n",
      "Approximating rank 5 with R = 6 error: 2.69982e-09\n",
      "Approximating rank 5 with R = 7 error: 4.61092e-08\n",
      "Approximating rank 5 with R = 8 error: 8.76198e-09\n",
      "Approximating rank 5 with R = 9 error: 1.989e-07\n"
     ]
    }
   ],
   "source": [
    "X = utils.NormalTensorComposition((10, 10, 10), 5)\n",
    "for r in range(1, 10):\n",
    "    s,A,B,C,_ = unpack(NPALSCANDECOMP.NPALSCANDECOMP(X, r))\n",
    "    print(\"Approximating rank 5 with R = %d error: %g\" % (r, utils.accuracy(X, r, s, A, B, C)))"
   ]
  },
  {
   "cell_type": "code",
   "execution_count": 315,
   "metadata": {
    "collapsed": false
   },
   "outputs": [
    {
     "data": {
      "text/plain": [
       "[<matplotlib.lines.Line2D at 0x7fd525759d90>]"
      ]
     },
     "execution_count": 315,
     "metadata": {},
     "output_type": "execute_result"
    },
    {
     "data": {
      "image/png": "[encoded data removed]",
      "text/plain": [
       "<matplotlib.figure.Figure at 0x7fd52584c510>"
      ]
     },
     "metadata": {},
     "output_type": "display_data"
    }
   ],
   "source": [
    "#fun sanity example\n",
    "A = np.array([[1.0, 0.0], [2.0, 1.0], [1.0, 2.0]]).T\n",
    "B = np.array([[0.0, 1.0], [2.0, 2.0], [1.0, 2.0]]).T\n",
    "C = np.array([[1.0, 0.0], [0.0, 1.0], [2.0, 1.0]]).T\n",
    "X = np.einsum('ir,jr,kr->ijk', A, B, C)\n",
    "results = NPALSCANDECOMP.NPALSCANDECOMP(X, 3)\n",
    "s_out, A_out, B_out, C_out, errors = unpack(results)\n",
    "Y = np.einsum('r,ir,jr,kr->ijk', s_out, A_out, B_out, C_out)\n",
    "error = utils.accuracy(X, 3, s_out, A_out, B_out, C_out)\n",
    "\n",
    "results = utils.factor_acc_history(results, [A,B,C])\n",
    "plt.plot(results[\"factor_error\"])"
   ]
  },
  {
   "cell_type": "code",
   "execution_count": 303,
   "metadata": {
    "collapsed": false
   },
   "outputs": [
    {
     "name": "stdout",
     "output_type": "stream",
     "text": [
      "[[False False False]\n",
      " [False False False]]\n"
     ]
    },
    {
     "data": {
      "text/plain": [
       "[<matplotlib.lines.Line2D at 0x7fd525f54450>]"
      ]
     },
     "execution_count": 303,
     "metadata": {},
     "output_type": "execute_result"
    },
    {
     "data": {
      "image/png": "[encoded data removed]",
      "text/plain": [
       "<matplotlib.figure.Figure at 0x7fd525fb8c50>"
      ]
     },
     "metadata": {},
     "output_type": "display_data"
    }
   ],
   "source": [
    "#fun sanity example\n",
    "A = np.array([[1.0, 0.0], [2.0, 1.0], [1.0, 2.0]]).T\n",
    "B = np.array([[0.0, 1.0], [2.0, 2.0], [1.0, 2.0]]).T\n",
    "C = np.array([[1.0, 0.0], [0.0, 1.0], [2.0, 1.0]]).T\n",
    "X = np.einsum('ir,jr,kr->ijk', A, B, C)\n",
    "results1 = NPGDCANDECOMP.NPGDCANDECOMP(X, 3)\n",
    "s_out, A_out, B_out, C_out, errors = unpack(results)\n",
    "Y = np.einsum('r,ir,jr,kr->ijk', s_out, A_out, B_out, C_out)\n",
    "error = utils.accuracy(X, 3, s_out, A_out, B_out, C_out)\n",
    "\n",
    "factor_acc = utils.factor_acc_history(results, [A,B,C])\n",
    "plt.plot(factor_acc)"
   ]
  },
  {
   "cell_type": "code",
   "execution_count": 174,
   "metadata": {
    "collapsed": false
   },
   "outputs": [
    {
     "data": {
      "text/plain": [
       "[<matplotlib.lines.Line2D at 0x7fd52aa35f50>]"
      ]
     },
     "execution_count": 174,
     "metadata": {},
     "output_type": "execute_result"
    },
    {
     "data": {
      "image/png": "[encoded data removed]",
      "text/plain": [
       "<matplotlib.figure.Figure at 0x7fd52ade1f50>"
      ]
     },
     "metadata": {},
     "output_type": "display_data"
    }
   ],
   "source": [
    "plt.plot(errors)"
   ]
  },
  {
   "cell_type": "code",
   "execution_count": 318,
   "metadata": {
    "collapsed": false
   },
   "outputs": [
    {
     "name": "stdout",
     "output_type": "stream",
     "text": [
      "[[False False False False False]\n",
      " [False False False False False]\n",
      " [False False False False False]\n",
      " [False False False False False]\n",
      " [False False False False False]\n",
      " [False False False False False]\n",
      " [False False False False False]\n",
      " [False False False False False]\n",
      " [False False False False False]\n",
      " [False False False False False]]\n"
     ]
    },
    {
     "data": {
      "text/plain": [
       "[<matplotlib.lines.Line2D at 0x7fd5256db290>]"
      ]
     },
     "execution_count": 318,
     "metadata": {},
     "output_type": "execute_result"
    },
    {
     "data": {
      "image/png": "[encoded data removed]",
      "text/plain": [
       "<matplotlib.figure.Figure at 0x7fd525770d10>"
      ]
     },
     "metadata": {},
     "output_type": "display_data"
    }
   ],
   "source": [
    "A = np.random.randn(10,5)\n",
    "B = np.random.randn(10,5)\n",
    "C = np.random.randn(10,5)\n",
    "X = np.einsum('ir,jr,kr->ijk', A, B, C)\n",
    "results1 = NPALSCANDECOMP.NPALSCANDECOMP(X, 5, tol=0.000001)\n",
    "results1 = utils.factor_acc_history(results1, [A,B,C])\n",
    "results2 = NPGDCANDECOMP.NPGDCANDECOMP(X, 5, tol=0.000001)\n",
    "results2 = utils.factor_acc_history(results2, [A,B,C])\n",
    "plt.figure(figsize=(12,10))\n",
    "plt.plot(results1[\"factor_error\"], label=\"NP ALS factor error\")\n",
    "plt.plot(results2[\"factor_error\"], label=\"NP GD factor error\")\n"
   ]
  },
  {
   "cell_type": "code",
   "execution_count": 270,
   "metadata": {
    "collapsed": false
   },
   "outputs": [
    {
     "data": {
      "text/plain": [
       "[<matplotlib.lines.Line2D at 0x7fd527684a10>]"
      ]
     },
     "execution_count": 270,
     "metadata": {},
     "output_type": "execute_result"
    },
    {
     "data": {
      "image/png": "[encoded data removed]",
      "text/plain": [
       "<matplotlib.figure.Figure at 0x7fd527b6c050>"
      ]
     },
     "metadata": {},
     "output_type": "display_data"
    }
   ],
   "source": [
    "plt.plot(errors)"
   ]
  },
  {
   "cell_type": "code",
   "execution_count": 262,
   "metadata": {
    "collapsed": false
   },
   "outputs": [
    {
     "name": "stdout",
     "output_type": "stream",
     "text": [
      "[[False False False False False]\n",
      " [False False False False False]\n",
      " [False False False False False]\n",
      " [False False False False False]\n",
      " [False False False False False]\n",
      " [False False False False False]\n",
      " [False False False False False]\n",
      " [False False False False False]\n",
      " [False False False False False]\n",
      " [False False False False False]]\n"
     ]
    },
    {
     "data": {
      "text/plain": [
       "[<matplotlib.lines.Line2D at 0x7fd527c63ed0>]"
      ]
     },
     "execution_count": 262,
     "metadata": {},
     "output_type": "execute_result"
    },
    {
     "data": {
      "image/png": "[encoded data removed]",
      "text/plain": [
       "<matplotlib.figure.Figure at 0x7fd527cb90d0>"
      ]
     },
     "metadata": {},
     "output_type": "display_data"
    }
   ],
   "source": [
    "results = NPGDCANDECOMP.NPGDCANDECOMP(X, 5)\n",
    "s_out, A_out, B_out, C_out, errors = unpack(results)\n",
    "Y = np.einsum('r,ir,jr,kr->ijk', s_out, A_out, B_out, C_out)\n",
    "error = utils.accuracy(X, 5, s_out, A_out, B_out, C_out)\n",
    "\n",
    "factor_acc = utils.factor_acc_history(results, [A,B,C])\n",
    "plt.plot(errors)"
   ]
  },
  {
   "cell_type": "code",
   "execution_count": 273,
   "metadata": {
    "collapsed": false
   },
   "outputs": [
    {
     "name": "stdout",
     "output_type": "stream",
     "text": [
      "[[False False False False False]\n",
      " [False False False False False]\n",
      " [False False False False False]\n",
      " [False False False False False]\n",
      " [False False False False False]\n",
      " [False False False False False]\n",
      " [False False False False False]\n",
      " [False False False False False]\n",
      " [False False False False False]\n",
      " [False False False False False]]\n"
     ]
    },
    {
     "data": {
      "text/plain": [
       "[<matplotlib.lines.Line2D at 0x7fd527450fd0>]"
      ]
     },
     "execution_count": 273,
     "metadata": {},
     "output_type": "execute_result"
    },
    {
     "data": {
      "image/png": "[encoded data removed]",
      "text/plain": [
       "<matplotlib.figure.Figure at 0x7fd527582110>"
      ]
     },
     "metadata": {},
     "output_type": "display_data"
    }
   ],
   "source": [
    "A = np.random.randn(10,5)\n",
    "B = np.random.randn(10,5)\n",
    "C = np.random.randn(10,5)\n",
    "X = np.einsum('ir,jr,kr->ijk', A, B, C)\n",
    "results = NPGDCANDECOMP.NPGDCANDECOMP(X, 5)\n",
    "s_out, A_out, B_out, C_out, errors = unpack(results)\n",
    "Y = np.einsum('r,ir,jr,kr->ijk', s_out, A_out, B_out, C_out)\n",
    "error = utils.accuracy(X, 5, s_out, A_out, B_out, C_out)\n",
    "\n",
    "factor_acc = utils.factor_acc_history(results, [A,B,C])\n",
    "plt.plot(factor_acc)"
   ]
  },
  {
   "cell_type": "code",
   "execution_count": 271,
   "metadata": {
    "collapsed": false
   },
   "outputs": [
    {
     "data": {
      "text/plain": [
       "[<matplotlib.lines.Line2D at 0x7fd5275bec50>]"
      ]
     },
     "execution_count": 271,
     "metadata": {},
     "output_type": "execute_result"
    },
    {
     "data": {
      "image/png": "[encoded data removed]",
      "text/plain": [
       "<matplotlib.figure.Figure at 0x7fd5276a9e50>"
      ]
     },
     "metadata": {},
     "output_type": "display_data"
    }
   ],
   "source": [
    "plt.plot(errors)"
   ]
  },
  {
   "cell_type": "code",
   "execution_count": 232,
   "metadata": {
    "collapsed": false
   },
   "outputs": [
    {
     "data": {
      "text/plain": [
       "array([[ True,  True,  True,  True,  True],\n",
       "       [ True,  True,  True,  True,  True],\n",
       "       [ True,  True,  True,  True,  True],\n",
       "       [ True,  True,  True,  True,  True],\n",
       "       [ True,  True,  True,  True,  True],\n",
       "       [ True,  True,  True,  True,  True],\n",
       "       [ True,  True,  True,  True,  True],\n",
       "       [ True,  True,  True,  True,  True],\n",
       "       [ True,  True,  True,  True,  True],\n",
       "       [ True,  True,  True,  True,  True]], dtype=bool)"
      ]
     },
     "execution_count": 232,
     "metadata": {},
     "output_type": "execute_result"
    }
   ],
   "source": [
    "results[\"A_history\"][0] == results[\"A_history\"][-1]"
   ]
  },
  {
   "cell_type": "code",
   "execution_count": 229,
   "metadata": {
    "collapsed": false
   },
   "outputs": [
    {
     "data": {
      "text/plain": [
       "89"
      ]
     },
     "execution_count": 229,
     "metadata": {},
     "output_type": "execute_result"
    }
   ],
   "source": [
    "len(results[\"A_history\"])"
   ]
  },
  {
   "cell_type": "code",
   "execution_count": 233,
   "metadata": {
    "collapsed": false
   },
   "outputs": [
    {
     "data": {
      "text/plain": [
       "True"
      ]
     },
     "execution_count": 233,
     "metadata": {},
     "output_type": "execute_result"
    }
   ],
   "source": [
    "np.allclose(results[\"A_history\"][0], results[\"A_history\"][-1])"
   ]
  },
  {
   "cell_type": "code",
   "execution_count": 234,
   "metadata": {
    "collapsed": false
   },
   "outputs": [
    {
     "data": {
      "text/plain": [
       "True"
      ]
     },
     "execution_count": 234,
     "metadata": {},
     "output_type": "execute_result"
    }
   ],
   "source": [
    "np.allclose(results[\"B_history\"][0], results[\"B_history\"][-1])"
   ]
  },
  {
   "cell_type": "code",
   "execution_count": 235,
   "metadata": {
    "collapsed": false
   },
   "outputs": [
    {
     "data": {
      "text/plain": [
       "True"
      ]
     },
     "execution_count": 235,
     "metadata": {},
     "output_type": "execute_result"
    }
   ],
   "source": [
    "np.allclose(results[\"C_history\"][0], results[\"C_history\"][-1])"
   ]
  },
  {
   "cell_type": "code",
   "execution_count": 50,
   "metadata": {
    "collapsed": false
   },
   "outputs": [
    {
     "data": {
      "text/plain": [
       "array([  1.25420941e+00,   9.22602873e-01,   1.65160897e-01,\n",
       "         3.82933892e-02,   1.70975140e-02,   1.01451182e-02,\n",
       "         6.79510790e-03,   4.97228159e-03,   3.78656282e-03,\n",
       "         3.01201585e-03,   2.46023529e-03,   2.06988048e-03,\n",
       "         1.77957513e-03,   1.56396284e-03,   1.39572443e-03,\n",
       "         1.26314281e-03,   1.15272470e-03,   1.06014827e-03])"
      ]
     },
     "execution_count": 50,
     "metadata": {},
     "output_type": "execute_result"
    }
   ],
   "source": [
    "results[\"error_history\"]"
   ]
  },
  {
   "cell_type": "code",
   "execution_count": 324,
   "metadata": {
    "collapsed": false
   },
   "outputs": [
    {
     "data": {
      "text/plain": [
       "<module 'plot_tensor' from 'plot_tensor.pyc'>"
      ]
     },
     "execution_count": 324,
     "metadata": {},
     "output_type": "execute_result"
    }
   ],
   "source": [
    "import plot_tensor\n",
    "reload(plot_tensor)"
   ]
  },
  {
   "cell_type": "code",
   "execution_count": 325,
   "metadata": {
    "collapsed": false
   },
   "outputs": [
    {
     "ename": "TypeError",
     "evalue": "NPGDCANDECOMP() got an unexpected keyword argument 'els'",
     "output_type": "error",
     "traceback": [
      "\u001b[0;31m---------------------------------------------------------------------------\u001b[0m",
      "\u001b[0;31mTypeError\u001b[0m                                 Traceback (most recent call last)",
      "\u001b[0;32m<ipython-input-325-52e2a0d81761>\u001b[0m in \u001b[0;36m<module>\u001b[0;34m()\u001b[0m\n\u001b[1;32m      4\u001b[0m \u001b[0mX\u001b[0m \u001b[0;34m=\u001b[0m \u001b[0mnp\u001b[0m\u001b[0;34m.\u001b[0m\u001b[0meinsum\u001b[0m\u001b[0;34m(\u001b[0m\u001b[0;34m'ir,jr,kr->ijk'\u001b[0m\u001b[0;34m,\u001b[0m \u001b[0mA\u001b[0m\u001b[0;34m,\u001b[0m \u001b[0mB\u001b[0m\u001b[0;34m,\u001b[0m \u001b[0mC\u001b[0m\u001b[0;34m)\u001b[0m\u001b[0;34m\u001b[0m\u001b[0m\n\u001b[1;32m      5\u001b[0m \u001b[0;34m\u001b[0m\u001b[0m\n\u001b[0;32m----> 6\u001b[0;31m \u001b[0mplot_tensor\u001b[0m\u001b[0;34m.\u001b[0m\u001b[0mtensor_heatmaps\u001b[0m\u001b[0;34m(\u001b[0m\u001b[0mX\u001b[0m\u001b[0;34m,\u001b[0m\u001b[0mA\u001b[0m\u001b[0;34m,\u001b[0m\u001b[0mB\u001b[0m\u001b[0;34m,\u001b[0m\u001b[0mC\u001b[0m\u001b[0;34m,\u001b[0m\u001b[0;36m4\u001b[0m\u001b[0;34m)\u001b[0m\u001b[0;34m\u001b[0m\u001b[0m\n\u001b[0m",
      "\u001b[0;32m/home/alvin/Projects/18.335FinalProject/plot_tensor.pyc\u001b[0m in \u001b[0;36mtensor_heatmaps\u001b[0;34m(X, A, B, C, R, maxtime, ncol)\u001b[0m\n\u001b[1;32m     15\u001b[0m \u001b[0;32mdef\u001b[0m \u001b[0mtensor_heatmaps\u001b[0m\u001b[0;34m(\u001b[0m\u001b[0mX\u001b[0m\u001b[0;34m,\u001b[0m\u001b[0mA\u001b[0m\u001b[0;34m,\u001b[0m\u001b[0mB\u001b[0m\u001b[0;34m,\u001b[0m\u001b[0mC\u001b[0m\u001b[0;34m,\u001b[0m\u001b[0mR\u001b[0m\u001b[0;34m,\u001b[0m\u001b[0mmaxtime\u001b[0m\u001b[0;34m=\u001b[0m\u001b[0;36m5\u001b[0m\u001b[0;34m,\u001b[0m \u001b[0mncol\u001b[0m\u001b[0;34m=\u001b[0m\u001b[0;36m3\u001b[0m\u001b[0;34m)\u001b[0m\u001b[0;34m:\u001b[0m\u001b[0;34m\u001b[0m\u001b[0m\n\u001b[1;32m     16\u001b[0m     \u001b[0mresult_als\u001b[0m \u001b[0;34m=\u001b[0m \u001b[0mNPALSCANDECOMP\u001b[0m\u001b[0;34m(\u001b[0m\u001b[0mX\u001b[0m\u001b[0;34m,\u001b[0m \u001b[0mR\u001b[0m\u001b[0;34m,\u001b[0m \u001b[0mmaxtime\u001b[0m \u001b[0;34m=\u001b[0m \u001b[0mmaxtime\u001b[0m\u001b[0;34m,\u001b[0m\u001b[0mtol\u001b[0m\u001b[0;34m=\u001b[0m\u001b[0;36m0\u001b[0m\u001b[0;34m)\u001b[0m\u001b[0;34m\u001b[0m\u001b[0m\n\u001b[0;32m---> 17\u001b[0;31m     \u001b[0mresult_gd\u001b[0m \u001b[0;34m=\u001b[0m \u001b[0mNPGDCANDECOMP\u001b[0m\u001b[0;34m(\u001b[0m\u001b[0mX\u001b[0m\u001b[0;34m,\u001b[0m \u001b[0mR\u001b[0m\u001b[0;34m,\u001b[0m \u001b[0mmaxtime\u001b[0m \u001b[0;34m=\u001b[0m \u001b[0mmaxtime\u001b[0m\u001b[0;34m,\u001b[0m\u001b[0mtol\u001b[0m\u001b[0;34m=\u001b[0m\u001b[0;36m0\u001b[0m\u001b[0;34m,\u001b[0m \u001b[0mels\u001b[0m\u001b[0;34m=\u001b[0m\u001b[0mFalse\u001b[0m\u001b[0;34m)\u001b[0m\u001b[0;34m\u001b[0m\u001b[0m\n\u001b[0m\u001b[1;32m     18\u001b[0m     \u001b[0mresult_gd_els\u001b[0m \u001b[0;34m=\u001b[0m \u001b[0mNPGDCANDECOMP\u001b[0m\u001b[0;34m(\u001b[0m\u001b[0mX\u001b[0m\u001b[0;34m,\u001b[0m\u001b[0mR\u001b[0m\u001b[0;34m,\u001b[0m \u001b[0mmaxtime\u001b[0m \u001b[0;34m=\u001b[0m \u001b[0mmaxtime\u001b[0m\u001b[0;34m,\u001b[0m \u001b[0mtol\u001b[0m\u001b[0;34m=\u001b[0m\u001b[0;36m0\u001b[0m\u001b[0;34m,\u001b[0m \u001b[0mels\u001b[0m\u001b[0;34m=\u001b[0m\u001b[0mTrue\u001b[0m\u001b[0;34m)\u001b[0m\u001b[0;34m\u001b[0m\u001b[0m\n\u001b[1;32m     19\u001b[0m     \u001b[0mresult_tf\u001b[0m \u001b[0;34m=\u001b[0m \u001b[0mNPGDCANDECOMP\u001b[0m\u001b[0;34m(\u001b[0m\u001b[0mX\u001b[0m\u001b[0;34m,\u001b[0m\u001b[0mR\u001b[0m\u001b[0;34m,\u001b[0m \u001b[0mmaxtime\u001b[0m \u001b[0;34m=\u001b[0m \u001b[0mmaxtime\u001b[0m\u001b[0;34m,\u001b[0m \u001b[0mtol\u001b[0m\u001b[0;34m=\u001b[0m\u001b[0;36m0\u001b[0m\u001b[0;34m)\u001b[0m\u001b[0;34m\u001b[0m\u001b[0m\n",
      "\u001b[0;31mTypeError\u001b[0m: NPGDCANDECOMP() got an unexpected keyword argument 'els'"
     ]
    }
   ],
   "source": [
    "A = np.random.randn(10,4)\n",
    "B = np.random.randn(10,4)\n",
    "C = np.random.randn(10,4)\n",
    "X = np.einsum('ir,jr,kr->ijk', A, B, C)\n",
    "\n",
    "plot_tensor.tensor_heatmaps(X,A,B,C,4)"
   ]
  },
  {
   "cell_type": "code",
   "execution_count": 198,
   "metadata": {
    "collapsed": false
   },
   "outputs": [
    {
     "data": {
      "text/plain": [
       "[array([[  2.68680180e+00,  -5.19097314e-01,  -6.29754473e-01,\n",
       "          -7.45712810e-01,   1.05649336e+00],\n",
       "        [  8.26306631e-01,  -5.85860542e-01,   2.45451102e-01,\n",
       "           4.17981868e-01,   4.72978441e-01],\n",
       "        [ -8.87032792e-01,  -6.38814669e-01,   1.07091618e+00,\n",
       "           6.22697372e-01,  -1.09043869e+00],\n",
       "        [ -2.62015181e+00,  -5.76383255e-01,  -3.74369709e-01,\n",
       "           1.81551503e-01,  -1.97204774e-01],\n",
       "        [  3.76804993e+00,   5.62104094e-01,  -1.07966698e+00,\n",
       "          -1.06840974e-02,  -1.58261316e-01],\n",
       "        [ -1.60324352e+00,  -9.90154042e-01,  -2.31023843e-01,\n",
       "           2.36150016e-02,   4.59312667e-01],\n",
       "        [  2.31439147e+00,   3.27682659e-01,  -2.68738000e-01,\n",
       "           7.06054552e-01,  -7.56866900e-01],\n",
       "        [ -1.42384367e+00,  -2.94805937e-03,   9.06649492e-01,\n",
       "           4.35240686e-01,  -4.81573642e-01],\n",
       "        [  2.07362379e-01,  -2.15803075e+00,   3.64747250e-01,\n",
       "          -6.62534290e-01,   5.80898526e-01],\n",
       "        [  2.86527297e+00,   8.64300489e-01,  -1.18175573e+00,\n",
       "           1.03489665e+00,   2.54470945e-01]]),\n",
       " array([[  2.68680180e+00,  -5.19097314e-01,  -6.29754473e-01,\n",
       "          -7.45712810e-01,   1.05649336e+00],\n",
       "        [  8.26306631e-01,  -5.85860542e-01,   2.45451102e-01,\n",
       "           4.17981868e-01,   4.72978441e-01],\n",
       "        [ -8.87032792e-01,  -6.38814669e-01,   1.07091618e+00,\n",
       "           6.22697372e-01,  -1.09043869e+00],\n",
       "        [ -2.62015181e+00,  -5.76383255e-01,  -3.74369709e-01,\n",
       "           1.81551503e-01,  -1.97204774e-01],\n",
       "        [  3.76804993e+00,   5.62104094e-01,  -1.07966698e+00,\n",
       "          -1.06840974e-02,  -1.58261316e-01],\n",
       "        [ -1.60324352e+00,  -9.90154042e-01,  -2.31023843e-01,\n",
       "           2.36150016e-02,   4.59312667e-01],\n",
       "        [  2.31439147e+00,   3.27682659e-01,  -2.68738000e-01,\n",
       "           7.06054552e-01,  -7.56866900e-01],\n",
       "        [ -1.42384367e+00,  -2.94805937e-03,   9.06649492e-01,\n",
       "           4.35240686e-01,  -4.81573642e-01],\n",
       "        [  2.07362379e-01,  -2.15803075e+00,   3.64747250e-01,\n",
       "          -6.62534290e-01,   5.80898526e-01],\n",
       "        [  2.86527297e+00,   8.64300489e-01,  -1.18175573e+00,\n",
       "           1.03489665e+00,   2.54470945e-01]])]"
      ]
     },
     "execution_count": 198,
     "metadata": {},
     "output_type": "execute_result"
    }
   ],
   "source": [
    "results[\"A_history\"]"
   ]
  },
  {
   "cell_type": "code",
   "execution_count": null,
   "metadata": {
    "collapsed": true
   },
   "outputs": [],
   "source": [
    "\n",
    "a_nrm = np.linalg.norm(A, ord = 2, axis = 0)\n",
    "A /= a_nrm\n",
    "b_nrm = np.linalg.norm(B, ord = 2, axis = 0)\n",
    "B /= b_nrm\n",
    "c_nrm = np.linalg.norm(C, ord = 2, axis = 0)\n",
    "C /= c_nrm"
   ]
  },
  {
   "cell_type": "code",
   "execution_count": 46,
   "metadata": {
    "collapsed": false
   },
   "outputs": [
    {
     "name": "stdout",
     "output_type": "stream",
     "text": [
      "Tolerance limit reached, stopping!\n",
      "4612.85325115\n"
     ]
    }
   ],
   "source": [
    "A_out, B_out, C_out, errors, fac_errors = NPGDCANDECOMP.NPGDCANDECOMP(X,5, ELS=False,true=[A_true, B_true, C_true])\n",
    "print(errors[-1]) "
   ]
  },
  {
   "cell_type": "code",
   "execution_count": 47,
   "metadata": {
    "collapsed": false
   },
   "outputs": [
    {
     "data": {
      "text/plain": [
       "[<matplotlib.lines.Line2D at 0x7f31629d4f10>]"
      ]
     },
     "execution_count": 47,
     "metadata": {},
     "output_type": "execute_result"
    },
    {
     "data": {
      "image/png": "[encoded data removed]",
      "text/plain": [
       "<matplotlib.figure.Figure at 0x7f3162b02c10>"
      ]
     },
     "metadata": {},
     "output_type": "display_data"
    }
   ],
   "source": [
    "plt.plot(fac_errors)"
   ]
  },
  {
   "cell_type": "code",
   "execution_count": 48,
   "metadata": {
    "collapsed": false
   },
   "outputs": [
    {
     "data": {
      "text/plain": [
       "[<matplotlib.lines.Line2D at 0x7f316291b150>]"
      ]
     },
     "execution_count": 48,
     "metadata": {},
     "output_type": "execute_result"
    },
    {
     "data": {
      "image/png": "[encoded data removed]",
      "text/plain": [
       "<matplotlib.figure.Figure at 0x7f316a383410>"
      ]
     },
     "metadata": {},
     "output_type": "display_data"
    }
   ],
   "source": [
    "plt.plot(errors)"
   ]
  },
  {
   "cell_type": "code",
   "execution_count": 42,
   "metadata": {
    "collapsed": false
   },
   "outputs": [
    {
     "name": "stdout",
     "output_type": "stream",
     "text": [
      "(30, 5)\n",
      "(30, 5)\n"
     ]
    },
    {
     "data": {
      "text/plain": [
       "26.272897967475743"
      ]
     },
     "execution_count": 42,
     "metadata": {},
     "output_type": "execute_result"
    }
   ],
   "source": [
    "calc_exact_acc(A_out, B_out, C_out, A_true, B_true, C_true)"
   ]
  },
  {
   "cell_type": "code",
   "execution_count": 51,
   "metadata": {
    "collapsed": false
   },
   "outputs": [
    {
     "name": "stdout",
     "output_type": "stream",
     "text": [
      "Tolerance limit reached, stopping!\n",
      "3.97991630113e-07\n"
     ]
    }
   ],
   "source": [
    "A_out, B_out, C_out, errors, fac_errors = NPALSCANDECOMP.NPALSCANDECOMP(X,5,true=[A_true, B_true, C_true])\n",
    "print(errors[-1])"
   ]
  },
  {
   "cell_type": "code",
   "execution_count": 52,
   "metadata": {
    "collapsed": false
   },
   "outputs": [
    {
     "data": {
      "text/plain": [
       "[<matplotlib.lines.Line2D at 0x7f31627c7b10>]"
      ]
     },
     "execution_count": 52,
     "metadata": {},
     "output_type": "execute_result"
    },
    {
     "data": {
      "image/png": "[encoded data removed]",
      "text/plain": [
       "<matplotlib.figure.Figure at 0x7f316a3ee210>"
      ]
     },
     "metadata": {},
     "output_type": "display_data"
    }
   ],
   "source": [
    "plt.plot(fac_errors)"
   ]
  },
  {
   "cell_type": "code",
   "execution_count": 53,
   "metadata": {
    "collapsed": false
   },
   "outputs": [
    {
     "data": {
      "text/plain": [
       "[<matplotlib.lines.Line2D at 0x7f3162738cd0>]"
      ]
     },
     "execution_count": 53,
     "metadata": {},
     "output_type": "execute_result"
    },
    {
     "data": {
      "image/png": "[encoded data removed]",
      "text/plain": [
       "<matplotlib.figure.Figure at 0x7f3162841dd0>"
      ]
     },
     "metadata": {},
     "output_type": "display_data"
    }
   ],
   "source": [
    "plt.plot(errors)"
   ]
  },
  {
   "cell_type": "code",
   "execution_count": 138,
   "metadata": {
    "collapsed": false
   },
   "outputs": [
    {
     "name": "stdout",
     "output_type": "stream",
     "text": [
      "(30, 5)\n",
      "(30, 5)\n",
      "[(0, 1, 2, 3, 4), (0, 1, 2, 4, 3), (0, 1, 3, 2, 4), (0, 1, 3, 4, 2), (0, 1, 4, 2, 3), (0, 1, 4, 3, 2), (0, 2, 1, 3, 4), (0, 2, 1, 4, 3), (0, 2, 3, 1, 4), (0, 2, 3, 4, 1), (0, 2, 4, 1, 3), (0, 2, 4, 3, 1), (0, 3, 1, 2, 4), (0, 3, 1, 4, 2), (0, 3, 2, 1, 4), (0, 3, 2, 4, 1), (0, 3, 4, 1, 2), (0, 3, 4, 2, 1), (0, 4, 1, 2, 3), (0, 4, 1, 3, 2), (0, 4, 2, 1, 3), (0, 4, 2, 3, 1), (0, 4, 3, 1, 2), (0, 4, 3, 2, 1), (1, 0, 2, 3, 4), (1, 0, 2, 4, 3), (1, 0, 3, 2, 4), (1, 0, 3, 4, 2), (1, 0, 4, 2, 3), (1, 0, 4, 3, 2), (1, 2, 0, 3, 4), (1, 2, 0, 4, 3), (1, 2, 3, 0, 4), (1, 2, 3, 4, 0), (1, 2, 4, 0, 3), (1, 2, 4, 3, 0), (1, 3, 0, 2, 4), (1, 3, 0, 4, 2), (1, 3, 2, 0, 4), (1, 3, 2, 4, 0), (1, 3, 4, 0, 2), (1, 3, 4, 2, 0), (1, 4, 0, 2, 3), (1, 4, 0, 3, 2), (1, 4, 2, 0, 3), (1, 4, 2, 3, 0), (1, 4, 3, 0, 2), (1, 4, 3, 2, 0), (2, 0, 1, 3, 4), (2, 0, 1, 4, 3), (2, 0, 3, 1, 4), (2, 0, 3, 4, 1), (2, 0, 4, 1, 3), (2, 0, 4, 3, 1), (2, 1, 0, 3, 4), (2, 1, 0, 4, 3), (2, 1, 3, 0, 4), (2, 1, 3, 4, 0), (2, 1, 4, 0, 3), (2, 1, 4, 3, 0), (2, 3, 0, 1, 4), (2, 3, 0, 4, 1), (2, 3, 1, 0, 4), (2, 3, 1, 4, 0), (2, 3, 4, 0, 1), (2, 3, 4, 1, 0), (2, 4, 0, 1, 3), (2, 4, 0, 3, 1), (2, 4, 1, 0, 3), (2, 4, 1, 3, 0), (2, 4, 3, 0, 1), (2, 4, 3, 1, 0), (3, 0, 1, 2, 4), (3, 0, 1, 4, 2), (3, 0, 2, 1, 4), (3, 0, 2, 4, 1), (3, 0, 4, 1, 2), (3, 0, 4, 2, 1), (3, 1, 0, 2, 4), (3, 1, 0, 4, 2), (3, 1, 2, 0, 4), (3, 1, 2, 4, 0), (3, 1, 4, 0, 2), (3, 1, 4, 2, 0), (3, 2, 0, 1, 4), (3, 2, 0, 4, 1), (3, 2, 1, 0, 4), (3, 2, 1, 4, 0), (3, 2, 4, 0, 1), (3, 2, 4, 1, 0), (3, 4, 0, 1, 2), (3, 4, 0, 2, 1), (3, 4, 1, 0, 2), (3, 4, 1, 2, 0), (3, 4, 2, 0, 1), (3, 4, 2, 1, 0), (4, 0, 1, 2, 3), (4, 0, 1, 3, 2), (4, 0, 2, 1, 3), (4, 0, 2, 3, 1), (4, 0, 3, 1, 2), (4, 0, 3, 2, 1), (4, 1, 0, 2, 3), (4, 1, 0, 3, 2), (4, 1, 2, 0, 3), (4, 1, 2, 3, 0), (4, 1, 3, 0, 2), (4, 1, 3, 2, 0), (4, 2, 0, 1, 3), (4, 2, 0, 3, 1), (4, 2, 1, 0, 3), (4, 2, 1, 3, 0), (4, 2, 3, 0, 1), (4, 2, 3, 1, 0), (4, 3, 0, 1, 2), (4, 3, 0, 2, 1), (4, 3, 1, 0, 2), (4, 3, 1, 2, 0), (4, 3, 2, 0, 1), (4, 3, 2, 1, 0)]\n",
      "[ 28.14382239  28.36897037  26.64732306  26.89007919  28.17264363\n",
      "  28.19025177  28.18639207  28.41154006  26.91004918  27.00865435\n",
      "  28.43536974  28.30882693  28.10379433  28.34655046  28.32395076\n",
      "  28.42255594  28.37038015  28.22622919  26.6099396   26.62754775\n",
      "  26.83009603  26.70355323  25.35120485  25.2070539   26.7326675\n",
      "  26.95781549  25.23616818  25.4789243   26.76148874  26.77909688\n",
      "  26.74570283  26.97085082  25.40948304  22.81099226  26.9348036\n",
      "  24.11116484  26.66310509  26.90586122  26.82338462  24.22489384\n",
      "  26.86981401  24.0285671   25.16925036  25.18685851  25.32952989\n",
      "  22.50589113  23.85063871  21.0093918   28.05182611  28.27697409\n",
      "  26.77548321  26.87408839  28.30080378  28.17426097  28.02229175\n",
      "  28.24743973  26.68607195  24.08758118  28.21139252  25.38775376\n",
      "  28.20242013  28.3010253   28.14254323  25.54405245  28.26497809\n",
      "  25.56788213  26.7085654   26.58202259  26.6486885   23.82504973\n",
      "  25.24580279  22.54870684  28.10166879  28.34442492  28.32182522\n",
      "  28.4204304   28.3682546   28.22410365  28.07213443  28.31489056\n",
      "  28.23241396  25.63392319  28.27884335  25.43759644  28.33486055\n",
      "  28.43346573  28.27498365  25.67649287  28.39741851  25.70032256\n",
      "  26.77601622  26.63186527  26.71613932  23.87489242  26.7921448\n",
      "  24.09504885  28.117823    28.13543114  28.33797943  28.21143662\n",
      "  26.85908825  26.7149373   28.08828864  28.10589679  28.24856818\n",
      "  25.42492941  26.76967699  23.92843009  28.35101476  28.22447195\n",
      "  28.29113786  25.4674991   26.88825216  24.1911562   28.28602516\n",
      "  28.14187421  28.22614826  25.38490136  28.30215374  25.60505779]\n"
     ]
    },
    {
     "data": {
      "text/plain": [
       "21.009391804611209"
      ]
     },
     "execution_count": 138,
     "metadata": {},
     "output_type": "execute_result"
    }
   ],
   "source": [
    "calc_exact_acc(A_out, B_out, C_out, A_true, B_true, C_true)"
   ]
  },
  {
   "cell_type": "code",
   "execution_count": 89,
   "metadata": {
    "collapsed": false
   },
   "outputs": [
    {
     "name": "stdout",
     "output_type": "stream",
     "text": [
      "12.7811100337\n",
      "5001\n"
     ]
    }
   ],
   "source": [
    "s, A_out, B_out, C_out, errors = TFGDCANDECOMP(X,5)\n",
    "print(errors[-1])\n",
    "print(len(errors))"
   ]
  },
  {
   "cell_type": "code",
   "execution_count": 37,
   "metadata": {
    "collapsed": true
   },
   "outputs": [],
   "source": [
    "Y=reconstitute(A_out,B_out,C_out)"
   ]
  },
  {
   "cell_type": "code",
   "execution_count": 38,
   "metadata": {
    "collapsed": false
   },
   "outputs": [
    {
     "data": {
      "text/plain": [
       "<matplotlib.colorbar.Colorbar at 0x7f5413f0dcd0>"
      ]
     },
     "execution_count": 38,
     "metadata": {},
     "output_type": "execute_result"
    },
    {
     "data": {
      "image/png": "[encoded data removed]",
      "text/plain": [
       "<matplotlib.figure.Figure at 0x7f541ba772d0>"
      ]
     },
     "metadata": {},
     "output_type": "display_data"
    }
   ],
   "source": [
    "plt.pcolor(Y[0])\n",
    "plt.colorbar()"
   ]
  },
  {
   "cell_type": "code",
   "execution_count": 39,
   "metadata": {
    "collapsed": false
   },
   "outputs": [
    {
     "data": {
      "text/plain": [
       "<matplotlib.colorbar.Colorbar at 0x7f5413de2090>"
      ]
     },
     "execution_count": 39,
     "metadata": {},
     "output_type": "execute_result"
    },
    {
     "data": {
      "image/png": "[encoded data removed]",
      "text/plain": [
       "<matplotlib.figure.Figure at 0x7f541bb21990>"
      ]
     },
     "metadata": {},
     "output_type": "display_data"
    }
   ],
   "source": [
    "plt.pcolor(X[0])\n",
    "plt.colorbar()"
   ]
  },
  {
   "cell_type": "code",
   "execution_count": 229,
   "metadata": {
    "collapsed": false
   },
   "outputs": [
    {
     "data": {
      "text/plain": [
       "(30, 30, 30)"
      ]
     },
     "execution_count": 229,
     "metadata": {},
     "output_type": "execute_result"
    }
   ],
   "source": [
    "X.shape"
   ]
  },
  {
   "cell_type": "code",
   "execution_count": 214,
   "metadata": {
    "collapsed": false
   },
   "outputs": [
    {
     "data": {
      "text/plain": [
       "(900, 20)"
      ]
     },
     "execution_count": 214,
     "metadata": {},
     "output_type": "execute_result"
    }
   ],
   "source": [
    "KR(A_true,B_true).shape"
   ]
  },
  {
   "cell_type": "code",
   "execution_count": 29,
   "metadata": {
    "collapsed": false
   },
   "outputs": [
    {
     "data": {
      "text/plain": [
       "<module 'NPALSCANDECOMP' from 'NPALSCANDECOMP.py'>"
      ]
     },
     "execution_count": 29,
     "metadata": {},
     "output_type": "execute_result"
    }
   ],
   "source": [
    "import NPALSCANDECOMP\n",
    "reload(NPALSCANDECOMP)"
   ]
  },
  {
   "cell_type": "code",
   "execution_count": 30,
   "metadata": {
    "collapsed": false
   },
   "outputs": [
    {
     "name": "stdout",
     "output_type": "stream",
     "text": [
      "Tolerance limit reached, stopping!\n",
      "(30, 20)\n",
      "(30, 20)\n",
      "(30, 20)\n",
      "(252,)\n"
     ]
    }
   ],
   "source": [
    "A_out, B_out, C_out, errors = NPALSCANDECOMP.NPALSCANDECOMP(X,20)"
   ]
  },
  {
   "cell_type": "code",
   "execution_count": 31,
   "metadata": {
    "collapsed": true
   },
   "outputs": [],
   "source": [
    "Y=reconstitute(A_out,B_out,C_out)"
   ]
  },
  {
   "cell_type": "code",
   "execution_count": 32,
   "metadata": {
    "collapsed": false
   },
   "outputs": [
    {
     "data": {
      "text/plain": [
       "1.6843208485592189e-07"
      ]
     },
     "execution_count": 32,
     "metadata": {},
     "output_type": "execute_result"
    }
   ],
   "source": [
    "np.linalg.norm(X-Y)**2"
   ]
  },
  {
   "cell_type": "code",
   "execution_count": 33,
   "metadata": {
    "collapsed": false,
    "scrolled": true
   },
   "outputs": [
    {
     "data": {
      "text/plain": [
       "array([[[  4.35787121e-01,   5.90720454e-02,  -5.68480643e+00, ...,\n",
       "          -4.24075446e+00,   6.12827858e-01,   6.27079712e+00],\n",
       "        [  4.83034702e+00,  -6.35831311e+00,   7.41252166e+00, ...,\n",
       "           5.16621404e+00,   5.83338205e+00,   2.05042956e+00],\n",
       "        [  3.08351847e+00,   1.75132811e+00,   3.03047367e+00, ...,\n",
       "          -2.50805555e+00,  -3.10302642e+00,   1.26325176e+00],\n",
       "        ..., \n",
       "        [ -2.92637821e+00,   3.33376265e+00,   3.56390649e+00, ...,\n",
       "          -5.55187555e+00,  -4.25966649e+00,   7.79046678e+00],\n",
       "        [ -4.14273493e+00,   4.88181187e+00,   3.64777481e+00, ...,\n",
       "          -4.82346342e-01,  -2.27306284e-01,   8.35526557e+00],\n",
       "        [ -3.74353910e+00,  -1.80637425e-01,   8.36404497e+00, ...,\n",
       "           1.01714157e-01,   1.02442537e+00,  -2.52225341e+00]],\n",
       "\n",
       "       [[ -3.11992746e+00,   1.44441559e+00,   8.73098594e+00, ...,\n",
       "          -3.56499639e+00,   3.46308450e+00,   7.43277533e-01],\n",
       "        [ -7.94961704e-01,   2.19824092e-01,  -3.62732993e+00, ...,\n",
       "           2.97174479e+00,  -9.26660817e-01,   2.40096579e-01],\n",
       "        [ -1.20347130e+00,  -3.11701589e+00,  -5.62628907e+00, ...,\n",
       "           6.68225786e+00,  -7.54497709e+00,   6.47011825e+00],\n",
       "        ..., \n",
       "        [ -4.36636910e+00,  -4.30821964e+00,  -1.09808726e+01, ...,\n",
       "          -6.30482941e-01,   7.74829088e+00,   5.42454559e-02],\n",
       "        [ -4.37593588e-01,   4.08498314e-01,   4.93587361e+00, ...,\n",
       "          -4.56764159e-01,  -5.92069630e+00,   9.64102989e-01],\n",
       "        [ -1.28866829e+00,  -4.84408378e+00,  -6.32461504e-01, ...,\n",
       "          -3.47607682e-01,  -1.68838040e+00,  -5.50699016e+00]],\n",
       "\n",
       "       [[ -3.11161657e+00,  -5.60296553e+00,  -8.84586418e-01, ...,\n",
       "          -8.17899333e+00,  -3.61028461e+00,  -8.12715959e+00],\n",
       "        [ -4.69796125e-01,   2.96997739e+00,  -6.60334933e+00, ...,\n",
       "          -3.75202850e+00,  -3.89470972e+00,   3.27997089e-01],\n",
       "        [  3.84052725e+00,   3.82683317e+00,  -5.19357672e+00, ...,\n",
       "           9.94826777e-03,   1.52307387e+00,   8.08882037e-02],\n",
       "        ..., \n",
       "        [ -4.35437530e+00,  -7.12791462e+00,  -2.26618408e+00, ...,\n",
       "          -1.86884526e+00,  -3.57010887e-01,  -9.39938851e+00],\n",
       "        [ -4.03460962e+00,  -1.13319733e-01,   6.33780145e+00, ...,\n",
       "           8.59668986e+00,   5.70915237e-01,  -3.81020054e+00],\n",
       "        [ -1.18118589e+00,   2.03194620e+00,  -1.99218093e+00, ...,\n",
       "          -9.45289532e+00,   1.13671937e+00,  -1.96553035e+00]],\n",
       "\n",
       "       ..., \n",
       "       [[  2.17399082e+00,  -3.31551820e+00,  -5.63127763e+00, ...,\n",
       "           3.38852628e-01,   4.68898147e+00,  -1.22909083e+00],\n",
       "        [  8.69544316e-01,   3.85976712e+00,   2.86286353e+00, ...,\n",
       "          -4.98679319e+00,  -3.46364450e+00,   4.38452353e+00],\n",
       "        [  2.97983313e+00,   4.51234840e+00,   8.68048147e+00, ...,\n",
       "          -5.32897214e+00,  -4.44413469e+00,   4.89180846e+00],\n",
       "        ..., \n",
       "        [  5.41401260e+00,   2.22945793e+00,   3.14934598e+00, ...,\n",
       "          -6.95147429e-02,   1.87619248e+00,  -2.73519894e+00],\n",
       "        [  4.37574741e+00,   3.33621891e+00,  -1.00885213e+00, ...,\n",
       "           5.80599757e+00,   1.96947484e+00,   4.54937165e+00],\n",
       "        [ -7.78527007e-01,   1.65930587e+00,  -3.44794262e+00, ...,\n",
       "          -5.45628384e+00,  -1.18040953e+00,   3.86441520e+00]],\n",
       "\n",
       "       [[  2.46394322e+00,  -7.62435886e-01,   2.28949411e+00, ...,\n",
       "           2.62002007e+00,  -1.35994538e+00,  -1.14778744e+00],\n",
       "        [ -2.87909430e+00,   5.95225656e+00,  -1.11688503e+00, ...,\n",
       "          -5.40514880e+00,   5.23377536e-01,   2.32364940e-01],\n",
       "        [ -4.29218229e-01,  -6.39532634e+00,  -1.85066784e+00, ...,\n",
       "          -3.67819787e+00,   9.02104970e+00,  -4.73390684e+00],\n",
       "        ..., \n",
       "        [ -6.14441903e+00,   1.50838437e+00,   3.37921468e-01, ...,\n",
       "           4.68003975e+00,  -2.74472659e+00,   2.05556326e+00],\n",
       "        [ -4.27979008e+00,  -6.45477423e+00,   7.99707466e-01, ...,\n",
       "          -1.60233620e+00,   1.05448486e+00,  -3.64342446e+00],\n",
       "        [ -3.20112941e-01,   3.66707261e+00,  -4.05740239e-01, ...,\n",
       "          -2.70044895e-01,  -1.35175135e+00,   4.98524395e+00]],\n",
       "\n",
       "       [[ -5.74920631e+00,  -1.22841237e+01,  -6.32771805e-01, ...,\n",
       "          -1.39653653e+01,  -2.08064339e+00,  -9.38320509e+00],\n",
       "        [ -5.87509124e-01,   6.90748151e+00,  -4.85897112e-01, ...,\n",
       "          -1.02960898e+00,  -1.17078303e+00,   2.82246106e+00],\n",
       "        [ -1.22214177e+00,   3.24702927e+00,  -2.44726277e+00, ...,\n",
       "           1.76990079e+00,  -7.37332840e-01,   1.08295647e+00],\n",
       "        ..., \n",
       "        [ -3.98232150e+00,   1.57485910e+00,  -2.70103591e-01, ...,\n",
       "          -4.60166770e+00,  -4.20761886e+00,  -1.21908831e+00],\n",
       "        [ -6.43136114e-01,  -3.25974328e+00,  -1.89681811e+00, ...,\n",
       "           1.37658995e+01,  -1.65476677e+01,   1.55889586e+00],\n",
       "        [  4.35420129e-01,   5.62078349e+00,  -4.90339806e-01, ...,\n",
       "          -9.32468006e+00,   2.45947034e+00,  -2.35940295e+00]]])"
      ]
     },
     "execution_count": 33,
     "metadata": {},
     "output_type": "execute_result"
    }
   ],
   "source": [
    "Y"
   ]
  },
  {
   "cell_type": "code",
   "execution_count": 34,
   "metadata": {
    "collapsed": false,
    "scrolled": true
   },
   "outputs": [
    {
     "data": {
      "text/plain": [
       "array([[[  4.35784054e-01,   5.90740550e-02,  -5.68480767e+00, ...,\n",
       "          -4.24075639e+00,   6.12827039e-01,   6.27079791e+00],\n",
       "        [  4.83034845e+00,  -6.35831011e+00,   7.41252203e+00, ...,\n",
       "           5.16621700e+00,   5.83338246e+00,   2.05043057e+00],\n",
       "        [  3.08351843e+00,   1.75132942e+00,   3.03047269e+00, ...,\n",
       "          -2.50805458e+00,  -3.10302610e+00,   1.26325330e+00],\n",
       "        ..., \n",
       "        [ -2.92638348e+00,   3.33375770e+00,   3.56391289e+00, ...,\n",
       "          -5.55187464e+00,  -4.25966622e+00,   7.79045946e+00],\n",
       "        [ -4.14273483e+00,   4.88181592e+00,   3.64777527e+00, ...,\n",
       "          -4.82346819e-01,  -2.27305799e-01,   8.35526701e+00],\n",
       "        [ -3.74353748e+00,  -1.80636081e-01,   8.36404730e+00, ...,\n",
       "           1.01716600e-01,   1.02442535e+00,  -2.52225420e+00]],\n",
       "\n",
       "       [[ -3.11992709e+00,   1.44441876e+00,   8.73098514e+00, ...,\n",
       "          -3.56499906e+00,   3.46308480e+00,   7.43278195e-01],\n",
       "        [ -7.94962526e-01,   2.19823977e-01,  -3.62733125e+00, ...,\n",
       "           2.97174726e+00,  -9.26659943e-01,   2.40097086e-01],\n",
       "        [ -1.20347021e+00,  -3.11701170e+00,  -5.62628884e+00, ...,\n",
       "           6.68226060e+00,  -7.54497824e+00,   6.47012052e+00],\n",
       "        ..., \n",
       "        [ -4.36637675e+00,  -4.30822807e+00,  -1.09808731e+01, ...,\n",
       "          -6.30488249e-01,   7.74829077e+00,   5.42378544e-02],\n",
       "        [ -4.37595269e-01,   4.08497589e-01,   4.93586857e+00, ...,\n",
       "          -4.56767041e-01,  -5.92069795e+00,   9.64100952e-01],\n",
       "        [ -1.28866831e+00,  -4.84408340e+00,  -6.32463539e-01, ...,\n",
       "          -3.47605901e-01,  -1.68838151e+00,  -5.50698802e+00]],\n",
       "\n",
       "       [[ -3.11161771e+00,  -5.60297423e+00,  -8.84584200e-01, ...,\n",
       "          -8.17898983e+00,  -3.61028583e+00,  -8.12716340e+00],\n",
       "        [ -4.69798451e-01,   2.96997471e+00,  -6.60334898e+00, ...,\n",
       "          -3.75203177e+00,  -3.89470994e+00,   3.27995994e-01],\n",
       "        [  3.84052571e+00,   3.82682784e+00,  -5.19357426e+00, ...,\n",
       "           9.94697267e-03,   1.52307444e+00,   8.08860816e-02],\n",
       "        ..., \n",
       "        [ -4.35437358e+00,  -7.12790119e+00,  -2.26619085e+00, ...,\n",
       "          -1.86884620e+00,  -3.57009422e-01,  -9.39937994e+00],\n",
       "        [ -4.03460960e+00,  -1.13320864e-01,   6.33780644e+00, ...,\n",
       "           8.59669328e+00,   5.70917259e-01,  -3.81020187e+00],\n",
       "        [ -1.18118749e+00,   2.03194443e+00,  -1.99218323e+00, ...,\n",
       "          -9.45289883e+00,   1.13671851e+00,  -1.96552991e+00]],\n",
       "\n",
       "       ..., \n",
       "       [[  2.17399103e+00,  -3.31551960e+00,  -5.63127831e+00, ...,\n",
       "           3.38854203e-01,   4.68898037e+00,  -1.22909093e+00],\n",
       "        [  8.69545150e-01,   3.85976779e+00,   2.86286478e+00, ...,\n",
       "          -4.98679380e+00,  -3.46364409e+00,   4.38452356e+00],\n",
       "        [  2.97983340e+00,   4.51234838e+00,   8.68048241e+00, ...,\n",
       "          -5.32897342e+00,  -4.44413329e+00,   4.89180890e+00],\n",
       "        ..., \n",
       "        [  5.41401640e+00,   2.22945743e+00,   3.14934605e+00, ...,\n",
       "          -6.95109213e-02,   1.87618991e+00,  -2.73519845e+00],\n",
       "        [  4.37575031e+00,   3.33621946e+00,  -1.00885002e+00, ...,\n",
       "           5.80599819e+00,   1.96947498e+00,   4.54937365e+00],\n",
       "        [ -7.78529017e-01,   1.65930381e+00,  -3.44794060e+00, ...,\n",
       "          -5.45628374e+00,  -1.18040763e+00,   3.86441199e+00]],\n",
       "\n",
       "       [[  2.46394392e+00,  -7.62435102e-01,   2.28949511e+00, ...,\n",
       "           2.62001852e+00,  -1.35994587e+00,  -1.14778688e+00],\n",
       "        [ -2.87909601e+00,   5.95225589e+00,  -1.11688650e+00, ...,\n",
       "          -5.40514836e+00,   5.23378023e-01,   2.32364774e-01],\n",
       "        [ -4.29220515e-01,  -6.39532686e+00,  -1.85066857e+00, ...,\n",
       "          -3.67820004e+00,   9.02104962e+00,  -4.73390789e+00],\n",
       "        ..., \n",
       "        [ -6.14442031e+00,   1.50838361e+00,   3.37918856e-01, ...,\n",
       "           4.68004091e+00,  -2.74472543e+00,   2.05556510e+00],\n",
       "        [ -4.27979128e+00,  -6.45477481e+00,   7.99705316e-01, ...,\n",
       "          -1.60233446e+00,   1.05448530e+00,  -3.64342406e+00],\n",
       "        [ -3.20112446e-01,   3.66707412e+00,  -4.05743534e-01, ...,\n",
       "          -2.70044214e-01,  -1.35175131e+00,   4.98524492e+00]],\n",
       "\n",
       "       [[ -5.74920559e+00,  -1.22841190e+01,  -6.32771814e-01, ...,\n",
       "          -1.39653662e+01,  -2.08064364e+00,  -9.38320316e+00],\n",
       "        [ -5.87508450e-01,   6.90748478e+00,  -4.85898348e-01, ...,\n",
       "          -1.02960622e+00,  -1.17078298e+00,   2.82246271e+00],\n",
       "        [ -1.22214144e+00,   3.24703496e+00,  -2.44726257e+00, ...,\n",
       "           1.76990229e+00,  -7.37331850e-01,   1.08295834e+00],\n",
       "        ..., \n",
       "        [ -3.98232175e+00,   1.57484926e+00,  -2.70106458e-01, ...,\n",
       "          -4.60166768e+00,  -4.20762079e+00,  -1.21909139e+00],\n",
       "        [ -6.43133642e-01,  -3.25974059e+00,  -1.89682102e+00, ...,\n",
       "           1.37658987e+01,  -1.65476684e+01,   1.55889882e+00],\n",
       "        [  4.35418591e-01,   5.62078547e+00,  -4.90342646e-01, ...,\n",
       "          -9.32467883e+00,   2.45947185e+00,  -2.35940306e+00]]])"
      ]
     },
     "execution_count": 34,
     "metadata": {},
     "output_type": "execute_result"
    }
   ],
   "source": [
    "X"
   ]
  },
  {
   "cell_type": "code",
   "execution_count": 35,
   "metadata": {
    "collapsed": false,
    "scrolled": true
   },
   "outputs": [
    {
     "data": {
      "text/plain": [
       "array([  1.09389732e+06,   3.51654110e+05,   2.08508525e+05,\n",
       "         1.38039902e+05,   9.36349729e+04,   4.25886116e+04,\n",
       "         2.24950904e+04,   2.01766665e+04,   1.99777987e+04,\n",
       "         1.99269766e+04,   1.98493491e+04,   1.96632582e+04,\n",
       "         1.91773407e+04,   1.80912040e+04,   1.60698819e+04,\n",
       "         1.21742823e+04,   8.48053461e+03,   7.49397962e+03,\n",
       "         7.37515018e+03,   7.35761344e+03,   7.35416201e+03,\n",
       "         7.35340387e+03,   7.35321684e+03,   7.35315535e+03,\n",
       "         7.35312171e+03,   7.35309414e+03,   7.35306777e+03,\n",
       "         7.35304151e+03,   7.35301509e+03,   7.35298847e+03,\n",
       "         7.35296163e+03,   7.35293457e+03,   7.35290727e+03,\n",
       "         7.35287974e+03,   7.35285198e+03,   7.35282398e+03,\n",
       "         7.35279574e+03,   7.35276725e+03,   7.35273852e+03,\n",
       "         7.35270953e+03,   7.35268029e+03,   7.35265079e+03,\n",
       "         7.35262103e+03,   7.35259101e+03,   7.35256072e+03,\n",
       "         7.35253015e+03,   7.35249931e+03,   7.35246820e+03,\n",
       "         7.35243679e+03,   7.35240511e+03,   7.35237313e+03,\n",
       "         7.35234086e+03,   7.35230829e+03,   7.35227541e+03,\n",
       "         7.35224223e+03,   7.35220874e+03,   7.35217493e+03,\n",
       "         7.35214081e+03,   7.35210636e+03,   7.35207158e+03,\n",
       "         7.35203647e+03,   7.35200103e+03,   7.35196524e+03,\n",
       "         7.35192910e+03,   7.35189262e+03,   7.35185577e+03,\n",
       "         7.35181857e+03,   7.35178100e+03,   7.35174305e+03,\n",
       "         7.35170474e+03,   7.35166603e+03,   7.35162695e+03,\n",
       "         7.35158747e+03,   7.35154759e+03,   7.35150730e+03,\n",
       "         7.35146661e+03,   7.35142550e+03,   7.35138397e+03,\n",
       "         7.35134202e+03,   7.35129963e+03,   7.35125680e+03,\n",
       "         7.35121352e+03,   7.35116980e+03,   7.35112561e+03,\n",
       "         7.35108096e+03,   7.35103584e+03,   7.35099024e+03,\n",
       "         7.35094415e+03,   7.35089757e+03,   7.35085049e+03,\n",
       "         7.35080291e+03,   7.35075481e+03,   7.35070619e+03,\n",
       "         7.35065704e+03,   7.35060735e+03,   7.35055712e+03,\n",
       "         7.35050634e+03,   7.35045499e+03,   7.35040308e+03,\n",
       "         7.35035059e+03,   7.35029752e+03,   7.35024385e+03,\n",
       "         7.35018958e+03,   7.35013470e+03,   7.35007919e+03,\n",
       "         7.35002306e+03,   7.34996629e+03,   7.34990888e+03,\n",
       "         7.34985080e+03,   7.34979206e+03,   7.34973264e+03,\n",
       "         7.34967253e+03,   7.34961173e+03,   7.34955022e+03,\n",
       "         7.34948799e+03,   7.34942503e+03,   7.34936133e+03,\n",
       "         7.34929688e+03,   7.34923168e+03,   7.34916569e+03,\n",
       "         7.34909893e+03,   7.34903136e+03,   7.34896299e+03,\n",
       "         7.34889380e+03,   7.34882377e+03,   7.34875290e+03,\n",
       "         7.34868117e+03,   7.34860857e+03,   7.34853509e+03,\n",
       "         7.34846070e+03,   7.34838541e+03,   7.34830919e+03,\n",
       "         7.34823203e+03,   7.34815391e+03,   7.34807482e+03,\n",
       "         7.34799475e+03,   7.34791367e+03,   7.34783158e+03,\n",
       "         7.34774846e+03,   7.34766429e+03,   7.34757905e+03,\n",
       "         7.34749273e+03,   7.34740530e+03,   7.34731676e+03,\n",
       "         7.34722707e+03,   7.34713623e+03,   7.34704422e+03,\n",
       "         7.34695100e+03,   7.34685657e+03,   7.34676089e+03,\n",
       "         7.34666396e+03,   7.34656573e+03,   7.34646621e+03,\n",
       "         7.34636534e+03,   7.34626313e+03,   7.34615953e+03,\n",
       "         7.34605451e+03,   7.34594807e+03,   7.34584015e+03,\n",
       "         7.34573074e+03,   7.34561980e+03,   7.34550730e+03,\n",
       "         7.34539320e+03,   7.34527748e+03,   7.34516009e+03,\n",
       "         7.34504099e+03,   7.34492015e+03,   7.34479752e+03,\n",
       "         7.34467306e+03,   7.34454672e+03,   7.34441845e+03,\n",
       "         7.34428820e+03,   7.34415592e+03,   7.34402154e+03,\n",
       "         7.34388500e+03,   7.34374625e+03,   7.34360520e+03,\n",
       "         7.34346179e+03,   7.34331594e+03,   7.34316757e+03,\n",
       "         7.34301658e+03,   7.34286289e+03,   7.34270638e+03,\n",
       "         7.34254695e+03,   7.34238449e+03,   7.34221887e+03,\n",
       "         7.34204995e+03,   7.34187759e+03,   7.34170163e+03,\n",
       "         7.34152190e+03,   7.34133821e+03,   7.34115037e+03,\n",
       "         7.34095816e+03,   7.34076134e+03,   7.34055965e+03,\n",
       "         7.34035282e+03,   7.34014052e+03,   7.33992243e+03,\n",
       "         7.33969816e+03,   7.33946731e+03,   7.33922942e+03,\n",
       "         7.33898397e+03,   7.33873042e+03,   7.33846813e+03,\n",
       "         7.33819639e+03,   7.33791443e+03,   7.33762134e+03,\n",
       "         7.33731612e+03,   7.33699762e+03,   7.33666453e+03,\n",
       "         7.33631536e+03,   7.33594838e+03,   7.33556156e+03,\n",
       "         7.33515257e+03,   7.33471866e+03,   7.33425654e+03,\n",
       "         7.33376232e+03,   7.33323130e+03,   7.33265776e+03,\n",
       "         7.33203466e+03,   7.33135323e+03,   7.33060239e+03,\n",
       "         7.32976795e+03,   7.32883134e+03,   7.32776786e+03,\n",
       "         7.32654384e+03,   7.32511210e+03,   7.32340452e+03,\n",
       "         7.32131888e+03,   7.31869493e+03,   7.31526731e+03,\n",
       "         7.31056618e+03,   7.30368621e+03,   7.29268298e+03,\n",
       "         7.27274385e+03,   7.22952170e+03,   7.10949482e+03,\n",
       "         6.69330356e+03,   5.75556766e+03,   4.78752904e+03,\n",
       "         3.14194139e+03,   1.21546733e+03,   2.13001752e+02,\n",
       "         1.61950216e+01,   9.70626841e-01,   6.71921696e-02,\n",
       "         5.48072931e-03,   5.23461687e-04,   5.83025162e-05,\n",
       "         7.47062782e-06,   1.07439662e-06,   1.68432085e-07])"
      ]
     },
     "execution_count": 35,
     "metadata": {},
     "output_type": "execute_result"
    }
   ],
   "source": [
    "errors"
   ]
  },
  {
   "cell_type": "code",
   "execution_count": 39,
   "metadata": {
    "collapsed": false
   },
   "outputs": [
    {
     "data": {
      "text/plain": [
       "<matplotlib.colorbar.Colorbar at 0x7f87e4adef10>"
      ]
     },
     "execution_count": 39,
     "metadata": {},
     "output_type": "execute_result"
    },
    {
     "data": {
      "image/png": "[encoded data removed]",
      "text/plain": [
       "<matplotlib.figure.Figure at 0x7f87e4cbbe50>"
      ]
     },
     "metadata": {},
     "output_type": "display_data"
    }
   ],
   "source": [
    "plt.pcolor(Y[0])\n",
    "plt.colorbar()"
   ]
  },
  {
   "cell_type": "code",
   "execution_count": 40,
   "metadata": {
    "collapsed": false
   },
   "outputs": [
    {
     "data": {
      "text/plain": [
       "<matplotlib.colorbar.Colorbar at 0x7f87e506c490>"
      ]
     },
     "execution_count": 40,
     "metadata": {},
     "output_type": "execute_result"
    },
    {
     "data": {
      "image/png": "[encoded data removed]",
      "text/plain": [
       "<matplotlib.figure.Figure at 0x7f87e4a99ad0>"
      ]
     },
     "metadata": {},
     "output_type": "display_data"
    }
   ],
   "source": [
    "plt.pcolor(X[0])\n",
    "plt.colorbar()"
   ]
  },
  {
   "cell_type": "code",
   "execution_count": 22,
   "metadata": {
    "collapsed": false
   },
   "outputs": [
    {
     "data": {
      "text/plain": [
       "array([[  8.71376168e-01,  -1.28795511e+00,  -2.13955365e+00,\n",
       "          3.10090352e+00,  -7.75869646e-01,  -2.96083228e+00,\n",
       "         -5.99830262e-01,  -1.79376168e+00,   1.62200184e+00,\n",
       "          3.79919711e+00,  -3.47944772e+00,  -2.46999360e+00,\n",
       "          4.89780099e+00,   1.23735714e+00,  -4.18911383e+00,\n",
       "         -1.34008323e+00,   1.60204556e-01,  -2.10367884e+00,\n",
       "         -6.63316918e-01,   2.09367796e+00],\n",
       "       [ -1.22944620e+00,  -1.45353820e+00,   4.09799972e+00,\n",
       "         -1.47917800e+00,  -2.46974802e-02,  -2.13040965e+00,\n",
       "         -3.61849434e+00,  -1.13212707e+00,   3.29540638e+00,\n",
       "          8.07984795e-01,   1.42832866e+00,  -6.21039923e+00,\n",
       "         -1.71746582e+00,   1.59983788e+00,  -6.56486267e-01,\n",
       "          1.16088546e+00,   2.91616888e+00,  -1.92535563e-01,\n",
       "          7.16443348e-01,  -1.80099126e+00],\n",
       "       [ -6.37062582e-01,   1.16440680e+00,   1.42526908e+00,\n",
       "          2.68859419e+00,  -4.77738972e+00,   2.12361913e+00,\n",
       "          4.95745801e-01,  -9.25123572e-01,  -3.00361776e+00,\n",
       "         -6.00092321e+00,   1.66973113e-01,   2.10059391e+00,\n",
       "         -1.46715261e+00,  -1.16669490e+00,   1.89265599e+00,\n",
       "          1.24484637e-01,  -2.02162754e+00,  -5.78432702e-01,\n",
       "         -8.00042781e-02,  -3.79907261e+00],\n",
       "       [ -1.57251471e+00,  -3.28271269e+00,  -4.15855768e+00,\n",
       "         -4.44863413e+00,  -8.81370655e-01,  -2.59361109e+00,\n",
       "         -9.93758649e-01,  -3.73609619e+00,  -2.16417982e+00,\n",
       "         -3.17653485e+00,  -2.69502207e-01,   2.65464051e+00,\n",
       "          1.07076781e+00,  -7.42231869e-01,   2.47003939e-01,\n",
       "          1.50956838e+00,  -7.52328157e-02,   1.96891063e-01,\n",
       "          1.34004237e-01,   6.24734163e+00],\n",
       "       [  8.54698831e-02,   2.08130595e+00,   1.06727808e+00,\n",
       "         -2.65528721e+00,   1.53952957e+00,  -3.24676030e+00,\n",
       "          2.96847672e+00,   2.19789668e+00,  -3.11335184e+00,\n",
       "          1.59643922e+00,  -4.80998367e-02,  -1.99443040e+00,\n",
       "         -5.51033732e+00,   5.94185835e-01,  -1.80775374e+00,\n",
       "         -2.66015749e-01,   3.93196337e-01,   1.31094318e+00,\n",
       "         -2.56822462e+00,   7.64690821e-01],\n",
       "       [ -1.21315417e+00,   3.29623210e-02,   1.40002846e+00,\n",
       "         -2.06446848e+00,   1.02632817e+00,   6.35244893e-01,\n",
       "          2.43332253e+00,   2.85293559e+00,  -2.11289180e+00,\n",
       "          5.77696907e+00,   1.16293408e+00,   1.21014147e+00,\n",
       "         -3.98095188e-01,   2.97202221e+00,  -2.86770881e+00,\n",
       "         -2.33173379e-01,  -9.56341536e-01,  -2.68098115e+00,\n",
       "         -1.38400286e-01,   2.64250681e+00],\n",
       "       [ -8.86808067e-01,   1.42978201e+00,  -2.99526028e-01,\n",
       "          2.32998925e+00,  -1.09413164e+00,  -1.32616326e+00,\n",
       "         -1.65402308e+00,  -2.94137265e+00,   2.79903409e+00,\n",
       "         -6.39265836e+00,   1.12666714e+00,  -2.01177167e+00,\n",
       "          1.96650323e+00,  -2.91202041e+00,  -4.65609723e+00,\n",
       "         -2.33828292e-01,  -2.91632570e-01,   2.74985255e-01,\n",
       "          4.60578595e+00,  -5.74027482e+00],\n",
       "       [ -9.39064465e-01,  -1.00007639e+00,   5.23640379e-01,\n",
       "          3.33580997e+00,  -2.20782740e-02,   1.82625507e+00,\n",
       "         -9.77824979e-01,  -1.20655971e+00,   1.79570550e+00,\n",
       "         -3.18096731e+00,  -4.96068039e+00,   2.68349946e-01,\n",
       "         -8.33819323e-01,   1.63213176e+00,   2.80797635e+00,\n",
       "          2.44097172e-01,  -8.08251311e-01,  -5.57735421e-01,\n",
       "         -2.25905782e+00,   7.59531004e+00],\n",
       "       [  4.09456538e-01,  -4.37368431e+00,   1.42546881e+00,\n",
       "         -4.42026911e-01,   3.66765963e+00,   8.32354157e-01,\n",
       "          5.38348632e-01,   2.79130462e-01,   2.06438595e+00,\n",
       "          3.54285588e-01,  -2.42271339e+00,   3.62403028e+00,\n",
       "          3.29958394e+00,  -1.89618876e+00,  -5.02328448e+00,\n",
       "          9.39809703e-02,   2.66458345e+00,  -1.24036547e+00,\n",
       "          1.98136738e+00,  -2.53746156e+00],\n",
       "       [  9.59242005e-01,   3.42624782e-01,  -4.30487073e-01,\n",
       "         -6.72268002e-01,  -5.95492258e+00,   6.69262212e-01,\n",
       "         -1.45154310e-01,   5.77198409e-01,   1.81526027e+00,\n",
       "         -8.81125961e-01,   2.64019440e+00,   1.76381011e-01,\n",
       "         -5.30872670e+00,  -2.64280779e-01,  -4.57521475e-01,\n",
       "          2.61043671e-01,  -1.73246449e+00,  -2.60988017e-01,\n",
       "         -6.23944069e-01,   2.80266407e+00],\n",
       "       [ -1.84555735e+00,  -3.49622317e+00,   1.69258295e+00,\n",
       "          1.75481959e+00,  -3.90334411e-01,  -3.91047589e+00,\n",
       "          5.64407038e-02,  -6.69822573e-01,  -1.96345535e+00,\n",
       "          1.05934271e+00,   2.94139999e+00,   2.45975356e+00,\n",
       "          1.49404329e+00,  -2.71138853e-01,   3.39847233e+00,\n",
       "          4.02880308e-02,   1.25308586e+00,   2.73672292e+00,\n",
       "         -1.75928075e+00,   1.47573444e+00],\n",
       "       [ -1.23124740e-01,  -3.41471405e+00,   1.47569345e-01,\n",
       "         -2.73255706e+00,   6.10243570e-01,   2.67282345e+00,\n",
       "         -3.89493679e+00,  -1.85106775e+00,  -1.17127608e+00,\n",
       "          1.57755424e+00,   2.78902401e+00,  -1.96087091e+00,\n",
       "          2.28378884e+00,   8.08939629e-01,   1.89349719e+00,\n",
       "          1.18533987e+00,   8.99449785e-01,   2.48300692e+00,\n",
       "         -8.57719889e-01,  -1.65356413e+00],\n",
       "       [ -1.62280483e+00,   1.63652964e+00,   1.57987761e-02,\n",
       "         -1.91923320e+00,  -1.42407334e-01,   3.26820510e+00,\n",
       "          8.02703680e-01,   1.37562897e+00,  -6.25537973e-01,\n",
       "          9.12816011e-01,   1.13888737e+00,   1.07607335e-01,\n",
       "          5.76803918e-01,  -5.05727262e-01,   2.10519084e+00,\n",
       "         -3.96663598e-01,  -1.46558894e+00,   4.66155240e-01,\n",
       "         -3.06500261e-02,  -4.22370541e+00],\n",
       "       [ -1.58543837e+00,  -1.70788141e+00,   2.04613191e+00,\n",
       "         -4.29180434e+00,  -4.56716906e-01,   5.04733686e+00,\n",
       "         -3.41881054e+00,  -1.33423596e-01,   3.77024447e-01,\n",
       "          2.45204138e+00,   3.23054176e+00,  -4.07107803e-03,\n",
       "         -2.48690364e+00,  -2.24060292e+00,  -5.18077734e-01,\n",
       "         -1.32413603e+00,   2.38891075e+00,  -1.30557313e+00,\n",
       "         -3.71342910e+00,   7.88996865e-01],\n",
       "       [ -1.91087439e-01,  -2.22739158e+00,   1.67251223e+00,\n",
       "          1.70212031e+00,  -3.36735593e-01,   4.07678320e+00,\n",
       "         -4.35148506e-01,  -1.24253262e+00,   1.32164147e+00,\n",
       "          1.79942226e+00,   1.66987053e+00,  -8.41676756e-01,\n",
       "         -1.38377984e+00,  -6.11349118e-01,  -4.81078598e+00,\n",
       "         -1.52825434e+00,   6.19811856e+00,   4.20606385e+00,\n",
       "         -1.81195070e+00,   4.83289775e+00],\n",
       "       [ -1.07017798e+00,  -2.71697841e-01,  -1.00780551e+00,\n",
       "         -7.47161234e-01,   1.76876752e+00,  -9.16678196e-01,\n",
       "          5.15611400e-01,  -6.05995049e+00,   2.72110075e-01,\n",
       "          1.83753281e+00,  -2.01922600e+00,   1.91170901e+00,\n",
       "         -1.09664943e+00,  -1.49277766e+00,  -1.92492805e-01,\n",
       "          7.90858733e-01,   1.31246880e+00,  -1.42864405e+00,\n",
       "         -1.48663686e-01,   1.77489713e-01],\n",
       "       [  5.25493028e-01,  -1.09712383e+00,  -4.14809775e+00,\n",
       "         -3.82241155e+00,  -1.89814030e+00,  -8.81743287e-01,\n",
       "          3.63926181e+00,   4.71838688e-01,  -6.82759166e-01,\n",
       "          6.67472877e-01,   3.53464150e-01,   3.07163654e+00,\n",
       "          2.01144085e+00,   1.75193537e-01,   2.91185460e+00,\n",
       "          6.12588572e-01,   1.19309978e+00,  -2.74711435e+00,\n",
       "         -1.01403404e+00,  -1.30047407e+00],\n",
       "       [ -2.16807801e+00,   1.89501763e+00,   1.15988214e+00,\n",
       "          1.74621061e+00,   1.54624047e+00,  -2.72130220e-01,\n",
       "          1.63681268e+00,  -1.21875097e-01,   1.82026706e+00,\n",
       "          2.23119840e+00,   3.44817828e-01,   2.28149349e+00,\n",
       "         -8.78767552e-01,  -9.97430237e-01,  -2.63912101e+00,\n",
       "          7.21984521e-01,  -2.64512042e+00,   2.12258782e+00,\n",
       "         -1.29532381e+00,  -2.58580671e+00],\n",
       "       [ -1.58927432e+00,  -1.61494151e+00,  -7.74743816e-01,\n",
       "          2.69955772e+00,   2.90680034e+00,  -5.69086748e-01,\n",
       "         -1.85086705e+00,  -1.24162645e+00,  -2.17607019e+00,\n",
       "          5.18448269e+00,  -3.40547815e+00,  -2.62860113e+00,\n",
       "         -2.94181882e-01,   1.22282840e+00,  -8.36230955e-01,\n",
       "         -1.42808963e+00,   6.51857310e+00,  -1.03464610e+00,\n",
       "         -2.44515400e+00,  -2.20475787e+00],\n",
       "       [  1.16669483e+00,  -5.65402709e+00,   2.70901179e-01,\n",
       "         -3.46449039e+00,  -6.88930376e-01,   1.86819343e-01,\n",
       "         -3.07279270e-01,  -5.10558290e+00,   2.63415711e+00,\n",
       "         -3.18948693e+00,   7.23972918e-01,  -1.34155852e+00,\n",
       "          2.09047936e+00,  -1.78642947e+00,   5.21726469e+00,\n",
       "         -3.97649112e-01,  -2.36950801e+00,   1.01559319e+00,\n",
       "          4.58395210e+00,  -1.24098973e+00],\n",
       "       [  3.85623515e+00,   4.57470440e-01,   4.10449314e-01,\n",
       "          1.58338369e+00,   3.87948348e+00,   1.68903089e+00,\n",
       "         -4.25148376e+00,   2.92253605e+00,  -1.50093806e+00,\n",
       "          5.93402805e-01,  -1.45501750e+00,   1.27945192e+00,\n",
       "         -4.26483522e-02,   6.31797716e-01,   9.13839959e-01,\n",
       "         -2.34012116e-01,  -2.45629651e+00,   2.69825718e+00,\n",
       "         -7.50114327e-01,   2.86849067e+00],\n",
       "       [ -4.97500347e-02,  -3.81569103e-01,  -3.12467481e+00,\n",
       "          1.79145379e+00,  -2.85311735e+00,   1.17153507e+00,\n",
       "          2.09156789e+00,  -2.33592882e+00,   6.34828635e-01,\n",
       "         -1.91428751e+00,  -7.64834133e-02,   5.47982383e-01,\n",
       "         -3.14860213e+00,   1.03798764e+00,  -2.17766081e+00,\n",
       "          4.50215918e-01,  -3.67168443e+00,   8.53046196e-01,\n",
       "         -6.85029810e-01,   9.58936865e+00],\n",
       "       [ -2.75931777e+00,  -6.22018173e+00,   3.37532339e+00,\n",
       "         -1.57377119e+00,   2.07527854e+00,  -2.59914324e-01,\n",
       "         -1.34727970e+00,   1.07301329e+00,   4.52361868e+00,\n",
       "         -8.26518108e-01,  -3.00755912e+00,  -2.58986561e+00,\n",
       "         -1.06055801e+00,   1.50301478e+00,  -6.45122651e-01,\n",
       "         -7.47122429e-01,  -2.51313376e+00,   1.45183678e+00,\n",
       "         -1.88796837e-01,   5.56177354e-01],\n",
       "       [  2.26813953e+00,  -1.78230948e+00,   1.20748814e+00,\n",
       "         -5.89642446e-01,  -1.25036890e-01,  -2.98405942e-01,\n",
       "          3.65082092e-01,  -4.51851770e+00,  -1.47449998e-01,\n",
       "         -5.01968922e+00,  -9.35170614e-01,   3.28862940e-01,\n",
       "          3.00432663e+00,   1.80209224e+00,   9.58024253e-01,\n",
       "          2.93731111e-03,   6.25476783e-01,   3.37853754e-01,\n",
       "          8.14676420e-01,   2.27558455e+00],\n",
       "       [  1.14662716e+00,   4.23496926e+00,  -5.04312652e-01,\n",
       "          8.26336156e-01,   1.68485924e-01,  -4.57298230e+00,\n",
       "          1.77074922e+00,  -3.77765852e-01,   4.66812987e-01,\n",
       "          2.45247666e+00,   2.21832538e+00,   1.98106335e+00,\n",
       "          2.93325267e+00,  -4.33638029e+00,  -1.37469249e-01,\n",
       "         -6.57082104e-02,   6.04837987e+00,  -5.55381306e+00,\n",
       "         -1.57261435e+00,   1.78944669e+00],\n",
       "       [ -1.32503572e+00,   3.10237288e+00,   8.58528869e-01,\n",
       "         -4.07518335e+00,   1.74564896e-01,  -2.25363444e+00,\n",
       "         -1.74953134e+00,  -6.56460037e-01,   3.71993120e+00,\n",
       "         -3.19021968e+00,   2.72989899e+00,  -2.49543850e+00,\n",
       "          3.61299564e+00,  -2.11812598e+00,   2.87351217e+00,\n",
       "         -8.73515333e-01,   8.60998230e-01,  -8.90515497e-01,\n",
       "          1.77390984e-01,   2.77815549e+00],\n",
       "       [  7.74469693e-01,  -4.05536235e+00,  -4.94848737e-01,\n",
       "         -3.87645581e+00,   2.30258375e+00,   4.58253224e-01,\n",
       "          1.80499795e-02,  -1.41707780e-01,  -3.80384246e+00,\n",
       "         -8.44048597e-01,   2.09152910e-01,  -3.80473345e+00,\n",
       "         -1.64676967e+00,  -2.92835057e+00,   2.00364771e+00,\n",
       "         -2.82386981e+00,   3.66091343e-01,   2.59632137e+00,\n",
       "          1.66686117e+00,   3.16177846e+00],\n",
       "       [ -2.20313932e+00,  -1.40193228e+00,  -2.88433940e+00,\n",
       "         -1.81801185e+00,  -2.43512817e+00,   3.73381388e-01,\n",
       "         -2.16160640e-01,   2.34384855e-01,  -3.79399563e+00,\n",
       "          1.88800373e-01,   6.11607105e-01,   3.68029348e+00,\n",
       "          4.47250813e+00,  -7.24522826e-01,   1.28832242e+00,\n",
       "          2.93619630e-02,  -2.71328043e+00,   4.91615296e-01,\n",
       "         -1.64814570e-01,   3.15598210e+00],\n",
       "       [  1.89317752e-01,  -2.88710921e-01,   1.49314801e+00,\n",
       "         -2.25940025e+00,   9.86494933e-01,  -3.56765807e-01,\n",
       "          3.02485384e+00,   1.50046846e+00,  -7.61929920e-01,\n",
       "         -2.18358950e+00,   2.86765616e+00,   1.01473916e+00,\n",
       "         -1.32997701e+00,   5.97858619e-01,   4.04601835e-01,\n",
       "         -1.88065159e+00,   2.61695471e+00,  -3.25921458e-01,\n",
       "          1.36806274e+00,  -2.21728889e-01],\n",
       "       [  1.60007647e+00,   1.89216489e+00,   1.29426627e+00,\n",
       "          1.18230382e+00,  -6.06292526e+00,  -3.43561790e-01,\n",
       "         -3.38029809e+00,   2.12668503e+00,  -8.87061941e-01,\n",
       "         -2.01307178e+00,  -1.51532419e-01,   1.83549089e+00,\n",
       "          1.79347385e+00,   9.49530988e-01,   3.76676736e+00,\n",
       "         -7.71669786e-01,   5.28271740e+00,   1.15145221e+00,\n",
       "          3.07913521e+00,  -3.18396508e+00]])"
      ]
     },
     "execution_count": 22,
     "metadata": {},
     "output_type": "execute_result"
    }
   ],
   "source": [
    "A_out"
   ]
  },
  {
   "cell_type": "code",
   "execution_count": 23,
   "metadata": {
    "collapsed": false
   },
   "outputs": [
    {
     "data": {
      "text/plain": [
       "array([[ -1.27449405e+00,   1.55650322e+00,   6.04629389e-01,\n",
       "          2.83133405e-01,   7.55938160e-01,  -6.05414359e-02,\n",
       "          4.21754302e-01,   6.28000503e-01,   1.17532982e+00,\n",
       "         -2.80721712e-01,   6.66794821e-01,   1.15582350e+00,\n",
       "         -1.95694977e+00,  -1.57442882e+00,  -6.20594496e-01,\n",
       "         -1.19849118e+00,  -1.23942344e+00,  -7.04681059e-01,\n",
       "         -1.02627713e+00,   1.03735130e+00],\n",
       "       [ -9.17037421e-01,   2.43923338e-01,  -8.53086664e-01,\n",
       "          1.70801092e+00,   1.53583382e+00,  -1.10202151e+00,\n",
       "         -4.55537033e-01,   8.11971851e-01,   2.95517657e+00,\n",
       "         -8.93602585e-03,   7.52519880e-01,  -5.51345903e-01,\n",
       "          6.86225356e-01,   6.46310005e-01,  -3.91686243e-01,\n",
       "          2.29553386e+00,  -1.13435906e-01,   6.06169834e-01,\n",
       "         -2.18260221e-01,  -8.98635003e-01],\n",
       "       [  9.14114593e-01,  -7.03233324e-01,  -4.42044262e-01,\n",
       "         -2.34003107e-01,  -1.39984394e+00,   7.63973952e-01,\n",
       "          5.08730713e-02,  -5.92136667e-01,  -9.99553382e-01,\n",
       "         -1.72853131e+00,  -6.02832240e-01,   1.00214145e+00,\n",
       "          5.86210534e-01,   7.55542683e-02,  -3.20068506e-01,\n",
       "          7.98377550e-01,  -3.40795579e-01,   1.27867531e+00,\n",
       "          1.62102832e+00,  -9.63632051e-02],\n",
       "       [ -1.11642328e+00,  -9.17763387e-02,  -1.09113470e+00,\n",
       "          4.69076502e-01,  -1.00862205e+00,   2.84305707e-02,\n",
       "         -8.52019765e-02,  -3.76707597e-01,  -1.26319278e+00,\n",
       "         -3.18893014e-01,   1.69951203e+00,  -1.65817355e+00,\n",
       "         -4.27832726e-01,  -1.21948206e-01,  -1.29259139e+00,\n",
       "         -2.32945604e+00,   1.16001673e-01,  -2.10270318e+00,\n",
       "          8.58076930e-01,  -1.16854883e+00],\n",
       "       [ -1.39757224e+00,   6.71687280e-01,   5.93057173e-02,\n",
       "         -1.40118800e+00,  -1.45098705e+00,  -1.48589115e-01,\n",
       "          1.63295473e+00,   3.01569264e-01,   9.49036201e-01,\n",
       "          5.57025015e-01,  -1.07752497e+00,  -9.89725733e-01,\n",
       "          2.20169278e+00,  -2.17648441e-02,   7.60414610e-01,\n",
       "          5.97845913e-01,   7.72368084e-01,  -2.57376379e-01,\n",
       "         -4.31248631e-01,   2.05921143e-01],\n",
       "       [  2.73442043e-01,   1.06552306e+00,  -8.41782053e-01,\n",
       "         -1.14858314e+00,  -9.84721087e-01,   3.61401853e-01,\n",
       "          8.79956650e-02,   1.50840140e+00,  -5.75837604e-01,\n",
       "          3.71340463e-01,  -1.70649351e-02,  -7.69506137e-01,\n",
       "          1.59061814e-01,   5.26220711e-01,   9.87041020e-01,\n",
       "          7.84239703e-01,  -1.57955186e+00,  -8.89403458e-01,\n",
       "         -1.56053170e+00,   1.80498555e-01],\n",
       "       [ -5.70848733e-01,   1.73001502e+00,  -6.15337176e-01,\n",
       "          7.80736277e-01,   1.30449905e+00,   1.10208134e-01,\n",
       "         -2.92849510e+00,  -1.47794885e+00,   9.57288026e-01,\n",
       "         -3.95873121e-01,  -7.40220547e-01,   8.68474997e-01,\n",
       "         -7.85729661e-01,   5.09809810e-01,  -1.01763779e+00,\n",
       "         -1.67782380e-01,   1.62012645e-01,   1.93203677e+00,\n",
       "          1.72685283e+00,   1.81005412e-01],\n",
       "       [  7.86113981e-01,  -1.04332882e+00,  -6.51597061e-01,\n",
       "          4.61555481e-01,   8.36895108e-01,   3.05438587e-01,\n",
       "          1.43637935e+00,   8.28362827e-01,  -1.27692502e-01,\n",
       "         -7.98776598e-03,   5.17754977e-01,   1.24338318e+00,\n",
       "          3.33157810e-01,  -2.24467765e+00,  -4.17438095e-01,\n",
       "          2.93321665e-01,  -3.28601329e-01,  -2.55639651e+00,\n",
       "          8.59271358e-01,  -1.88954715e-01],\n",
       "       [  3.58287840e-01,   1.86644674e+00,   2.84113298e-01,\n",
       "         -2.54112707e-01,   9.62112989e-01,  -1.00694724e+00,\n",
       "         -1.25981415e+00,  -9.62380257e-01,  -1.72447030e+00,\n",
       "          1.32701458e+00,   2.26432563e+00,  -1.64760563e-01,\n",
       "         -1.31837111e+00,  -1.09626310e+00,   9.65719038e-02,\n",
       "          7.98490066e-01,  -7.30785575e-01,   8.54047790e-01,\n",
       "         -9.57008257e-02,  -7.27499547e-02],\n",
       "       [  2.88084828e-01,   1.69996343e-01,   6.65597771e-01,\n",
       "          6.85161886e-02,   8.46007941e-01,   6.54699078e-01,\n",
       "          3.96723414e-01,  -1.34131317e-01,  -8.39297217e-02,\n",
       "         -2.15458095e+00,  -1.77382564e-01,  -2.50579526e-01,\n",
       "          2.12113795e+00,   1.19467195e+00,   1.99695534e-01,\n",
       "         -2.41141531e-01,  -1.53766495e-01,  -9.43308543e-01,\n",
       "          2.38017530e-01,  -2.02072608e-01],\n",
       "       [ -1.68326943e+00,  -1.26273308e+00,  -1.28059333e+00,\n",
       "         -2.66413442e-02,  -9.15074270e-01,  -4.73541720e-01,\n",
       "          1.11860365e+00,  -1.37612173e-01,  -1.17045710e+00,\n",
       "         -1.41228879e-01,   1.81004993e+00,   6.54087810e-01,\n",
       "         -5.96955225e-01,   1.33096554e+00,  -2.31741116e-01,\n",
       "          9.48116385e-01,   1.61239390e+00,  -4.96696285e-01,\n",
       "         -2.86162117e-01,  -3.11869308e-02],\n",
       "       [  1.15052035e+00,  -7.03545985e-01,  -8.54336946e-02,\n",
       "          1.83849798e+00,  -5.45876999e-01,  -3.39902455e-01,\n",
       "          5.45363458e-01,   4.10564393e-01,   9.33067116e-01,\n",
       "          2.20795317e-01,   1.76785131e+00,  -1.01852729e+00,\n",
       "         -9.12503431e-01,   1.26201637e+00,  -6.40421021e-01,\n",
       "          8.26624450e-02,   1.46291237e+00,   5.56549435e-01,\n",
       "         -4.26145391e-01,  -9.17565204e-01],\n",
       "       [  1.40680307e+00,  -7.82202793e-01,  -1.12602999e+00,\n",
       "         -3.78894248e-01,  -2.91534018e-01,   5.53846697e-01,\n",
       "          1.94877728e-02,  -2.56673723e-01,  -5.12042084e-02,\n",
       "         -5.15251702e-02,  -8.47257258e-01,  -7.15370797e-01,\n",
       "         -2.30465874e-01,   5.15339631e-01,   4.75931570e-01,\n",
       "          8.84991684e-03,   2.74644643e-01,   1.42159645e+00,\n",
       "         -2.46578808e-01,   3.07055155e-01],\n",
       "       [  2.17263253e+00,   1.92496604e-01,  -1.10010231e+00,\n",
       "          1.61375577e+00,   1.75713761e-01,  -9.02770458e-01,\n",
       "          2.36110985e+00,  -1.13718169e+00,   1.93732495e-03,\n",
       "         -1.65247067e-01,   8.84196752e-01,  -1.59971732e+00,\n",
       "          9.93659276e-01,   1.46180053e+00,  -4.61610484e-02,\n",
       "          1.14616007e+00,  -7.69204449e-01,  -2.65557221e-01,\n",
       "         -6.62373753e-01,   1.02500612e+00],\n",
       "       [  1.75485652e+00,   1.78749123e+00,  -1.32591599e-01,\n",
       "          2.05399931e-01,   6.15955174e-01,  -2.34227179e+00,\n",
       "          1.15209224e+00,  -3.10280242e-01,   4.00506238e-01,\n",
       "         -1.21836144e-01,   1.15315554e+00,   6.34444553e-01,\n",
       "          5.52898686e-01,   7.55606249e-01,  -4.29883861e-01,\n",
       "          9.36873668e-01,   2.47808511e+00,  -1.62663581e+00,\n",
       "         -4.86079841e-01,   1.18301317e+00],\n",
       "       [ -3.94585324e-01,   7.15223677e-02,  -7.42573875e-01,\n",
       "         -2.43380268e-01,   1.26817376e-01,  -4.95982547e-01,\n",
       "          9.45238268e-02,  -7.57635474e-01,  -9.09673778e-01,\n",
       "          6.39966687e-01,   1.40662359e-01,  -2.78495374e-01,\n",
       "          4.38173966e-01,  -9.13687429e-01,  -2.09658398e+00,\n",
       "         -5.64531826e-01,  -8.41714056e-01,  -5.97387078e-02,\n",
       "         -4.96372627e-01,  -6.12199408e-01],\n",
       "       [ -3.79547560e-01,  -1.08192586e+00,   3.64628409e-01,\n",
       "         -1.71781373e+00,  -3.18202091e-01,  -4.50872990e-01,\n",
       "          6.44753281e-01,   8.89166974e-02,  -1.46161753e+00,\n",
       "         -6.86775864e-01,   5.67998210e-01,  -1.42475707e+00,\n",
       "         -8.03684991e-01,   1.59940398e-01,   1.63243888e-01,\n",
       "         -2.32359664e+00,  -1.61851661e+00,   4.37707904e-01,\n",
       "         -1.80305363e-01,  -4.74201567e-01],\n",
       "       [ -1.17138817e-01,   9.80589218e-01,  -1.50438351e+00,\n",
       "         -7.72612537e-01,   8.48340955e-01,   9.99592176e-01,\n",
       "          8.23604846e-01,  -5.06229699e-01,  -1.08563331e+00,\n",
       "          5.59453069e-01,  -9.81080475e-01,   6.50878497e-01,\n",
       "          3.51117615e-01,   1.56027997e-01,  -4.21656091e-02,\n",
       "          6.49719087e-01,   1.25056429e+00,   8.70319578e-01,\n",
       "         -6.02714802e-01,  -5.58884423e-01],\n",
       "       [ -2.44964154e-01,   3.10709135e-01,  -1.10276400e+00,\n",
       "          8.73650937e-01,  -1.01416494e+00,  -2.46337174e+00,\n",
       "          1.55470010e+00,   6.20626494e-01,   1.25080218e+00,\n",
       "          1.05172398e+00,   8.36080795e-01,   1.00622688e+00,\n",
       "          1.17542486e-01,  -1.54095799e+00,  -4.29570207e-01,\n",
       "         -4.33980011e-01,  -6.09581787e-01,   7.42067830e-01,\n",
       "         -1.40048600e+00,   1.10547640e+00],\n",
       "       [  8.04166497e-02,  -1.93852203e+00,   8.09545048e-01,\n",
       "          1.45042734e-01,   1.22765679e+00,   8.95438190e-01,\n",
       "         -2.91461417e+00,  -9.06673553e-01,   6.38371609e-01,\n",
       "         -2.49265250e-01,   2.92717934e+00,  -1.29134665e+00,\n",
       "         -8.35264943e-01,   3.27593228e-01,  -1.76639785e+00,\n",
       "          1.51748130e-01,   5.98356399e-01,   4.17687039e-01,\n",
       "          8.61580603e-01,   3.07818459e-01],\n",
       "       [  7.27045493e-01,  -3.39545533e-01,   2.67576006e+00,\n",
       "          2.00679628e+00,  -6.99516656e-01,   9.28235610e-01,\n",
       "          4.76945153e-01,   3.20658744e-01,  -6.08818698e-01,\n",
       "          1.40365586e+00,  -2.36839633e-01,   5.90187013e-01,\n",
       "          1.70402819e-02,  -6.58386532e-01,   1.01112073e+00,\n",
       "          2.29917080e-01,   1.58973150e+00,  -9.65464107e-01,\n",
       "         -1.60296516e-01,   1.81147486e-01],\n",
       "       [  5.04288862e-01,   8.09129781e-01,  -3.45204729e-02,\n",
       "         -9.87267170e-01,   2.95864354e-01,   1.38753121e+00,\n",
       "          4.35563958e-01,   5.26814198e-01,  -2.60753757e-01,\n",
       "         -1.03230084e+00,   1.97544041e-01,   6.67742854e-01,\n",
       "          1.25804529e+00,  -3.46082749e-02,  -8.08170228e-01,\n",
       "         -1.75031659e+00,   5.02588573e-01,  -3.22754813e+00,\n",
       "          5.17105218e-01,  -3.48509862e-01],\n",
       "       [ -1.11880358e-01,   2.39701180e-01,  -1.91463224e+00,\n",
       "          6.35946439e-01,   2.10824646e+00,   9.49714432e-01,\n",
       "          1.20043053e-01,   7.62831123e-01,   1.23237009e+00,\n",
       "          7.50867372e-01,   3.22028636e+00,  -5.86604036e-01,\n",
       "          4.23753156e-01,  -1.36090220e+00,   3.71234458e-01,\n",
       "          1.89071958e+00,   8.55378180e-01,  -1.87195777e-01,\n",
       "          2.23266736e-01,   5.78343375e-01],\n",
       "       [ -1.28449127e-01,  -3.55962415e-01,   1.57381410e+00,\n",
       "         -1.72326975e-01,  -6.87187499e-02,  -2.36367909e-01,\n",
       "         -5.17993162e-01,   9.14623394e-01,  -1.56487226e-01,\n",
       "         -4.52398072e-02,   9.22729627e-01,  -2.19781517e-01,\n",
       "         -1.20039953e+00,  -4.23159162e-01,  -1.56328876e+00,\n",
       "          6.76385666e-01,   1.99052773e-01,  -7.65906403e-01,\n",
       "          1.35596866e+00,  -2.27385984e-03],\n",
       "       [ -1.96844634e+00,   5.10779717e-02,   7.95620205e-01,\n",
       "         -8.35833642e-01,   2.17559612e-01,  -2.28568554e+00,\n",
       "          9.99914363e-01,  -2.20086014e+00,  -9.42675483e-01,\n",
       "          6.09605081e-02,  -2.19251040e+00,   3.08006822e-01,\n",
       "         -1.17200099e+00,   1.00377870e+00,  -1.30696896e-01,\n",
       "         -2.82495642e-01,  -3.27213847e+00,  -6.02284203e-01,\n",
       "         -6.62488847e-01,   5.08642314e-02],\n",
       "       [ -9.70079936e-01,  -1.06767936e+00,  -9.19414295e-01,\n",
       "          8.25818270e-01,   1.73368616e+00,  -3.25371590e-01,\n",
       "         -1.12788921e-01,  -1.07502026e+00,   1.18743766e+00,\n",
       "          6.31605006e-02,  -1.60614740e+00,  -1.51897436e+00,\n",
       "         -1.44359712e+00,   1.23526249e+00,  -2.27117926e-01,\n",
       "          4.80912940e-01,  -5.24665206e-01,  -9.35059514e-01,\n",
       "          8.61773436e-01,   6.76183319e-01],\n",
       "       [  1.97255446e-01,  -7.44473466e-01,   5.37388231e-01,\n",
       "         -8.51996616e-03,  -1.77279245e+00,  -1.38346059e-01,\n",
       "         -1.05984008e+00,  -1.48623746e+00,   1.81045681e+00,\n",
       "          8.33109631e-01,   2.09952522e+00,  -1.44490148e+00,\n",
       "          6.57978329e-01,   9.46403691e-02,  -4.90272441e-02,\n",
       "         -2.77194080e-01,   1.52967383e+00,  -1.06417763e+00,\n",
       "          2.28004773e-01,   2.18594251e+00],\n",
       "       [  1.60722421e-01,  -4.78687722e-01,  -1.52871188e+00,\n",
       "          1.02032723e-01,  -1.76820327e+00,   1.02534988e+00,\n",
       "          1.04794042e-01,  -3.67719836e-01,  -1.75124278e+00,\n",
       "         -8.81066255e-01,   7.25802325e-01,  -6.77641518e-01,\n",
       "         -1.78702121e+00,   2.76748497e-01,   8.10909836e-02,\n",
       "         -1.61569028e+00,   2.89644795e-01,  -1.06222677e+00,\n",
       "         -5.10006821e-02,  -2.27289576e-02],\n",
       "       [ -1.53570366e-01,  -1.50333498e-01,   1.31363646e-01,\n",
       "         -1.42779923e+00,  -3.55099651e-01,  -9.88948342e-01,\n",
       "         -8.69854409e-01,   3.03433446e-01,  -4.82856705e-01,\n",
       "          3.56928874e-01,   1.49470272e-01,  -8.42163802e-01,\n",
       "          5.31401402e-01,   1.29759683e+00,   5.19122783e-01,\n",
       "          8.36401072e-01,  -1.92022963e-01,   7.46285530e-02,\n",
       "          5.89854223e-01,   1.45580229e+00],\n",
       "       [ -1.47886566e-01,  -1.39957655e+00,   1.11025927e+00,\n",
       "          1.59557699e+00,  -4.13418189e-01,  -1.99634130e+00,\n",
       "         -1.95780643e+00,   4.81919063e-01,  -8.73405933e-01,\n",
       "         -2.19365808e+00,  -9.79603598e-01,   4.40689123e-01,\n",
       "         -7.16594607e-01,  -6.85674758e-02,   7.35777274e-01,\n",
       "          7.24995773e-01,   6.78401018e-01,   1.07164523e+00,\n",
       "          5.43794169e-01,   5.97345689e-01]])"
      ]
     },
     "execution_count": 23,
     "metadata": {},
     "output_type": "execute_result"
    }
   ],
   "source": [
    "A_true"
   ]
  },
  {
   "cell_type": "code",
   "execution_count": 24,
   "metadata": {
    "collapsed": false
   },
   "outputs": [
    {
     "data": {
      "text/plain": [
       "array([[ 0.21225001, -0.06696581, -0.18671418, -0.40199592,  0.31465687,\n",
       "         0.07938863, -0.22543001, -0.00758439,  0.11868475,  0.02986002,\n",
       "        -0.10712301, -0.19140171, -0.0488184 , -0.03759145, -0.05099299,\n",
       "        -0.17519412, -0.10316802, -0.02398439, -0.27872936, -0.30067213],\n",
       "       [ 0.0887979 , -0.06912833,  0.17315763, -0.07636314, -0.01338417,\n",
       "         0.0631729 ,  0.19299313,  0.07610312, -0.25556888,  0.08424574,\n",
       "         0.2800059 , -0.01292707, -0.13718501,  0.27922159,  0.16494134,\n",
       "         0.03200295,  0.07534113,  0.03775568,  0.33884701, -0.00795776],\n",
       "       [-0.23003953, -0.31143374,  0.29730457,  0.21484087, -0.01614364,\n",
       "         0.08899124,  0.43421109,  0.09265768, -0.25161983,  0.04445887,\n",
       "        -0.15690425, -0.00844533, -0.03530339,  0.26020733, -0.0409665 ,\n",
       "        -0.26396207, -0.05566236, -0.09164407,  0.009647  ,  0.09415969],\n",
       "       [ 0.19729906,  0.16048737,  0.17462911, -0.21769678,  0.25358613,\n",
       "        -0.14982411, -0.57751232, -0.14850527,  0.0677923 ,  0.02970943,\n",
       "         0.06439334, -0.01633323,  0.24768327, -0.33588113, -0.17580823,\n",
       "        -0.12748322,  0.07528825,  0.0072636 ,  0.04912971,  0.01751015],\n",
       "       [-0.41903511,  0.06712455,  0.13987201, -0.01207603, -0.04160687,\n",
       "        -0.07410611,  0.18272108,  0.00453527,  0.2272402 ,  0.00723669,\n",
       "        -0.05608828,  0.014593  ,  0.08030229, -0.02019657,  0.23773174,\n",
       "         0.04116501,  0.0056484 , -0.22210564,  0.17068861,  0.08584484],\n",
       "       [-0.19019306,  0.02103729, -0.19118028, -0.59169768,  0.1991996 ,\n",
       "         0.26477054,  0.42600861, -0.03555624, -0.0336963 , -0.0573144 ,\n",
       "        -0.07804078,  0.05108463,  0.0527447 ,  0.37256991, -0.05355649,\n",
       "        -0.10847144,  0.25715629, -0.00212554,  0.03293714, -0.05658445],\n",
       "       [-0.04152138,  0.03847477,  0.33084535,  0.1797968 , -0.24557595,\n",
       "         0.02852251,  0.03986458,  0.009168  ,  0.13953146, -0.08009506,\n",
       "         0.00434366,  0.05721021, -0.09692621, -0.06121108,  0.04437946,\n",
       "        -0.16765452,  0.06827009, -0.00125694, -0.39831523,  0.11343524],\n",
       "       [ 0.07823903, -0.46770032,  0.06592224, -0.29279094, -0.26870288,\n",
       "         0.48355457, -0.22967491,  0.14625681,  0.1055242 ,  0.12135569,\n",
       "        -0.21879915, -0.2473746 ,  0.06009723,  0.29086959,  0.07553822,\n",
       "        -0.26145417, -0.30581689, -0.19303528,  0.20959783,  0.09233327],\n",
       "       [-1.03943895, -0.15298876,  0.25148004, -0.12283203,  0.01150623,\n",
       "        -0.11017017, -0.4119587 , -0.10402933,  0.09654944,  0.07193665,\n",
       "         0.44307664,  0.10315235,  0.12948641,  0.17125628, -0.13730109,\n",
       "        -0.13303605,  0.12404068,  0.0849532 ,  0.02677387,  0.13207261],\n",
       "       [ 0.17675208,  0.00932738, -0.16963501,  0.22158772,  0.17903061,\n",
       "         0.11537884,  0.15561557,  0.12415088, -0.05159089, -0.06766706,\n",
       "        -0.02980075,  0.08958115, -0.0177377 , -0.24086935,  0.06611316,\n",
       "         0.35331239,  0.09986501,  0.13842598,  0.18938405,  0.16141067],\n",
       "       [ 0.12030678,  0.26164188, -0.33735794,  0.42366346, -0.29250668,\n",
       "         0.0669592 , -0.04954834, -0.17508666, -0.03768176,  0.03330869,\n",
       "        -0.10913837, -0.12414698, -0.04124019,  0.24626574,  0.13010512,\n",
       "        -0.29291991,  0.13469142,  0.0673398 ,  0.4248773 ,  0.18640377],\n",
       "       [ 0.2429887 ,  0.2511427 ,  0.09026035, -0.08159582,  0.09470862,\n",
       "        -0.00980693, -0.02502189,  0.05461433,  0.09385094, -0.08482831,\n",
       "         0.18373889, -0.12486043, -0.0831136 ,  0.26303316, -0.10714273,\n",
       "        -0.12038715, -0.0269521 ,  0.11035786,  0.34428335, -0.07892285],\n",
       "       [ 0.1818605 , -0.2062111 ,  0.02020003, -0.01527784, -0.0468263 ,\n",
       "         0.06667297,  0.07876201,  0.03422152,  0.27700014,  0.06982688,\n",
       "        -0.29859912, -0.31427049, -0.07350596, -0.08822647, -0.0488855 ,\n",
       "        -0.08473457,  0.10963467, -0.22411146, -0.05690927,  0.01537539],\n",
       "       [ 0.01302222, -0.08676197,  0.30544781, -0.12939044,  0.04347121,\n",
       "        -0.04748557, -0.35331545, -0.09498142, -0.00481521, -0.08631528,\n",
       "         0.09850243,  0.28771052,  0.22501228,  0.11348066, -0.0928684 ,\n",
       "         0.14294973, -0.18241282,  0.01331007,  0.035755  , -0.04231594],\n",
       "       [-0.1013392 ,  0.48786491, -0.04710213,  0.07777649, -0.09123966,\n",
       "        -0.12874694,  0.36317732, -0.05894795,  0.17922577,  0.1364211 ,\n",
       "        -0.08707076,  0.1510699 ,  0.27596528, -0.26194425, -0.24826442,\n",
       "         0.0277524 ,  0.03825981,  0.0994471 , -0.17903137,  0.34073275],\n",
       "       [ 0.10421357, -0.05570398,  0.48854313,  0.18844576, -0.13305893,\n",
       "        -0.01211833, -0.31240878, -0.12175836,  0.09252546, -0.05597907,\n",
       "         0.08179591,  0.08129384,  0.1889887 ,  0.14099671, -0.08847509,\n",
       "        -0.05838749, -0.00857938, -0.05855344, -0.3805041 , -0.32891478],\n",
       "       [-0.16361101,  0.03055987, -0.31433872,  0.21097929,  0.20169091,\n",
       "        -0.05520716,  0.28484157,  0.03588293,  0.07360655, -0.02827355,\n",
       "         0.04852722, -0.2230988 ,  0.28119319, -0.18064189, -0.02899174,\n",
       "        -0.15004391,  0.17236979, -0.05415692,  0.02548425, -0.19748171],\n",
       "       [ 0.11855528,  0.1456585 , -0.42004209, -0.18544841,  0.12375866,\n",
       "        -0.08851383,  0.10797382,  0.04908924,  0.25229827,  0.19276672,\n",
       "         0.13208182,  0.32594621,  0.19378031, -0.06137493,  0.12599627,\n",
       "         0.12107403,  0.10948115,  0.0339498 ,  0.24731298, -0.03476985],\n",
       "       [ 0.25715921, -0.06599057, -0.28302428, -0.69795476,  0.08922574,\n",
       "         0.20162449, -0.00988935,  0.09189547,  0.0615354 , -0.15259149,\n",
       "         0.20834431, -0.22003862, -0.19613563,  0.06970136,  0.02884971,\n",
       "        -0.07729705,  0.2990072 , -0.14308404, -0.56843338,  0.01241489],\n",
       "       [ 0.3486045 , -0.26504667,  0.0404548 ,  0.14636334,  0.29307659,\n",
       "         0.13704106,  0.35391231, -0.106043  , -0.10116222,  0.10094964,\n",
       "         0.11858802, -0.22296313, -0.3909176 ,  0.41647805, -0.23312048,\n",
       "         0.08802068,  0.0819054 , -0.01463958,  0.09044934,  0.1185968 ],\n",
       "       [-0.16362611,  0.34923978,  0.27563941, -0.26304564, -0.19198544,\n",
       "        -0.10255195, -0.24739478, -0.04251798,  0.09173957, -0.03967756,\n",
       "        -0.06745243,  0.11757104,  0.13824508, -0.14007999, -0.1513571 ,\n",
       "         0.13993274,  0.08004341, -0.07452696, -0.04713846, -0.17983707],\n",
       "       [-0.17621401, -0.04028259,  0.22248633, -0.02128596,  0.06849146,\n",
       "         0.09474531,  0.18975359,  0.04443946, -0.05659594, -0.09267896,\n",
       "         0.03493816,  0.30886618,  0.32778064, -0.39355989,  0.00914656,\n",
       "         0.15306096,  0.06611239,  0.03800609, -0.36547921,  0.24664472],\n",
       "       [ 0.19489926,  0.0805971 ,  0.22862165, -0.19717165, -0.31025082,\n",
       "         0.22046308,  0.39106805, -0.11037092, -0.05430136, -0.06755836,\n",
       "        -0.0449055 ,  0.08467922,  0.11791551,  0.16874055, -0.03921571,\n",
       "         0.07741901, -0.29195834, -0.05146936, -0.02699329, -0.06952136],\n",
       "       [-0.20840189, -0.20196241, -0.2738997 ,  0.12634131,  0.0923773 ,\n",
       "         0.32980219,  0.3248378 , -0.00660797, -0.19920678,  0.06017363,\n",
       "         0.01645428,  0.16385896,  0.22892495, -0.00555067, -0.05217584,\n",
       "         0.08433909,  0.39382824,  0.2223072 ,  0.12881639,  0.0831107 ],\n",
       "       [-0.00634016, -0.10388172,  0.24187651, -0.34171391,  0.10630899,\n",
       "        -0.0402602 ,  0.05935434, -0.07042548,  0.13066383, -0.04334063,\n",
       "         0.03495604,  0.10732332, -0.25173966,  0.20012292,  0.1144877 ,\n",
       "        -0.06121445,  0.35244783, -0.01901402,  0.10571982,  0.04014874],\n",
       "       [-0.03006656, -0.14393506,  0.01340698,  0.03774992,  0.03581179,\n",
       "        -0.25344378,  0.22576544, -0.10695187, -0.03717474, -0.01335708,\n",
       "         0.05663411, -0.20847335,  0.15662949, -0.12481164,  0.09933451,\n",
       "        -0.02460127, -0.23788568,  0.09378554, -0.05968978,  0.1047788 ],\n",
       "       [ 0.56451529,  0.25993211,  0.36339915,  0.18787527, -0.03134378,\n",
       "        -0.14066937, -0.06862471,  0.16489404,  0.06085606, -0.1345339 ,\n",
       "         0.03071006, -0.14302057,  0.05460056,  0.37362585,  0.0241746 ,\n",
       "         0.13561752,  0.03874899, -0.08154695, -0.33064955,  0.22795177],\n",
       "       [ 0.65821172, -0.07925712,  0.56227402, -0.14378606,  0.17804308,\n",
       "         0.00928702, -0.04820205,  0.10830405,  0.02883108, -0.07227128,\n",
       "        -0.05099503, -0.25725701,  0.01092855,  0.11348662, -0.09996519,\n",
       "         0.35670088, -0.12908627,  0.17721952,  0.29727331, -0.25604228],\n",
       "       [ 0.11952561, -0.1488382 , -0.07177421, -0.25813347, -0.34585778,\n",
       "         0.06756598,  0.46583456, -0.16682826, -0.04050794, -0.07108604,\n",
       "        -0.06054456,  0.03475146, -0.03490103,  0.16886316,  0.11801525,\n",
       "         0.3257798 , -0.11254277,  0.14481809, -0.42576407, -0.19944222],\n",
       "       [ 0.32793022, -0.20766127,  0.03398594,  0.49031537,  0.26163666,\n",
       "         0.22749861,  0.01516471, -0.02620669, -0.21388483,  0.07548731,\n",
       "         0.02347835,  0.27498994,  0.12558681,  0.34736878,  0.08495073,\n",
       "         0.18095748,  0.11658743,  0.09163545,  0.32784178, -0.10429996]])"
      ]
     },
     "execution_count": 24,
     "metadata": {},
     "output_type": "execute_result"
    }
   ],
   "source": [
    "B_out\n"
   ]
  },
  {
   "cell_type": "code",
   "execution_count": 26,
   "metadata": {
    "collapsed": false
   },
   "outputs": [
    {
     "data": {
      "text/plain": [
       "array([[-0.51293914,  0.39025992,  0.58810902, -0.87325651,  0.95152997,\n",
       "         0.62003769,  0.97349767,  0.18278653,  0.99964066, -1.76539559,\n",
       "         0.29584186,  1.74552554, -0.24951214, -0.83073001,  0.07133542,\n",
       "        -0.71132595,  0.20874514,  1.77623459, -0.32923641, -0.90105981],\n",
       "       [-0.40816752, -1.26233063,  0.24604388,  0.74760451, -2.04897006,\n",
       "        -0.45279864, -1.1834625 , -1.3576969 ,  0.06751488,  0.07509239,\n",
       "         0.30539528,  0.33157977, -0.70115198,  2.17142247, -0.71578911,\n",
       "         0.65967942, -0.32860212,  0.04701054, -0.92892032,  0.16459742],\n",
       "       [-0.5749829 ,  0.31352498, -0.63740053,  1.68201943, -2.01730985,\n",
       "         0.33452976, -0.03369153, -1.26524109,  0.04410776,  0.09057418,\n",
       "         1.37585288, -0.9328705 , -0.18043582, -1.21677935, -0.87149308,\n",
       "         1.13264278,  0.79761242, -0.55625274, -0.49021395, -1.35761189],\n",
       "       [ 0.96803126,  1.34549728,  0.54668229, -2.23713064,  0.54351085,\n",
       "        -0.4524811 , -0.17159051,  1.63319987,  0.0853043 , -1.42275526,\n",
       "        -0.70900137,  0.94527137,  1.26590951,  0.49936513,  1.39676852,\n",
       "         0.66528552, -0.06321768, -0.10344187, -0.3275828 , -0.65567249],\n",
       "       [ 0.47880823, -1.81941082, -1.16107542,  0.70781339,  1.82185134,\n",
       "        -0.03394682, -0.59615063,  0.0982049 , -0.07621533,  0.23343723,\n",
       "        -0.29654296,  0.0524357 ,  0.41042587, -0.43495992, -0.04265641,\n",
       "         0.53287146,  1.93306898, -0.50713238, -0.07979619,  0.21172028],\n",
       "       [-1.71071353,  0.40987955, -0.52699284,  1.65024523, -0.27015297,\n",
       "        -1.54550434, -0.11503905, -1.81159637, -0.26680165, -1.11761713,\n",
       "        -0.09293855,  2.56923804,  0.26957866, -0.6051996 ,  0.33442475,\n",
       "        -0.72834055,  0.01849948,  0.33427523,  0.6319586 , -0.55789117],\n",
       "       [-0.18428744, -0.33964542, -0.1150486 ,  0.15442486,  1.11866394,\n",
       "        -0.4103021 ,  1.39116276,  0.29763507, -0.29879409,  1.37781386,\n",
       "        -0.16997397, -0.78070385, -0.49539092,  0.03368443, -0.08622987,\n",
       "         1.26042351,  0.01093971, -0.6701237 ,  0.88315503, -0.86228177],\n",
       "       [-3.12430254, -0.57810992,  0.21678709, -0.88970002,  0.84601873,\n",
       "         1.83795355, -0.73204196, -1.41433404,  1.29197292,  1.50756806,\n",
       "         2.0662077 ,  1.27134105,  0.30715743, -1.69676933, -1.37562016,\n",
       "         0.25114438,  1.68005817, -0.54546304, -1.33809632, -1.34471347],\n",
       "       [ 0.71182239,  1.05079381, -2.88010926, -1.59581956,  0.77406533,\n",
       "        -0.74548233, -0.093508  , -0.83272204, -0.53873771, -0.06455622,\n",
       "         0.67587432,  0.5333548 ,  0.66180506,  3.4360223 ,  0.97844911,\n",
       "         0.95806488, -0.73937983, -0.78022486, -0.79318848, -0.68423217],\n",
       "       [-0.74547597, -0.50597751,  0.48974989,  0.60281368, -0.413619  ,\n",
       "        -0.60018663, -0.66144954,  1.17121058, -0.46785866, -1.00445808,\n",
       "        -0.04120661, -0.9621666 , -0.09065639, -0.23110214, -1.16770307,\n",
       "        -0.64625945, -1.20477282, -0.95354107,  0.74610536,  1.81715899],\n",
       "       [-0.43263147, -0.99572178,  0.33334958, -0.1919372 , -0.30210516,\n",
       "        -0.80949282, -1.48393543, -1.19745123,  0.64838762,  1.64112113,\n",
       "        -1.15588228, -1.83960924, -0.21077736, -0.84635889,  1.64677978,\n",
       "        -1.28523474, -0.5860836 , -1.10118911, -0.36727808, -1.50654779],\n",
       "       [ 0.06336362,  0.81998639,  0.67328031, -0.09692823,  0.75243117,\n",
       "         0.16198183, -1.20245561, -1.27898156,  0.65211387, -0.53136546,\n",
       "        -1.10949896,  0.35430066, -0.42479204,  1.42487989, -0.51367626,\n",
       "         0.3438655 , -0.96048534,  0.46624012,  0.93532628, -0.6191758 ],\n",
       "       [-0.43078177,  0.37413065,  0.50390473,  0.30510332,  2.22079112,\n",
       "        -0.65890248,  0.19876518,  0.42899601,  1.64135232,  0.26272053,\n",
       "         0.91100007,  0.06633866, -0.37568958, -2.31561139, -0.32187058,\n",
       "         0.07695638,  1.95052612, -0.09083065, -0.76992244, -0.43580752],\n",
       "       [ 0.30680982,  0.71074172,  0.03608226, -1.36865095, -0.03860476,\n",
       "         1.09629764, -0.12488183, -0.55179228, -1.50263653, -0.24389656,\n",
       "         0.38329719,  0.56183213,  1.1500388 ,  0.76387818,  0.89334893,\n",
       "         1.16366639, -0.11584234,  0.24998333,  0.95172941,  0.73522035],\n",
       "       [ 0.83184904,  1.90001897, -0.2807936 ,  1.40685331,  1.43690537,\n",
       "        -0.229941  ,  0.62529461,  1.27368673, -0.78899893,  0.51190334,\n",
       "        -2.15529071, -0.33771665,  1.41045743, -0.67522661,  0.55443581,\n",
       "        -0.17944545, -0.86552556, -2.01289394, -1.50420123,  0.14273599],\n",
       "       [ 0.07829781,  0.67711823,  0.2887583 , -1.21018933,  0.74180321,\n",
       "         0.05156179,  1.32895551, -0.68558669, -0.42457666,  0.74653247,\n",
       "         0.2460891 , -0.81825891,  0.96592054,  0.63432027,  1.14520001,\n",
       "         1.86120573,  0.50961248,  1.94307922,  0.61724669, -0.3002988 ],\n",
       "       [ 0.35669999,  0.22187983, -0.45333844,  1.10340122,  0.59012526,\n",
       "        -1.03593916, -0.08900781,  0.87835927,  1.16518664, -1.13159493,\n",
       "        -0.13500749, -0.91610308,  1.43717899,  0.37632466, -0.33749732,\n",
       "        -1.19753789,  0.47134833,  1.1666322 ,  0.31174897, -0.77170668],\n",
       "       [ 0.57189841, -0.96427625,  0.32849661,  0.41826212,  2.02274959,\n",
       "        -0.65797981, -0.86376441,  0.29843185, -1.702332  , -0.69435333,\n",
       "        -0.64349038,  0.80524415,  0.99041135,  1.02428361, -0.46170934,\n",
       "        -1.60023677, -0.29547806,  0.20540447, -2.12549082,  0.62270839],\n",
       "       [-1.30271956, -0.22079252,  0.71254473, -0.03830872,  0.49334645,\n",
       "        -1.79702763,  1.98531872, -0.33891756,  1.1492037 , -0.50060475,\n",
       "         0.29153334,  3.03062227, -1.00245059,  1.61569257, -0.86432387,\n",
       "        -1.07823901,  1.2453143 , -0.07334114,  1.682518  , -0.39755453],\n",
       "       [-0.88543842,  1.78411958,  0.9659241 ,  1.37096306, -0.81104685,\n",
       "        -0.49224984, -0.31590217, -2.02509663,  1.16447784, -1.64431845,\n",
       "         1.17092413, -0.635531  , -1.99798079,  0.91964032,  0.99738908,\n",
       "         0.15412077,  0.12741334, -0.700616  , -1.11309475,  0.45270813],\n",
       "       [ 0.66260015,  1.15836783, -0.45338025, -0.95834215,  0.73550296,\n",
       "        -0.48105943,  0.16463519,  0.68112982, -0.6140427 ,  1.07714234,\n",
       "        -1.54287248,  1.14218269,  0.70657082, -0.5230881 ,  0.39990359,\n",
       "         1.05010519,  0.64863625,  1.06239579,  0.43749579,  0.71970329],\n",
       "       [-0.61216037, -0.07000049, -0.48825913,  0.73505546, -0.45374684,\n",
       "        -0.39733428,  1.27647882,  1.91365861, -1.61312736, -0.38427428,\n",
       "         0.17796052,  0.09242701,  1.67528663,  0.27094248, -0.41797603,\n",
       "         0.84760746, -0.33078105, -1.45706472,  1.02190558,  0.78722439],\n",
       "       [-1.42443787,  0.30012639,  0.54003278,  1.51489479, -0.43534992,\n",
       "         1.75466418,  0.09427475, -0.82048991, -0.44225728,  1.74067506,\n",
       "        -0.35606226,  0.85614811,  0.60266664, -0.34823854,  1.0380952 ,\n",
       "         0.87098125,  0.44795715,  0.41070061,  0.7449141 ,  0.39818206],\n",
       "       [-2.13089037,  0.39931254, -0.57744638,  1.25833605, -1.59709885,\n",
       "        -2.36690024, -0.44990478,  0.02698905, -0.85579244, -0.51828676,\n",
       "         0.89223001, -0.54859255,  1.17003585,  0.12760171,  0.06215113,\n",
       "        -1.04347755, -1.9348233 , -0.49098033, -0.6634913 ,  0.43377301],\n",
       "       [ 0.26012576, -0.87619799, -0.0175676 ,  0.22992304,  1.04757033,\n",
       "        -2.11820474, -0.3692412 , -0.97308403, -0.56052145, -0.5964505 ,\n",
       "         0.45892902,  1.48377179, -1.28664107,  0.27108116,  0.66238772,\n",
       "         0.92147847,  0.16548621, -0.23718054,  0.47788021, -0.31483847],\n",
       "       [ 1.63752994, -0.76022787, -0.08330932,  0.87455584, -0.29804104,\n",
       "         1.42968851,  0.20847379,  0.60688831,  1.08880176, -0.20092363,\n",
       "         0.63587672, -0.1639156 ,  0.80053339,  0.43919285,  1.00593715,\n",
       "         0.05107655, -0.81625078, -0.61898551,  0.14727905, -0.12652934],\n",
       "       [ 0.90888092, -0.18501323,  1.56417628, -0.26583409,  0.4879005 ,\n",
       "        -0.23288061,  1.15483006, -1.81673065,  0.74695893,  0.17585597,\n",
       "        -1.14832878, -0.81578186,  0.27906327,  0.23815388, -1.55091336,\n",
       "         1.38444406,  0.70973415, -1.34663537,  1.48340587,  0.69750934],\n",
       "       [-0.06000438,  0.76505523,  1.82379298, -0.18672212,  0.2311478 ,\n",
       "         0.77580636, -1.03826713, -0.55182166,  1.3435865 , -0.99891712,\n",
       "         0.35014217,  0.62433982,  0.05585723, -0.39546207, -1.01865569,\n",
       "         2.14209875, -1.5424075 ,  1.51258126,  0.79687079,  1.83458665],\n",
       "       [-0.43655189, -0.90319539,  0.33118534,  1.80452043, -0.32476476,\n",
       "         0.67638   ,  1.48703096, -0.82108574, -0.18149817,  1.94044881,\n",
       "         0.65753759,  1.12085363, -0.1783804 , -0.46951833,  1.56910533,\n",
       "        -0.2734387 , -1.26040655,  1.17821417,  0.78381966,  1.67555297],\n",
       "       [-1.46989511, -0.65014593,  0.90863902,  0.05874407, -1.7147767 ,\n",
       "        -0.70068814, -1.14502554, -1.68905814, -1.43620038, -1.4679231 ,\n",
       "         0.91740646, -2.12902144,  0.64187517,  0.18207299,  0.24648725,\n",
       "         0.1294763 , -0.79753798,  0.61615643, -0.8323485 ,  0.93070144]])"
      ]
     },
     "execution_count": 26,
     "metadata": {},
     "output_type": "execute_result"
    }
   ],
   "source": [
    "B_true"
   ]
  },
  {
   "cell_type": "code",
   "execution_count": 25,
   "metadata": {
    "collapsed": false
   },
   "outputs": [
    {
     "data": {
      "text/plain": [
       "array([[ -7.84740054e-01,  -1.60793321e+00,   5.78929350e-01,\n",
       "          5.67368526e-01,   2.26332146e-01,   1.30651493e+00,\n",
       "          5.39398264e-01,   4.65919460e-01,   7.48995822e-03,\n",
       "         -3.64312132e-01,   5.03840353e-01,  -2.42272047e-01,\n",
       "          6.62317491e-01,  -5.08941942e-01,   2.61324238e+00,\n",
       "         -7.25344509e-01,  -2.13299442e+00,  -1.40865449e+00,\n",
       "         -5.71138361e-01,  -1.05555632e+00],\n",
       "       [  5.74957859e-01,  -8.30817441e-01,   2.55479305e-01,\n",
       "          1.10626071e+00,   8.59747273e-01,   1.48871632e-01,\n",
       "          2.98055462e+00,   7.15408530e-01,   4.27338589e-01,\n",
       "         -9.52617120e-01,   2.70753930e-02,  -8.63324613e-01,\n",
       "         -5.22876349e-01,   1.16016178e+00,   9.04541189e-02,\n",
       "         -1.07081080e+00,  -1.93763848e-01,  -5.05683977e-01,\n",
       "         -1.14789182e+00,   5.15795371e-01],\n",
       "       [  7.06301153e-01,  -9.81229497e-01,   7.91105907e-01,\n",
       "         -4.00881632e-02,   2.92003209e-01,   1.03947997e+00,\n",
       "         -1.01551687e-01,  -8.12666893e-01,   5.45864041e-01,\n",
       "         -5.95399594e-01,   1.50846922e+00,  -1.16477094e+00,\n",
       "          5.96664837e-01,  -4.74695573e-01,  -3.38909897e+00,\n",
       "         -2.33193294e+00,   1.00096127e+00,   1.51308481e+00,\n",
       "          1.63673785e+00,   4.32551652e-01],\n",
       "       [  1.82827651e+00,  -2.02388900e+00,   1.26140045e+00,\n",
       "          1.72181223e-01,  -5.07892438e-01,   9.29013534e-02,\n",
       "         -5.80166040e-02,  -1.15226479e+00,   4.30456330e-01,\n",
       "          1.60571278e+00,   1.62235837e+00,  -1.13325510e+00,\n",
       "          1.20199884e+00,  -1.68002465e+00,  -6.10054254e-01,\n",
       "         -9.96492911e-01,   3.48288422e-01,  -1.88250207e+00,\n",
       "          2.75037633e-01,   9.47938419e-02],\n",
       "       [ -9.40980039e-01,   4.40348418e-01,  -4.58428024e-01,\n",
       "         -6.59000021e-01,  -6.99312138e-01,   6.76332222e-02,\n",
       "          6.65259527e-01,   1.21157242e+00,  -1.37156823e+00,\n",
       "         -8.86702198e-01,  -4.41379011e-01,  -4.22281192e-01,\n",
       "          4.18969975e-02,   1.10703069e+00,  -1.53289367e+00,\n",
       "         -3.19543433e-01,   3.85991002e-02,   6.61338291e-01,\n",
       "         -2.45387871e-01,   2.90116690e-01],\n",
       "       [ -1.07924772e+00,   6.52545110e-01,   1.38848274e-01,\n",
       "          6.77332817e-01,  -2.13507898e-01,  -1.25881303e+00,\n",
       "          1.92111756e+00,  -3.11506513e-01,  -8.77634327e-01,\n",
       "          1.68684654e-01,   6.25093249e-01,  -3.77754197e-01,\n",
       "          9.70019664e-01,  -9.82116616e-01,   1.58803605e-01,\n",
       "          9.69542990e-02,   1.55831240e+00,  -9.24935400e-01,\n",
       "          5.62521114e-01,   1.85345107e-01],\n",
       "       [ -4.04725432e-01,  -2.62751472e-01,   2.22906973e-01,\n",
       "         -2.16541280e-01,  -5.36078648e-01,   1.63533756e+00,\n",
       "         -3.51941392e-01,   1.32651223e+00,   1.27072715e+00,\n",
       "         -6.55444415e-01,   5.82554107e-01,   5.62638227e-01,\n",
       "         -1.22760118e+00,   1.80623628e-01,  -2.38451169e-02,\n",
       "          9.96495626e-01,  -7.73590690e-01,   6.89678718e-01,\n",
       "          1.60461513e-01,   4.23661652e-01],\n",
       "       [  1.14737297e-01,   2.20935604e+00,   1.67019150e+00,\n",
       "          1.76956387e+00,  -1.85869705e-01,  -1.20847189e+00,\n",
       "         -5.87396208e-01,   6.22765067e-01,  -3.99350868e-01,\n",
       "         -1.27654478e+00,  -6.94348016e-01,   1.01721335e+00,\n",
       "         -1.57541540e-01,   9.28360630e-02,   9.98467248e-01,\n",
       "          1.78677470e+00,  -3.70323355e-02,   8.43150430e-01,\n",
       "          1.55866620e+00,   4.14468338e-01],\n",
       "       [  3.17792160e-01,   7.16725995e-01,  -2.39537276e-01,\n",
       "         -2.07531336e-01,  -4.01937115e-01,  -7.25418723e-01,\n",
       "         -1.24572844e+00,  -1.75824596e+00,   1.69680404e+00,\n",
       "          7.58837209e-01,  -2.69404769e-01,  -1.43496714e+00,\n",
       "          2.15803668e-01,  -3.25511003e-02,  -5.29592070e-01,\n",
       "          2.92776869e-01,   1.96104113e-01,  -1.63897959e+00,\n",
       "          1.54880405e+00,  -2.85095695e-01],\n",
       "       [ -1.35405202e-01,  -1.65110866e+00,   2.21017123e-02,\n",
       "         -1.97276379e+00,  -1.02553014e+00,   1.71103215e-01,\n",
       "          8.69529169e-01,  -1.32917253e+00,  -3.41719712e-01,\n",
       "         -9.78402379e-01,   5.92504284e-01,  -3.80241271e-01,\n",
       "          1.46840537e+00,  -3.20041150e-01,  -2.30572842e-01,\n",
       "         -4.65241578e-01,  -3.10555971e-01,   1.11123567e+00,\n",
       "          4.52294986e-01,  -1.75634702e+00],\n",
       "       [ -6.41040767e-01,  -3.56124576e-02,   1.59152615e+00,\n",
       "         -4.42349010e-01,   1.37765806e+00,  -5.45500788e-01,\n",
       "         -8.82498480e-01,   1.24486969e+00,   1.26858377e+00,\n",
       "          1.21677132e+00,  -1.49403788e+00,  -3.44851379e-01,\n",
       "         -1.40951768e+00,   6.99064070e-01,  -5.51036033e-01,\n",
       "         -1.18472632e+00,  -4.32775812e-01,  -2.64547173e-01,\n",
       "         -1.78539446e+00,  -5.21303558e-02],\n",
       "       [ -5.81415147e-01,   9.41343791e-01,   1.37998066e+00,\n",
       "          5.98065276e-01,  -8.24266685e-01,  -9.55038044e-01,\n",
       "         -2.33532685e+00,  -8.58960243e-01,  -1.49029655e-01,\n",
       "         -2.52919726e+00,  -1.25427889e+00,  -2.11343200e-01,\n",
       "         -1.18426855e+00,   9.82458674e-02,  -6.86432772e-01,\n",
       "          2.57105406e-01,   1.25016861e-01,  -3.50366143e-01,\n",
       "         -5.58961642e-01,  -8.42250342e-02],\n",
       "       [ -5.00798085e-01,  -8.67390999e-01,   1.87007372e+00,\n",
       "         -7.25293271e-01,   7.77107907e-01,  -2.12816740e-02,\n",
       "         -6.86017799e-01,   1.58859876e+00,   6.24451233e-01,\n",
       "          8.80049880e-01,   7.25174092e-01,  -2.43965231e-01,\n",
       "         -9.77284140e-01,  -1.47493210e+00,   5.20485246e-02,\n",
       "         -1.74892737e-01,   3.20749846e-01,  -1.98399332e+00,\n",
       "          4.30072439e-01,  -9.70387681e-02],\n",
       "       [ -1.39399541e+00,  -3.39917412e-01,  -1.84645313e+00,\n",
       "         -3.18049625e-01,   4.98484728e-01,   7.30115432e-01,\n",
       "         -2.00891387e-01,   1.47389465e+00,   2.63042524e-01,\n",
       "         -1.31351484e+00,  -4.58967085e-01,   6.39983090e-01,\n",
       "          1.30834654e+00,   3.17299587e-01,  -9.68779424e-01,\n",
       "          4.34404268e-01,   2.23166191e-01,   1.67276248e-01,\n",
       "          5.82004177e-03,  -7.57964002e-01],\n",
       "       [  1.07473429e+00,  -3.27981772e+00,   1.50381145e+00,\n",
       "         -7.36052723e-01,  -1.84481458e+00,  -9.65006731e-01,\n",
       "          8.33463034e-01,  -8.02338185e-01,  -1.75309969e+00,\n",
       "          7.56044771e-02,   7.03440432e-01,  -1.97691179e-01,\n",
       "         -4.56149724e-01,  -4.32829832e-01,  -7.00728149e-01,\n",
       "          2.49504140e+00,  -5.16042700e-01,   2.70250679e-01,\n",
       "          1.94514716e+00,  -8.38481511e-02],\n",
       "       [  8.29973255e-01,   1.14413021e+00,  -6.98229130e-01,\n",
       "         -7.58358498e-02,  -1.98648465e+00,  -1.05579842e+00,\n",
       "          1.97343694e+00,  -1.02910935e+00,   1.19895464e-01,\n",
       "         -1.55726412e-01,  -6.07310429e-01,   9.86215374e-01,\n",
       "         -8.45113863e-02,  -5.91623002e-01,  -5.83513622e-01,\n",
       "         -1.29758775e+00,   1.65816353e+00,   8.51893367e-01,\n",
       "         -3.09467528e-01,  -1.11356885e+00],\n",
       "       [ -2.99525669e-01,  -5.96149028e-01,   9.56496063e-01,\n",
       "          1.77505095e+00,  -2.01295595e-01,  -1.38230293e+00,\n",
       "         -4.02325602e-01,  -9.85486560e-01,  -1.55592077e+00,\n",
       "         -6.36131636e-01,  -2.65562360e-01,  -6.12151955e-01,\n",
       "          1.13048126e+00,  -3.23407880e-01,   3.98654074e-01,\n",
       "          6.89660152e-01,  -1.39572371e-01,   6.47033930e-02,\n",
       "          8.75520560e-01,  -1.25723182e-01],\n",
       "       [  1.51220602e+00,  -4.75969358e-03,   4.66242947e-01,\n",
       "          5.88483978e-01,   3.08696677e-01,  -1.14602213e+00,\n",
       "         -1.94203566e+00,  -7.94756209e-01,   2.82471754e-01,\n",
       "         -3.06081081e-02,  -7.03464472e-01,  -2.30024723e+00,\n",
       "          4.55556754e-01,  -6.52866669e-02,   1.71648034e-01,\n",
       "          8.99155960e-01,  -1.05573146e-03,   9.26529953e-01,\n",
       "          3.65242083e-01,   1.60021935e+00],\n",
       "       [  5.34896594e-01,   9.42153194e-01,   2.07250512e-01,\n",
       "          1.52830995e+00,  -3.20594386e-01,  -8.47250774e-01,\n",
       "         -1.30631994e-01,  -8.52405333e-01,  -1.50257954e+00,\n",
       "         -7.96894311e-01,  -1.23601642e+00,  -9.66409369e-01,\n",
       "          1.55106672e+00,   1.99634758e-01,   2.07865126e+00,\n",
       "          6.47918606e-01,  -4.97209147e-02,  -6.27991998e-01,\n",
       "          2.15218854e+00,   2.62013666e-01],\n",
       "       [ -6.81694210e-01,   9.83123157e-01,  -4.44790713e-01,\n",
       "         -1.55172659e+00,  -4.66744268e-01,  -1.65923703e+00,\n",
       "          4.83482872e-01,   4.59503666e-01,   5.06735265e-01,\n",
       "         -4.81547775e-01,   7.46238316e-01,   1.52479561e-01,\n",
       "          1.15374807e+00,  -4.12634647e-01,   2.75170923e-01,\n",
       "         -1.46699247e-01,  -6.57356995e-01,   1.26471474e+00,\n",
       "         -4.97188398e-01,  -7.69917670e-01],\n",
       "       [  3.24558202e-02,   7.42223575e-01,   1.52729822e+00,\n",
       "         -4.82792421e-01,   1.08334674e+00,   3.26949010e-01,\n",
       "          1.56722261e-02,   1.88999445e+00,   1.17181208e+00,\n",
       "         -4.69797051e-01,   3.42796643e-02,  -1.33990893e-01,\n",
       "         -3.90710789e-01,   6.12200058e-02,   1.32545126e+00,\n",
       "         -6.10135631e-01,  -6.08456888e-01,   3.23035682e+00,\n",
       "          4.30303405e-01,   1.28998811e+00],\n",
       "       [ -1.49421121e-01,   2.57939740e-01,   6.81754170e-01,\n",
       "          1.20455050e+00,  -2.84815131e-01,   8.49821967e-01,\n",
       "          3.32963508e-02,  -1.16652769e-01,  -5.12289366e-02,\n",
       "          1.57891670e+00,   1.09133571e-01,   8.65880936e-01,\n",
       "         -2.47847799e-01,   5.33700513e-01,  -5.82281615e-01,\n",
       "         -4.93906821e-01,   6.23338464e-01,  -3.17906104e-01,\n",
       "         -5.17888643e-01,   4.09649797e-01],\n",
       "       [  9.93774039e-01,   1.11305688e+00,  -2.79528719e-01,\n",
       "          1.02952915e+00,   1.38876157e+00,   1.08139818e+00,\n",
       "         -6.05054817e-01,  -3.58075485e-01,   1.09180275e+00,\n",
       "          6.51562541e-01,   2.79750237e-01,   7.41164179e-01,\n",
       "         -6.10085222e-02,  -1.32127303e+00,  -4.45046194e-01,\n",
       "         -7.54883543e-01,   5.04164878e-01,   1.66481657e+00,\n",
       "         -9.94042383e-01,  -1.28564484e+00],\n",
       "       [  1.22860189e+00,  -1.22387659e+00,   6.94241718e-01,\n",
       "         -1.56710389e+00,   3.89317524e-01,   8.77613220e-01,\n",
       "         -1.05511693e+00,   2.49220168e-01,  -8.71338782e-01,\n",
       "          5.63460815e-01,   1.19379626e-01,  -7.05908601e-01,\n",
       "         -1.42760174e-01,  -8.69995574e-01,  -4.45116274e-01,\n",
       "         -5.69906824e-01,  -8.51978599e-01,  -1.09389360e+00,\n",
       "         -1.56692773e+00,   1.13992512e+00],\n",
       "       [  1.39875157e+00,  -1.12881057e+00,  -1.79541940e+00,\n",
       "         -7.35785069e-01,  -8.61648593e-01,   1.09509762e+00,\n",
       "         -1.51799664e-01,  -1.42568864e+00,  -5.27358931e-01,\n",
       "          1.96886349e+00,   1.36286774e+00,   3.33351015e-01,\n",
       "          6.28883476e-01,  -6.54318482e-01,  -5.70387747e-01,\n",
       "         -7.27930437e-02,   1.28535348e+00,  -9.00070072e-01,\n",
       "         -2.83238042e-02,   7.46389197e-01],\n",
       "       [  7.47056969e-01,  -1.76419369e-01,  -1.69637937e+00,\n",
       "          2.27746641e+00,  -9.28416926e-02,  -2.82700810e+00,\n",
       "         -7.93594931e-01,  -3.18026924e-03,  -1.49727791e+00,\n",
       "          4.59902838e-01,  -1.22748061e-01,   6.75115904e-01,\n",
       "          2.51116522e+00,  -1.63741033e+00,  -4.56037882e-01,\n",
       "          1.15470966e-01,  -1.19816607e+00,   1.08904893e+00,\n",
       "          3.16183718e-01,   6.60013263e-01],\n",
       "       [ -5.58027011e-02,   1.38706624e+00,   1.25373665e+00,\n",
       "          9.14538617e-01,  -3.42346806e+00,  -2.61878031e-01,\n",
       "          5.14451510e-01,  -9.85006298e-01,   1.22596156e+00,\n",
       "         -1.51223396e+00,  -1.45086027e+00,   1.41942134e+00,\n",
       "          7.28816240e-02,  -1.15856437e+00,   1.09558331e+00,\n",
       "         -1.66215781e+00,   9.61260027e-01,  -7.46265748e-01,\n",
       "          5.33529664e-01,  -1.65500321e-01],\n",
       "       [ -6.82680851e-01,  -6.31353694e-01,  -4.93547755e-01,\n",
       "          8.87603249e-01,  -1.01765997e+00,   3.16568277e-01,\n",
       "          1.41623074e-01,   1.11454144e+00,  -1.03288920e-01,\n",
       "         -2.65463266e+00,  -8.91501688e-01,  -1.87347370e-01,\n",
       "         -4.69164721e-01,  -1.06400577e+00,   5.82313645e-01,\n",
       "          5.30221159e-01,  -1.00188354e+00,  -6.56593894e-01,\n",
       "          1.27715312e+00,   8.40377555e-01],\n",
       "       [  9.42610925e-02,  -1.10627188e+00,  -8.49135261e-01,\n",
       "         -2.24390693e+00,  -4.00831470e-01,   1.67078405e+00,\n",
       "          4.45604922e-01,  -4.09372385e-01,   1.16148564e+00,\n",
       "          8.66415503e-02,  -1.26744771e+00,  -8.11880769e-01,\n",
       "          5.78331590e-01,  -1.08300219e+00,  -1.79269544e+00,\n",
       "          3.64514966e-01,   7.59114222e-01,  -1.05230877e+00,\n",
       "          3.71973712e-01,  -1.24464134e+00],\n",
       "       [  7.44415789e-01,  -6.49746242e-01,   1.06974007e+00,\n",
       "          1.33932493e+00,   3.57390155e-01,  -8.21655943e-01,\n",
       "          1.08707432e+00,   5.16096904e-01,   1.30087740e+00,\n",
       "         -6.31871015e-01,   2.32861837e+00,   4.29558480e-01,\n",
       "          1.86146600e+00,   4.93105761e-01,   3.07482615e-01,\n",
       "         -3.19885525e-01,  -5.59623960e-02,  -1.99088578e+00,\n",
       "         -7.21741536e-01,   7.86623230e-01]])"
      ]
     },
     "execution_count": 25,
     "metadata": {},
     "output_type": "execute_result"
    }
   ],
   "source": [
    "C_true"
   ]
  },
  {
   "cell_type": "code",
   "execution_count": 27,
   "metadata": {
    "collapsed": false
   },
   "outputs": [
    {
     "data": {
      "text/plain": [
       "array([[  1.11306159e+00,   1.15236692e+00,  -1.54791660e+00,\n",
       "          3.92113154e-01,   7.39545642e-01,   2.18251612e+00,\n",
       "         -1.03742836e+00,  -8.50365191e+00,   8.45686439e-01,\n",
       "         -1.70113791e+00,  -1.78590416e+00,   1.86137936e-02,\n",
       "         -1.35254186e+00,  -1.14981931e+00,  -4.57234954e+00,\n",
       "          4.20251688e+00,   2.96732341e+00,   1.09374936e+01,\n",
       "          1.19785338e+00,  -2.80087841e+00],\n",
       "       [  4.91190658e-01,   6.19259094e-02,  -2.28515646e+00,\n",
       "          1.39727570e+00,   1.93379218e+00,  -1.59907101e+00,\n",
       "         -2.02278782e+00,  -2.94343643e-01,   3.21243086e+00,\n",
       "         -3.41897985e+00,   4.07106846e+00,   1.06202420e+00,\n",
       "          1.06778343e+00,  -1.76552084e+00,  -2.36252934e+00,\n",
       "         -2.05355174e+00,   3.38113293e-01,   9.93574423e-01,\n",
       "          6.61896584e+00,  -1.00546838e+00],\n",
       "       [  1.52099713e+00,   3.45011963e+00,  -4.97644542e+00,\n",
       "          1.88516106e+00,   1.20865001e+00,  -1.96436269e+00,\n",
       "          7.33008846e-02,   1.10283369e+01,   1.09106550e+00,\n",
       "          4.87504971e+00,  -1.66573143e+00,   1.35658415e+00,\n",
       "         -1.21847104e+00,   2.00554076e+00,  -2.79024482e+00,\n",
       "         -1.72213089e+00,   2.36084067e+00,  -5.13269455e+00,\n",
       "         -2.25530596e-01,   3.00852192e+00],\n",
       "       [  2.42519476e+00,   3.71060297e+00,  -2.12655859e+00,\n",
       "          1.83415339e+00,  -3.25956143e+00,  -5.08479570e+00,\n",
       "         -3.14831872e-01,   1.98515470e+00,  -1.89773186e+00,\n",
       "          8.19203544e-01,  -5.89529467e+00,   1.06977223e+00,\n",
       "         -2.45464455e+00,   2.84361643e+00,  -5.75516971e+00,\n",
       "         -3.77405282e-01,   2.10995496e-01,  -1.78594051e+00,\n",
       "         -1.28841274e-01,  -3.74304640e+00],\n",
       "       [ -8.81382956e-01,  -1.00950715e+00,  -6.81919571e-01,\n",
       "          6.83454516e-01,   1.79998596e+00,   2.61704990e+00,\n",
       "          1.20497561e+00,   4.98812966e+00,  -2.61296842e+00,\n",
       "         -7.30884326e-01,   3.88462890e+00,  -3.40862778e+00,\n",
       "         -8.55593662e-02,  -2.98997880e+00,   1.25218298e+00,\n",
       "         -1.15505031e+00,   1.53606795e-01,  -1.97926887e-01,\n",
       "          1.47735216e+00,   1.31496306e+00],\n",
       "       [  2.66953454e-01,   1.42969166e+00,   2.06904794e-01,\n",
       "          6.11388508e-01,  -3.42424852e-01,   3.00159949e+00,\n",
       "         -1.23849716e+00,  -5.16754868e-01,  -7.97769420e-01,\n",
       "          1.67550021e+00,  -3.44629839e+00,  -2.18110059e+00,\n",
       "         -1.98091235e+00,   7.68752117e-01,   1.85558812e+00,\n",
       "         -7.37921133e-01,  -2.85898405e+00,  -7.99066110e+00,\n",
       "          4.26624564e+00,  -1.83908093e+00],\n",
       "       [  4.28565549e-01,   1.33239822e+00,   2.12656463e+00,\n",
       "         -9.10619965e-01,   1.33053784e+00,   1.12562049e+00,\n",
       "          3.95943910e-01,   7.75928217e-02,  -2.00304889e+00,\n",
       "          4.77933784e-01,   6.33817691e-01,   3.15801729e+00,\n",
       "          2.50692789e+00,  -3.27363337e+00,  -7.47165015e-01,\n",
       "         -1.68673613e+00,   3.71413698e+00,   3.96679120e+00,\n",
       "         -7.81561278e-01,   1.37131298e+00],\n",
       "       [  3.21114517e+00,  -1.58808942e+00,   3.81305414e+00,\n",
       "         -1.64634187e+00,   2.59135917e+00,  -3.19106793e-01,\n",
       "         -3.23563183e+00,  -3.24907289e+00,  -6.94498393e-01,\n",
       "          4.64250560e+00,   3.25766671e-01,  -9.92468624e-01,\n",
       "          3.21721072e-01,  -1.53689040e+00,   6.28256615e+00,\n",
       "         -1.65013590e+00,  -2.74465066e+00,   1.89891482e-01,\n",
       "         -1.30445054e+00,   1.67646672e+00],\n",
       "       [ -4.60539483e-01,  -6.16173666e-01,   6.24798559e-01,\n",
       "          2.32246865e+00,  -1.54042195e+00,  -8.83841967e-01,\n",
       "          3.79469168e-01,   1.72332602e+00,  -1.50183082e+00,\n",
       "          4.61312259e+00,  -1.14223425e-01,   4.21690553e+00,\n",
       "         -4.40700449e-01,   4.33908746e+00,   2.03809544e+00,\n",
       "          1.13505953e+00,  -1.64755228e+00,  -1.00557582e+00,\n",
       "         -2.76641796e+00,  -3.25884204e+00],\n",
       "       [  4.24935827e-02,   1.35515572e+00,  -9.92845577e-01,\n",
       "          6.15413914e-01,   1.98613631e+00,   3.76588682e-01,\n",
       "          3.60718092e+00,   7.50298569e-01,  -3.83187673e+00,\n",
       "          1.34717858e+00,  -1.12304105e+00,  -8.49243386e-01,\n",
       "         -2.99868296e+00,   3.28019871e+00,  -4.69512521e+00,\n",
       "          6.99259469e+00,   3.88605317e-01,   1.59245831e+00,\n",
       "          1.93096997e+00,   2.20951065e+00],\n",
       "       [  3.05990035e+00,  -3.41711257e+00,  -2.52825710e+00,\n",
       "          5.58135681e-01,  -2.47002126e+00,   1.78286006e+00,\n",
       "          8.08831386e-01,   1.79310307e+00,   5.14759666e+00,\n",
       "         -5.31783695e+00,   2.45305224e+00,   3.15269020e+00,\n",
       "          2.87842669e+00,  -3.07215226e+00,  -1.01266193e-01,\n",
       "          2.07549637e-01,  -1.23892759e+00,   2.21917408e+00,\n",
       "         -1.95976077e+00,  -5.26010056e-01],\n",
       "       [  2.65317845e+00,  -2.86874387e+00,   5.48673770e-01,\n",
       "          3.42055023e-01,   5.13421375e+00,   1.61703017e+00,\n",
       "         -1.09355703e+00,   2.23369296e+00,  -3.07985897e+00,\n",
       "         -1.66490321e+00,   3.44749740e-01,  -3.70369421e-01,\n",
       "          2.41843776e+00,   2.11978413e+00,   2.67682497e+00,\n",
       "          3.35329355e-01,  -2.16905859e+00,  -6.41054383e-01,\n",
       "         -5.18608573e+00,  -6.96647310e-01],\n",
       "       [  3.59544243e+00,   1.65859366e+00,  -3.73228602e-01,\n",
       "          3.94853372e-01,  -1.78648168e+00,   1.39281704e+00,\n",
       "          1.32619238e+00,  -1.69368963e-01,   2.90365130e+00,\n",
       "          1.28097053e+00,  -5.17561412e+00,   1.55188934e+00,\n",
       "          1.99574648e+00,  -3.92042329e+00,  -2.46652977e+00,\n",
       "          3.86343471e-01,  -4.83342690e-02,  -1.64473055e+00,\n",
       "         -1.52345093e+00,  -3.94484548e+00],\n",
       "       [ -3.55002929e+00,  -1.04973383e+00,   9.27037397e-01,\n",
       "         -1.03580132e+00,   2.66640630e+00,   3.87697451e+00,\n",
       "          5.81550984e-01,   3.15246747e+00,   1.86258024e+00,\n",
       "          1.73329746e-02,   1.11342105e+00,   6.53714327e-01,\n",
       "         -2.67182053e+00,  -3.63735017e+00,  -9.66595911e-01,\n",
       "          3.01770417e+00,   1.65821931e+00,  -1.14434356e+00,\n",
       "         -4.46122260e-01,   3.32601092e-01],\n",
       "       [  2.89126016e+00,   1.60888479e+00,   5.32452608e+00,\n",
       "          3.19959985e-01,  -1.53473317e-01,  -2.98904677e+00,\n",
       "          1.34586566e+00,   2.28021350e+00,  -6.89311864e+00,\n",
       "          5.79366259e+00,  -1.51882240e+00,  -4.35681125e+00,\n",
       "          9.31518603e-01,   1.98005037e+00,  -9.32655435e+00,\n",
       "          3.33824894e-01,  -2.19169833e+00,   2.64614370e+00,\n",
       "          1.85086630e+00,   5.37350853e-01],\n",
       "       [ -1.34242934e+00,  -1.38902038e+00,  -2.76910807e+00,\n",
       "         -1.59617187e+00,   3.16121321e-01,  -2.30831787e+00,\n",
       "          1.38665084e-01,   1.89879020e+00,  -7.42246879e+00,\n",
       "         -9.21730172e-01,  -2.07603602e+00,   2.97965315e-01,\n",
       "          1.72583041e-01,   2.53968698e+00,   3.25346977e+00,\n",
       "          4.43348353e+00,  -2.39790247e+00,  -8.50267189e+00,\n",
       "          4.38243907e+00,   1.69385099e+00],\n",
       "       [  1.83897937e+00,  -6.07385308e-01,   1.47176443e+00,\n",
       "          9.90757044e-01,   1.29133411e+00,   8.33040046e-01,\n",
       "         -3.24566502e+00,  -1.29724428e+00,  -7.52137156e-01,\n",
       "          2.60774704e+00,  -1.13485510e+00,  -3.86678185e+00,\n",
       "         -2.30859575e+00,   2.43203338e+00,  -1.69522136e+00,\n",
       "          5.00544582e-01,  -3.13945125e+00,   7.15693735e-01,\n",
       "         -8.93457513e-01,   1.28652390e-01],\n",
       "       [  8.96407930e-01,  -1.60894003e+00,   1.91883759e+00,\n",
       "          3.72290898e+00,   6.21334907e-02,  -4.20574136e+00,\n",
       "         -1.07603768e+00,  -5.58553372e-01,   1.15344097e+00,\n",
       "          1.08785490e+00,  -2.29094496e-01,   7.01999885e-01,\n",
       "         -9.30307959e-01,   1.96133894e+00,  -1.35338238e-02,\n",
       "         -6.37099892e+00,  -2.60281630e+00,   5.41449824e-03,\n",
       "         -4.31270770e+00,   1.84225236e+00],\n",
       "       [  3.98464777e-01,  -2.82697527e+00,   1.38268611e+00,\n",
       "          1.56411625e+00,   1.61768000e+00,  -1.48765177e+00,\n",
       "         -2.79450133e+00,  -6.76405694e+00,  -1.19789471e+00,\n",
       "          6.41032621e+00,   7.00529051e-01,  -3.73421791e+00,\n",
       "         -3.16748858e+00,   2.10360928e+00,   2.67912318e+00,\n",
       "         -1.04316429e+00,  -1.92425419e+00,   2.54955142e-01,\n",
       "         -2.90114176e-01,  -1.24865808e+00],\n",
       "       [ -8.55163863e-01,   1.70677116e+00,  -3.13062539e-01,\n",
       "         -2.46785490e-01,   9.77531270e-01,   1.89592521e+00,\n",
       "          2.83731821e+00,  -8.95423436e-01,  -1.74398261e+00,\n",
       "         -1.48087865e+00,  -1.44795668e+00,   1.25934084e+00,\n",
       "         -2.35610969e+00,  -1.13398602e+00,   2.79562793e+00,\n",
       "          3.06529539e+00,  -3.76841707e+00,   3.37077273e+00,\n",
       "          1.07367984e+00,   2.51467792e+00],\n",
       "       [  2.93641558e+00,   7.84034175e-02,  -1.30205585e+00,\n",
       "          2.16861728e-01,   9.53678345e-01,  -9.02666137e-02,\n",
       "          8.82781781e-01,  -4.31309996e+00,   4.04790775e+00,\n",
       "          1.28166578e+00,   2.14824099e-01,   2.91219296e+00,\n",
       "          7.97884240e-01,  -4.66422230e+00,   2.11060056e+00,\n",
       "         -5.13586730e+00,   7.42558287e-01,   3.12002264e+00,\n",
       "          3.48003458e-02,   6.42303524e+00],\n",
       "       [  1.31075457e+00,   2.49606449e-01,  -1.05401830e+00,\n",
       "         -1.40141288e+00,  -3.20516715e+00,   4.15569554e-01,\n",
       "         -2.20250986e+00,   1.89478013e+00,  -1.06420760e+00,\n",
       "         -1.54253897e+00,   1.87278316e+00,  -1.27314311e-01,\n",
       "          5.06138906e-01,   2.87881236e-01,   7.33482953e-01,\n",
       "         -1.63095013e+00,   1.93009419e+00,  -3.19633253e+00,\n",
       "          7.39458411e-02,  -6.32104508e-01],\n",
       "       [ -5.37428421e-01,   6.39835512e-01,  -1.61095398e+00,\n",
       "         -1.19956108e+00,  -1.32265878e+00,  -2.76388064e+00,\n",
       "         -1.88248470e+00,   1.44820719e+00,   5.18908453e+00,\n",
       "         -2.96077839e+00,  -4.63641663e+00,   2.71335319e+00,\n",
       "          1.24588008e-01,   8.83676276e-01,   3.16511090e+00,\n",
       "          5.11857628e+00,   2.45604390e+00,  -2.58523786e+00,\n",
       "         -1.34364504e+00,   3.31021378e+00],\n",
       "       [  1.33476283e+00,   2.73041403e-01,  -1.21620577e+00,\n",
       "          1.14250054e+00,  -1.14381490e+00,  -3.41698295e+00,\n",
       "          2.86543557e+00,   1.44843405e+00,   1.45467862e+00,\n",
       "         -4.66713219e+00,  -3.05286046e+00,  -2.16545568e+00,\n",
       "          2.91536470e-01,  -6.15038824e-01,  -3.48023693e+00,\n",
       "         -4.53841534e+00,   1.99321276e+00,   4.36874784e+00,\n",
       "         -2.34309941e+00,  -2.17502930e+00],\n",
       "       [ -3.45191070e+00,   3.11710470e+00,  -1.55343207e-01,\n",
       "         -5.39522536e-01,  -3.99675014e+00,  -3.89020247e+00,\n",
       "          1.34537643e+00,   1.85607778e+00,  -3.21953633e+00,\n",
       "         -8.43643501e-02,  -2.29603777e+00,  -1.31059482e+00,\n",
       "         -1.28426523e+00,   3.51838532e+00,  -3.20990708e+00,\n",
       "         -2.97162042e+00,   2.48715813e+00,  -6.59098961e+00,\n",
       "         -3.37103837e-01,  -1.78964187e+00],\n",
       "       [ -3.26149431e+00,  -2.80745181e-01,   2.46420010e-01,\n",
       "         -1.09266304e+00,  -9.33592574e-01,  -2.07771156e+00,\n",
       "         -4.16432723e+00,   1.48397511e+00,  -3.46900719e-01,\n",
       "          9.41748240e-01,  -5.74575883e+00,  -3.72104280e+00,\n",
       "         -5.12813882e+00,   7.84864701e-03,  -5.01669396e-01,\n",
       "         -2.62773082e+00,  -6.42062890e+00,   6.14391389e+00,\n",
       "         -1.76235054e+00,   2.16539482e+00],\n",
       "       [  2.41046036e+00,  -3.31835904e+00,  -3.54711639e+00,\n",
       "         -2.29730809e+00,   3.06980218e+00,   1.55199468e-01,\n",
       "         -1.67222586e+00,  -3.56509437e+00,  -1.27917336e+01,\n",
       "          1.58913495e+00,  -4.06546306e+00,   3.04676591e+00,\n",
       "         -1.48834224e-01,   2.43084706e+00,   3.94428741e+00,\n",
       "          6.58911398e-01,  -5.94770770e-01,  -4.92911377e+00,\n",
       "          1.14244479e+00,  -1.48382691e+00],\n",
       "       [ -9.48904614e-01,  -2.03901250e+00,   1.13151462e+00,\n",
       "          3.03218449e-01,   5.38884774e+00,   1.89866954e+00,\n",
       "         -1.62297469e+00,  -1.89488430e+00,  -3.80246924e+00,\n",
       "          3.80402385e+00,  -3.73365204e+00,  -2.56694065e-01,\n",
       "          9.58097669e-01,  -2.75052076e+00,  -1.79533078e+00,\n",
       "         -3.34582052e+00,   7.18981624e-01,   5.13742215e+00,\n",
       "          3.14494677e-01,  -1.30552858e+00],\n",
       "       [ -1.63256499e+00,  -2.89886371e+00,   7.77890857e-01,\n",
       "          1.31401465e+00,  -1.75880083e-01,  -2.62158260e-01,\n",
       "          4.10296394e+00,   5.83354148e+00,  -1.49770023e+00,\n",
       "          1.10793488e+00,  -3.80031138e+00,   2.88652981e+00,\n",
       "         -1.18103169e+00,   1.01026992e+00,  -3.14581641e+00,\n",
       "          4.95532665e+00,   3.79464234e+00,  -3.89255867e+00,\n",
       "          9.89557312e-01,  -2.09234307e+00],\n",
       "       [  2.05670470e+00,   5.32593722e+00,  -6.82649376e-01,\n",
       "         -6.95232652e-01,   1.28268431e+00,  -2.07036694e+00,\n",
       "         -2.44894370e+00,  -1.00056730e+00,   1.33538187e+00,\n",
       "         -2.14970605e+00,   1.73033393e+00,   3.23294673e+00,\n",
       "         -3.80136577e+00,  -1.27364959e+00,  -1.84763128e+00,\n",
       "         -3.13180574e+00,  -1.86612433e+00,   2.86962154e-01,\n",
       "          2.41408533e+00,  -3.95854962e+00]])"
      ]
     },
     "execution_count": 27,
     "metadata": {},
     "output_type": "execute_result"
    }
   ],
   "source": [
    "C_out"
   ]
  },
  {
   "cell_type": "markdown",
   "metadata": {},
   "source": [
    "## Reconstruction error "
   ]
  },
  {
   "cell_type": "code",
   "execution_count": 42,
   "metadata": {
    "collapsed": false
   },
   "outputs": [
    {
     "data": {
      "text/plain": [
       "[<matplotlib.lines.Line2D at 0x7f87e479f7d0>]"
      ]
     },
     "execution_count": 42,
     "metadata": {},
     "output_type": "execute_result"
    },
    {
     "data": {
      "image/png": "[encoded data removed]",
      "text/plain": [
       "<matplotlib.figure.Figure at 0x7f87e481c850>"
      ]
     },
     "metadata": {},
     "output_type": "display_data"
    }
   ],
   "source": [
    "plt.plot(np.arange(len(errors[:1000])), errors[:1000])"
   ]
  },
  {
   "cell_type": "code",
   "execution_count": 192,
   "metadata": {
    "collapsed": false
   },
   "outputs": [
    {
     "name": "stdout",
     "output_type": "stream",
     "text": [
      "15.6544623223\n"
     ]
    }
   ],
   "source": [
    "x = np.random.randn(5,5,5)\n",
    "y = np.random.randn(5,5,5)\n",
    "z = np.linalg.norm(x-y)\n",
    "print z"
   ]
  },
  {
   "cell_type": "code",
   "execution_count": 185,
   "metadata": {
    "collapsed": false
   },
   "outputs": [
    {
     "data": {
      "text/plain": [
       "array([ 0.34027331,  0.34275975,  0.34387215,  0.34467118,  0.34518312,\n",
       "        0.34504741,  0.34534157,  0.34521119,  0.34540749,  0.34531679,\n",
       "        0.34522912,  0.3453987 ,  0.34510431,  0.34525209,  0.34543887,\n",
       "        0.34507937,  0.34536944,  0.345174  ,  0.34544794,  0.3453643 ,\n",
       "        0.34512378,  0.34548687,  0.34490133,  0.34546721,  0.34526454,\n",
       "        0.34540801,  0.34502975,  0.34524664,  0.34543309,  0.34515408])"
      ]
     },
     "execution_count": 185,
     "metadata": {},
     "output_type": "execute_result"
    }
   ],
   "source": [
    "errors[20:50]"
   ]
  },
  {
   "cell_type": "code",
   "execution_count": 53,
   "metadata": {
    "collapsed": false
   },
   "outputs": [
    {
     "name": "stdout",
     "output_type": "stream",
     "text": [
      "4.37427530257\n"
     ]
    }
   ],
   "source": [
    "s, A_out, B_out, C_out, errors=TFGDCANDECOMP(X, 2)\n",
    "print(errors[-1])"
   ]
  },
  {
   "cell_type": "code",
   "execution_count": 100,
   "metadata": {
    "collapsed": true
   },
   "outputs": [],
   "source": [
    "a = np.random.randn(3,3)\n",
    "b = np.random.randn(3,3)\n",
    "c = np.random.randn(3,3)"
   ]
  },
  {
   "cell_type": "code",
   "execution_count": 101,
   "metadata": {
    "collapsed": true
   },
   "outputs": [],
   "source": [
    "d = np.vstack([a,b,c])"
   ]
  },
  {
   "cell_type": "code",
   "execution_count": 113,
   "metadata": {
    "collapsed": true
   },
   "outputs": [],
   "source": [
    "a = np.random.randn(3,3,3)"
   ]
  },
  {
   "cell_type": "code",
   "execution_count": 45,
   "metadata": {
    "collapsed": true
   },
   "outputs": [],
   "source": [
    "x = np.array([[2,3,4],[8,3,2]])"
   ]
  },
  {
   "cell_type": "code",
   "execution_count": 46,
   "metadata": {
    "collapsed": false
   },
   "outputs": [
    {
     "data": {
      "text/plain": [
       "array([[2, 3, 4],\n",
       "       [8, 3, 2]])"
      ]
     },
     "execution_count": 46,
     "metadata": {},
     "output_type": "execute_result"
    }
   ],
   "source": [
    "x"
   ]
  },
  {
   "cell_type": "code",
   "execution_count": 47,
   "metadata": {
    "collapsed": false
   },
   "outputs": [
    {
     "data": {
      "text/plain": [
       "array([[4, 3, 2],\n",
       "       [2, 3, 8]])"
      ]
     },
     "execution_count": 47,
     "metadata": {},
     "output_type": "execute_result"
    }
   ],
   "source": [
    "x[:,[2,1,0]]"
   ]
  },
  {
   "cell_type": "code",
   "execution_count": 117,
   "metadata": {
    "collapsed": false
   },
   "outputs": [
    {
     "data": {
      "text/plain": [
       "array([[ 0.33477577,  0.73516376, -0.4998847 ],\n",
       "       [-0.46269137, -0.15099122, -0.84064781],\n",
       "       [ 0.14611607, -1.4009178 ,  1.04538776]])"
      ]
     },
     "execution_count": 117,
     "metadata": {},
     "output_type": "execute_result"
    }
   ],
   "source": [
    "a[0,:,:]"
   ]
  },
  {
   "cell_type": "code",
   "execution_count": 114,
   "metadata": {
    "collapsed": false
   },
   "outputs": [
    {
     "data": {
      "text/plain": [
       "array([[[ 0.33477577,  0.73516376, -0.4998847 ],\n",
       "        [-0.46269137, -0.15099122, -0.84064781],\n",
       "        [ 0.14611607, -1.4009178 ,  1.04538776]],\n",
       "\n",
       "       [[ 1.77997843,  0.23833368,  1.19748234],\n",
       "        [ 1.78604912,  0.79989029,  0.28435161],\n",
       "        [ 0.32870673,  0.26786826, -1.11254461]],\n",
       "\n",
       "       [[ 0.9083464 ,  0.60232589, -0.76276641],\n",
       "        [ 0.26520348, -1.16181628, -0.84963512],\n",
       "        [-0.99977988, -1.31406384,  0.24580542]]])"
      ]
     },
     "execution_count": 114,
     "metadata": {},
     "output_type": "execute_result"
    }
   ],
   "source": [
    "a"
   ]
  },
  {
   "cell_type": "code",
   "execution_count": 115,
   "metadata": {
    "collapsed": false
   },
   "outputs": [
    {
     "data": {
      "text/plain": [
       "array([[ 0.33477577,  0.73516376, -0.4998847 ],\n",
       "       [ 1.77997843,  0.23833368,  1.19748234],\n",
       "       [ 0.9083464 ,  0.60232589, -0.76276641]])"
      ]
     },
     "execution_count": 115,
     "metadata": {},
     "output_type": "execute_result"
    }
   ],
   "source": [
    "a[:,0,:]"
   ]
  },
  {
   "cell_type": "code",
   "execution_count": 116,
   "metadata": {
    "collapsed": false
   },
   "outputs": [
    {
     "data": {
      "text/plain": [
       "array([[ 0.33477577,  1.77997843,  0.9083464 ],\n",
       "       [ 0.73516376,  0.23833368,  0.60232589],\n",
       "       [-0.4998847 ,  1.19748234, -0.76276641]])"
      ]
     },
     "execution_count": 116,
     "metadata": {},
     "output_type": "execute_result"
    }
   ],
   "source": [
    "a[:,0,:].T"
   ]
  },
  {
   "cell_type": "code",
   "execution_count": 104,
   "metadata": {
    "collapsed": false
   },
   "outputs": [
    {
     "data": {
      "text/plain": [
       "array([[-0.70877709,  0.76538051,  0.99385503],\n",
       "       [ 0.58481432, -0.00554075, -0.66315536],\n",
       "       [ 1.45840143, -0.34103246,  0.1728013 ]])"
      ]
     },
     "execution_count": 104,
     "metadata": {},
     "output_type": "execute_result"
    }
   ],
   "source": [
    "b"
   ]
  },
  {
   "cell_type": "code",
   "execution_count": 102,
   "metadata": {
    "collapsed": false
   },
   "outputs": [
    {
     "data": {
      "text/plain": [
       "array([[-0.15107711, -0.83603289, -0.62147123],\n",
       "       [ 0.37180529, -0.0428617 , -0.61938033],\n",
       "       [ 0.90780905, -0.69124978,  0.34590339],\n",
       "       [-0.70877709,  0.76538051,  0.99385503],\n",
       "       [ 0.58481432, -0.00554075, -0.66315536],\n",
       "       [ 1.45840143, -0.34103246,  0.1728013 ],\n",
       "       [ 0.40902105, -1.26763347, -1.06252867],\n",
       "       [ 0.77206898,  0.97532266,  1.37732756],\n",
       "       [-0.05149544,  0.17028907,  0.16058295]])"
      ]
     },
     "execution_count": 102,
     "metadata": {},
     "output_type": "execute_result"
    }
   ],
   "source": [
    "d"
   ]
  },
  {
   "cell_type": "code",
   "execution_count": 48,
   "metadata": {
    "collapsed": false
   },
   "outputs": [
    {
     "data": {
      "text/plain": [
       "[<matplotlib.lines.Line2D at 0x7fcf5876a4d0>]"
      ]
     },
     "execution_count": 48,
     "metadata": {},
     "output_type": "execute_result"
    },
    {
     "data": {
      "image/png": "[encoded data removed]",
      "text/plain": [
       "<matplotlib.figure.Figure at 0x7fcf58756d90>"
      ]
     },
     "metadata": {},
     "output_type": "display_data"
    }
   ],
   "source": [
    "plt.plot(np.arange(len(errors)), errors)"
   ]
  },
  {
   "cell_type": "code",
   "execution_count": 186,
   "metadata": {
    "collapsed": false
   },
   "outputs": [
    {
     "name": "stdout",
     "output_type": "stream",
     "text": [
      "0.88613576748\n"
     ]
    }
   ],
   "source": [
    "s, A_out, B_out, C_out, errors=TFGDCANDECOMP(X, 3)\n",
    "print(errors[-1])"
   ]
  },
  {
   "cell_type": "code",
   "execution_count": 187,
   "metadata": {
    "collapsed": false
   },
   "outputs": [
    {
     "name": "stdout",
     "output_type": "stream",
     "text": [
      "0.555491501916\n"
     ]
    }
   ],
   "source": [
    "s, A_out, B_out, C_out, errors=TFADAMCANDECOMP(X, 3)\n",
    "print(errors[-1])"
   ]
  },
  {
   "cell_type": "code",
   "execution_count": null,
   "metadata": {
    "collapsed": true
   },
   "outputs": [],
   "source": []
  }
 ],
 "metadata": {
  "kernelspec": {
   "display_name": "Python 2",
   "language": "python",
   "name": "python2"
  },
  "language_info": {
   "codemirror_mode": {
    "name": "ipython",
    "version": 2
   },
   "file_extension": ".py",
   "mimetype": "text/x-python",
   "name": "python",
   "nbconvert_exporter": "python",
   "pygments_lexer": "ipython2",
   "version": "2.7.13"
  }
 },
 "nbformat": 4,
 "nbformat_minor": 2
}
