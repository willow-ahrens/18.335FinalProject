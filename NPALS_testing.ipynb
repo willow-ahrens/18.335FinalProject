{
 "cells": [
  {
   "cell_type": "code",
   "execution_count": 137,
   "metadata": {
    "collapsed": false
   },
   "outputs": [
    {
     "name": "stdout",
     "output_type": "stream",
     "text": [
      "The autoreload extension is already loaded. To reload it, use:\n",
      "  %reload_ext autoreload\n"
     ]
    }
   ],
   "source": [
    "%load_ext autoreload\n",
    "%matplotlib inline"
   ]
  },
  {
   "cell_type": "code",
   "execution_count": 138,
   "metadata": {
    "collapsed": true
   },
   "outputs": [],
   "source": [
    "import numpy as np\n",
    "import matplotlib.pyplot as plt\n",
    "from TFGDCANDECOMP import TFGDCANDECOMP\n",
    "from NPALSCANDECOMP import NPALSCANDECOMP\n",
    "from TFADAMCANDECOMP import TFADAMCANDECOMP"
   ]
  },
  {
   "cell_type": "code",
   "execution_count": 31,
   "metadata": {
    "collapsed": true
   },
   "outputs": [],
   "source": [
    "def reconstitute(s,A,B,C):\n",
    "    return np.einsum('r,ir,jr,kr->ijk', s, A, B, C)"
   ]
  },
  {
   "cell_type": "code",
   "execution_count": 140,
   "metadata": {
    "collapsed": true
   },
   "outputs": [],
   "source": [
    "A_true = np.random.randn(4,3)\n",
    "B_true = np.random.randn(4,3)\n",
    "C_true = np.random.randn(4,3)\n",
    "X = np.einsum('ir,jr,kr->ijk', A_true, B_true, C_true)"
   ]
  },
  {
   "cell_type": "code",
   "execution_count": 59,
   "metadata": {
    "collapsed": false
   },
   "outputs": [
    {
     "data": {
      "text/plain": [
       "(4, 4, 4)"
      ]
     },
     "execution_count": 59,
     "metadata": {},
     "output_type": "execute_result"
    }
   ],
   "source": [
    "X.shape"
   ]
  },
  {
   "cell_type": "code",
   "execution_count": 82,
   "metadata": {
    "collapsed": false
   },
   "outputs": [
    {
     "data": {
      "text/plain": [
       "(16, 2)"
      ]
     },
     "execution_count": 82,
     "metadata": {},
     "output_type": "execute_result"
    }
   ],
   "source": [
    "KR(A_true,B_true).shape"
   ]
  },
  {
   "cell_type": "code",
   "execution_count": 174,
   "metadata": {
    "collapsed": false
   },
   "outputs": [
    {
     "name": "stdout",
     "output_type": "stream",
     "text": [
      "0.345434852601\n"
     ]
    }
   ],
   "source": [
    "s, A_out, B_out, C_out, errors = NPALSCANDECOMP(X,3)\n",
    "print errors[-1]"
   ]
  },
  {
   "cell_type": "code",
   "execution_count": 175,
   "metadata": {
    "collapsed": true
   },
   "outputs": [],
   "source": [
    "Y=reconstitute(s,A_out,B_out,C_out)"
   ]
  },
  {
   "cell_type": "code",
   "execution_count": null,
   "metadata": {
    "collapsed": true
   },
   "outputs": [],
   "source": []
  },
  {
   "cell_type": "code",
   "execution_count": 176,
   "metadata": {
    "collapsed": false
   },
   "outputs": [
    {
     "data": {
      "text/plain": [
       "array([[[  8.96188091e-01,   6.55043222e-01,   8.16015235e-01,\n",
       "           2.45529433e-01],\n",
       "        [ -1.96004592e-01,  -1.51332738e+00,  -8.06070032e-01,\n",
       "          -5.02270642e-01],\n",
       "        [  4.13588987e-01,  -7.17375963e-02,   4.52807090e-01,\n",
       "          -3.45731520e-02],\n",
       "        [ -2.29040326e-01,  -1.12625716e+00,  -6.90060522e-01,\n",
       "          -3.72343747e-01]],\n",
       "\n",
       "       [[ -9.88305424e-02,  -7.38543075e-01,  -3.63577891e-01,\n",
       "          -2.48479485e-01],\n",
       "        [ -9.85207470e-01,   6.06168329e+00,   1.38419059e+00,\n",
       "           2.03525405e+00],\n",
       "        [ -4.75752982e-01,   1.54557877e+00,   1.71510014e-01,\n",
       "           5.16511024e-01],\n",
       "        [ -6.52853150e-01,   4.27093521e+00,   1.00888685e+00,\n",
       "           1.43441900e+00]],\n",
       "\n",
       "       [[  1.25331990e+00,   3.13853108e-01,   7.49670285e-01,\n",
       "           1.58075806e-01],\n",
       "        [ -9.30571478e-01,   2.91494463e+00,   7.98054724e-02,\n",
       "           9.96031328e-01],\n",
       "        [  1.95462746e-03,   1.08027324e+00,   7.02308578e-01,\n",
       "           3.32571559e-01],\n",
       "        [ -7.11895960e-01,   1.98722211e+00,  -7.04871507e-02,\n",
       "           6.84587944e-01]],\n",
       "\n",
       "       [[ -3.35449606e+00,  -1.41892308e+00,  -8.80014584e-01,\n",
       "          -7.55528645e-01],\n",
       "        [ -7.81744801e-01,   1.24088469e-01,   5.67842256e-01,\n",
       "          -8.51564498e-02],\n",
       "        [  1.39587955e+00,   4.22890840e-01,  -4.47610752e-01,\n",
       "           3.35218490e-01],\n",
       "        [ -7.76713994e-01,   3.95439655e-02,   5.12203318e-01,\n",
       "          -1.10628795e-01]]])"
      ]
     },
     "execution_count": 176,
     "metadata": {},
     "output_type": "execute_result"
    }
   ],
   "source": [
    "X"
   ]
  },
  {
   "cell_type": "code",
   "execution_count": 177,
   "metadata": {
    "collapsed": false
   },
   "outputs": [
    {
     "data": {
      "text/plain": [
       "array([[[  7.87304790e-01,  -1.61083075e-01,   4.93073138e-01,\n",
       "          -3.71164021e-02],\n",
       "        [ -3.95047726e-01,  -1.27011035e+00,  -7.32964144e-01,\n",
       "          -4.37371655e-01],\n",
       "        [  4.09211769e-01,  -5.69895714e-01,   8.15426782e-02,\n",
       "          -1.83393978e-01],\n",
       "        [ -1.16112507e-01,  -4.32175584e-01,  -2.36590138e-01,\n",
       "          -1.48421486e-01]],\n",
       "\n",
       "       [[  7.53951003e-02,  -1.96855184e-01,  -1.69931483e-02,\n",
       "          -6.48965264e-02],\n",
       "        [ -7.35415095e-01,   6.24673037e+00,   1.74072970e+00,\n",
       "           2.09135806e+00],\n",
       "        [ -2.11429001e-01,   2.11814122e+00,   6.17716129e-01,\n",
       "           7.09874465e-01],\n",
       "        [ -2.46593132e-01,   2.10310867e+00,   5.86787594e-01,\n",
       "           7.04123840e-01]],\n",
       "\n",
       "       [[  5.78444708e-01,  -1.83067234e-01,   3.39368278e-01,\n",
       "          -4.91516206e-02],\n",
       "        [ -5.41114051e-01,   1.36658476e+00,   1.16173616e-01,\n",
       "           4.49039917e-01],\n",
       "        [  2.10527873e-01,   3.66464029e-01,   2.80625974e-01,\n",
       "           1.28148246e-01],\n",
       "        [ -1.69991272e-01,   4.56915784e-01,   4.65101058e-02,\n",
       "           1.50373492e-01]],\n",
       "\n",
       "       [[  4.26658087e-02,  -7.00196736e-02,   5.02837563e-03,\n",
       "          -2.27338932e-02],\n",
       "        [ -2.56856639e-01,   2.07963445e+00,   5.71146113e-01,\n",
       "           6.95977639e-01],\n",
       "        [ -6.24119649e-02,   7.02057973e-01,   2.10132910e-01,\n",
       "           2.35453270e-01],\n",
       "        [ -8.57693605e-02,   7.00056164e-01,   1.92758116e-01,\n",
       "           2.34297418e-01]]])"
      ]
     },
     "execution_count": 177,
     "metadata": {},
     "output_type": "execute_result"
    }
   ],
   "source": [
    "Y"
   ]
  },
  {
   "cell_type": "code",
   "execution_count": 179,
   "metadata": {
    "collapsed": false
   },
   "outputs": [
    {
     "data": {
      "text/plain": [
       "<matplotlib.colorbar.Colorbar at 0x7fced565a150>"
      ]
     },
     "execution_count": 179,
     "metadata": {},
     "output_type": "execute_result"
    },
    {
     "data": {
      "image/png": "[encoded data removed]",
      "text/plain": [
       "<matplotlib.figure.Figure at 0x7fced5795850>"
      ]
     },
     "metadata": {},
     "output_type": "display_data"
    }
   ],
   "source": [
    "plt.pcolor(Y[2])\n",
    "plt.colorbar()"
   ]
  },
  {
   "cell_type": "code",
   "execution_count": 180,
   "metadata": {
    "collapsed": false
   },
   "outputs": [
    {
     "data": {
      "text/plain": [
       "<matplotlib.colorbar.Colorbar at 0x7fced553bf10>"
      ]
     },
     "execution_count": 180,
     "metadata": {},
     "output_type": "execute_result"
    },
    {
     "data": {
      "image/png": "[encoded data removed]",
      "text/plain": [
       "<matplotlib.figure.Figure at 0x7fced5672610>"
      ]
     },
     "metadata": {},
     "output_type": "display_data"
    }
   ],
   "source": [
    "plt.pcolor(X[2])\n",
    "plt.colorbar()"
   ]
  },
  {
   "cell_type": "code",
   "execution_count": 152,
   "metadata": {
    "collapsed": false
   },
   "outputs": [
    {
     "data": {
      "text/plain": [
       "array([[ 0.34962574, -0.34966063, -0.30453736],\n",
       "       [ 0.74084041, -0.7408158 , -0.77093811],\n",
       "       [ 0.51241814, -0.5124337 , -0.49168924],\n",
       "       [ 0.25757519, -0.25756765, -0.26674543]])"
      ]
     },
     "execution_count": 152,
     "metadata": {},
     "output_type": "execute_result"
    }
   ],
   "source": [
    "A_out"
   ]
  },
  {
   "cell_type": "code",
   "execution_count": 154,
   "metadata": {
    "collapsed": false
   },
   "outputs": [
    {
     "data": {
      "text/plain": [
       "array([[-0.82410429,  0.4483718 ,  0.08664174],\n",
       "       [ 0.25453207, -2.20399203,  0.00462517],\n",
       "       [-0.83922848, -1.17616834,  0.20327236],\n",
       "       [ 0.82447701, -0.08685454, -1.18698358]])"
      ]
     },
     "execution_count": 154,
     "metadata": {},
     "output_type": "execute_result"
    }
   ],
   "source": [
    "A_true"
   ]
  },
  {
   "cell_type": "code",
   "execution_count": 155,
   "metadata": {
    "collapsed": false
   },
   "outputs": [
    {
     "data": {
      "text/plain": [
       "array([[-0.34971404, -0.34974972, -0.30569873],\n",
       "       [-0.74088009, -0.74085492, -0.77029685],\n",
       "       [-0.51228183, -0.51229775, -0.49206556],\n",
       "       [-0.25761232, -0.25760461, -0.26657558]])"
      ]
     },
     "execution_count": 155,
     "metadata": {},
     "output_type": "execute_result"
    }
   ],
   "source": [
    "B_out\n"
   ]
  },
  {
   "cell_type": "code",
   "execution_count": 157,
   "metadata": {
    "collapsed": false
   },
   "outputs": [
    {
     "data": {
      "text/plain": [
       "array([[-1.07747856, -0.14870392, -1.79567786],\n",
       "       [ 0.77310672,  1.48025839, -0.85906879],\n",
       "       [-0.72158303,  0.40864698,  1.29396832],\n",
       "       [ 0.71488547,  1.03720045, -0.83805664]])"
      ]
     },
     "execution_count": 157,
     "metadata": {},
     "output_type": "execute_result"
    }
   ],
   "source": [
    "B_true"
   ]
  },
  {
   "cell_type": "code",
   "execution_count": 158,
   "metadata": {
    "collapsed": false
   },
   "outputs": [
    {
     "data": {
      "text/plain": [
       "array([[ 0.81948915,  0.35291325, -1.23440287],\n",
       "       [ 0.52417582, -1.82585238, -0.43617748],\n",
       "       [ 0.88371921, -0.37092172, -0.04230303],\n",
       "       [ 0.18238138, -0.61250175, -0.27474296]])"
      ]
     },
     "execution_count": 158,
     "metadata": {},
     "output_type": "execute_result"
    }
   ],
   "source": [
    "C_true"
   ]
  },
  {
   "cell_type": "code",
   "execution_count": 159,
   "metadata": {
    "collapsed": false
   },
   "outputs": [
    {
     "data": {
      "text/plain": [
       "array([[ 0.34783917,  0.34787446,  0.30329723],\n",
       "       [ 0.74225391,  0.74222914,  0.7718551 ],\n",
       "       [ 0.51135018,  0.51136596,  0.49084616],\n",
       "       [ 0.25804659,  0.258039  ,  0.26705907]])"
      ]
     },
     "execution_count": 159,
     "metadata": {},
     "output_type": "execute_result"
    }
   ],
   "source": [
    "C_out"
   ]
  },
  {
   "cell_type": "code",
   "execution_count": 183,
   "metadata": {
    "collapsed": false
   },
   "outputs": [
    {
     "data": {
      "text/plain": [
       "[<matplotlib.lines.Line2D at 0x7fced52ff410>]"
      ]
     },
     "execution_count": 183,
     "metadata": {},
     "output_type": "execute_result"
    },
    {
     "data": {
      "image/png": "[encoded data removed]",
      "text/plain": [
       "<matplotlib.figure.Figure at 0x7fced536bf90>"
      ]
     },
     "metadata": {},
     "output_type": "display_data"
    }
   ],
   "source": [
    "plt.plot(np.arange(len(errors[:50])), errors[:50])"
   ]
  },
  {
   "cell_type": "code",
   "execution_count": 184,
   "metadata": {
    "collapsed": false
   },
   "outputs": [
    {
     "data": {
      "text/plain": [
       "1.0167537206539741"
      ]
     },
     "execution_count": 184,
     "metadata": {},
     "output_type": "execute_result"
    }
   ],
   "source": [
    "errors[0]"
   ]
  },
  {
   "cell_type": "code",
   "execution_count": 53,
   "metadata": {
    "collapsed": false
   },
   "outputs": [
    {
     "name": "stdout",
     "output_type": "stream",
     "text": [
      "4.37427530257\n"
     ]
    }
   ],
   "source": [
    "s, A_out, B_out, C_out, errors=TFGDCANDECOMP(X, 2)\n",
    "print(errors[-1])"
   ]
  },
  {
   "cell_type": "code",
   "execution_count": 100,
   "metadata": {
    "collapsed": true
   },
   "outputs": [],
   "source": [
    "a = np.random.randn(3,3)\n",
    "b = np.random.randn(3,3)\n",
    "c = np.random.randn(3,3)"
   ]
  },
  {
   "cell_type": "code",
   "execution_count": 101,
   "metadata": {
    "collapsed": true
   },
   "outputs": [],
   "source": [
    "d = np.vstack([a,b,c])"
   ]
  },
  {
   "cell_type": "code",
   "execution_count": 113,
   "metadata": {
    "collapsed": false
   },
   "outputs": [],
   "source": [
    "a = np.random.randn(3,3,3)"
   ]
  },
  {
   "cell_type": "code",
   "execution_count": 117,
   "metadata": {
    "collapsed": false
   },
   "outputs": [
    {
     "data": {
      "text/plain": [
       "array([[ 0.33477577,  0.73516376, -0.4998847 ],\n",
       "       [-0.46269137, -0.15099122, -0.84064781],\n",
       "       [ 0.14611607, -1.4009178 ,  1.04538776]])"
      ]
     },
     "execution_count": 117,
     "metadata": {},
     "output_type": "execute_result"
    }
   ],
   "source": [
    "a[0,:,:]"
   ]
  },
  {
   "cell_type": "code",
   "execution_count": 114,
   "metadata": {
    "collapsed": false
   },
   "outputs": [
    {
     "data": {
      "text/plain": [
       "array([[[ 0.33477577,  0.73516376, -0.4998847 ],\n",
       "        [-0.46269137, -0.15099122, -0.84064781],\n",
       "        [ 0.14611607, -1.4009178 ,  1.04538776]],\n",
       "\n",
       "       [[ 1.77997843,  0.23833368,  1.19748234],\n",
       "        [ 1.78604912,  0.79989029,  0.28435161],\n",
       "        [ 0.32870673,  0.26786826, -1.11254461]],\n",
       "\n",
       "       [[ 0.9083464 ,  0.60232589, -0.76276641],\n",
       "        [ 0.26520348, -1.16181628, -0.84963512],\n",
       "        [-0.99977988, -1.31406384,  0.24580542]]])"
      ]
     },
     "execution_count": 114,
     "metadata": {},
     "output_type": "execute_result"
    }
   ],
   "source": [
    "a"
   ]
  },
  {
   "cell_type": "code",
   "execution_count": 115,
   "metadata": {
    "collapsed": false
   },
   "outputs": [
    {
     "data": {
      "text/plain": [
       "array([[ 0.33477577,  0.73516376, -0.4998847 ],\n",
       "       [ 1.77997843,  0.23833368,  1.19748234],\n",
       "       [ 0.9083464 ,  0.60232589, -0.76276641]])"
      ]
     },
     "execution_count": 115,
     "metadata": {},
     "output_type": "execute_result"
    }
   ],
   "source": [
    "a[:,0,:]"
   ]
  },
  {
   "cell_type": "code",
   "execution_count": 116,
   "metadata": {
    "collapsed": false
   },
   "outputs": [
    {
     "data": {
      "text/plain": [
       "array([[ 0.33477577,  1.77997843,  0.9083464 ],\n",
       "       [ 0.73516376,  0.23833368,  0.60232589],\n",
       "       [-0.4998847 ,  1.19748234, -0.76276641]])"
      ]
     },
     "execution_count": 116,
     "metadata": {},
     "output_type": "execute_result"
    }
   ],
   "source": [
    "a[:,0,:].T"
   ]
  },
  {
   "cell_type": "code",
   "execution_count": 104,
   "metadata": {
    "collapsed": false
   },
   "outputs": [
    {
     "data": {
      "text/plain": [
       "array([[-0.70877709,  0.76538051,  0.99385503],\n",
       "       [ 0.58481432, -0.00554075, -0.66315536],\n",
       "       [ 1.45840143, -0.34103246,  0.1728013 ]])"
      ]
     },
     "execution_count": 104,
     "metadata": {},
     "output_type": "execute_result"
    }
   ],
   "source": [
    "b"
   ]
  },
  {
   "cell_type": "code",
   "execution_count": 102,
   "metadata": {
    "collapsed": false
   },
   "outputs": [
    {
     "data": {
      "text/plain": [
       "array([[-0.15107711, -0.83603289, -0.62147123],\n",
       "       [ 0.37180529, -0.0428617 , -0.61938033],\n",
       "       [ 0.90780905, -0.69124978,  0.34590339],\n",
       "       [-0.70877709,  0.76538051,  0.99385503],\n",
       "       [ 0.58481432, -0.00554075, -0.66315536],\n",
       "       [ 1.45840143, -0.34103246,  0.1728013 ],\n",
       "       [ 0.40902105, -1.26763347, -1.06252867],\n",
       "       [ 0.77206898,  0.97532266,  1.37732756],\n",
       "       [-0.05149544,  0.17028907,  0.16058295]])"
      ]
     },
     "execution_count": 102,
     "metadata": {},
     "output_type": "execute_result"
    }
   ],
   "source": [
    "d"
   ]
  },
  {
   "cell_type": "code",
   "execution_count": 48,
   "metadata": {
    "collapsed": false
   },
   "outputs": [
    {
     "data": {
      "text/plain": [
       "[<matplotlib.lines.Line2D at 0x7fcf5876a4d0>]"
      ]
     },
     "execution_count": 48,
     "metadata": {},
     "output_type": "execute_result"
    },
    {
     "data": {
      "image/png": "[encoded data removed]",
      "text/plain": [
       "<matplotlib.figure.Figure at 0x7fcf58756d90>"
      ]
     },
     "metadata": {},
     "output_type": "display_data"
    }
   ],
   "source": [
    "plt.plot(np.arange(len(errors)), errors)"
   ]
  },
  {
   "cell_type": "code",
   "execution_count": 54,
   "metadata": {
    "collapsed": false
   },
   "outputs": [
    {
     "name": "stdout",
     "output_type": "stream",
     "text": [
      "2.92632180985\n"
     ]
    }
   ],
   "source": [
    "s, A_out, B_out, C_out, errors=TFGDCANDECOMP(X, 2)\n",
    "print(errors[-1])"
   ]
  },
  {
   "cell_type": "code",
   "execution_count": null,
   "metadata": {
    "collapsed": true
   },
   "outputs": [],
   "source": []
  }
 ],
 "metadata": {
  "kernelspec": {
   "display_name": "Python 2",
   "language": "python",
   "name": "python2"
  },
  "language_info": {
   "codemirror_mode": {
    "name": "ipython",
    "version": 2
   },
   "file_extension": ".py",
   "mimetype": "text/x-python",
   "name": "python",
   "nbconvert_exporter": "python",
   "pygments_lexer": "ipython2",
   "version": "2.7.13"
  }
 },
 "nbformat": 4,
 "nbformat_minor": 2
}
